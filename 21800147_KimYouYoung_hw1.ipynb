{
 "cells": [
  {
   "cell_type": "markdown",
   "metadata": {},
   "source": [
    "\n",
    "### Homework: solution\n",
    "\n",
    "\n",
    "# 1. [퍼셉트론](https://en.wikipedia.org/wiki/Perceptron) 알고리즘\n",
    "\n",
    "## 1-1. 알고리즘$^{algorithm}$\n",
    "우리가 구하고자 하는 것은 입력값 $x$들을 분류해 낼 수 있는 가중치 $w$인데, [로젠블라트](https://en.wikipedia.org/wiki/Rosenblatt)가 처음 제안한 학습 알고리즘은 다음과 같이 요약할 수 있습니다.\n",
    "\n",
    "1. 가중치를 0 혹은 무작위 작은 수로 초기화 한다.\n",
    "1. 각 학습 자료$^{Training Sample}$ $x^{(i)}$에 대해 다음을 실행한다.\n",
    "\n",
    "    * 출력 $\\hat{y}$를 계산한다. 즉 $\\hat{y} = h\\mathbf{(w^Tx)}$\n",
    "    * 가중치 $w_{j}$를 조정한다. 즉 $w_{j} := w_{j} + ∆w_{j}$\n",
    "<p align=\"center\"><img src=\"https://github.com/idebtor/KMOOC-ML/blob/master/ipynb/images/person.png?raw=true\" width=150></p>\n",
    "<center>그림 4: 마크다운 문서 작성하기</center>"
   ]
  }
 ],
 "metadata": {
  "kernelspec": {
   "display_name": "Python 3",
   "language": "python",
   "name": "python3"
  },
  "language_info": {
   "codemirror_mode": {
    "name": "ipython",
    "version": 3
   },
   "file_extension": ".py",
   "mimetype": "text/x-python",
   "name": "python",
   "nbconvert_exporter": "python",
   "pygments_lexer": "ipython3",
   "version": "3.8.3"
  }
 },
 "nbformat": 4,
 "nbformat_minor": 4
}
