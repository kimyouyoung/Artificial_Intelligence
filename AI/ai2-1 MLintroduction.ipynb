{
 "cells": [
  {
   "cell_type": "markdown",
   "metadata": {},
   "source": [
    "The fear of the LORD is the beginning of knowledge, but fools despise wisdom and discipline. Proverbs 1:7\n",
    "\n",
    "-------\n",
    "\n",
    "# Welcome to \"AI for All\"\n",
    "\n",
    "Lecture Notes by idebtor@gmail.com, Handong Global University"
   ]
  },
  {
   "cell_type": "markdown",
   "metadata": {},
   "source": [
    "\n",
    "# Chapter 2. 기계학습(머신러닝) 소개\n",
    "\n",
    "기계학습 (Machine Learning) - 기계가 학습한다는 말은 무엇을 의미합니까? 믿거나 말거나 이 개념은 컴퓨터가 처음 만들어졌을 때부터 시작된 이야기이니까 이미 6~70년전에 과학자들이 생각해왔던 것입니다. \n",
    "\n",
    "\n",
    "1959년 아더 사무엘 𝐴𝑟𝑡ℎ𝑢𝑟 𝑆𝑎𝑚𝑢𝑒𝑙 은 기계 학습을 \"컴퓨터가 배울 수 있는 능력, 즉 __프로그램으로 정의하지 않아도,__ 컴퓨터가 스스로 학습하여 실행할 수 있는 능력에 대한 연구분야( \"Field of Study that gives computers the ability to learn without being explicitly programmed\")라고 정의했습니다. 앞으로 기계학습을 통해 무엇을 더 잘 할 수 있을지는 우리의 상상력에 달려 있을 것입니다.\n",
    "\n",
    "기계학습과 더불어 인공지능과 딥러닝이란 말을 많이 듣는데, 이 용어도 우리가 정리해둘 필요가 있습니다. 기계학습은 인공 지능 𝐴𝑟𝑡𝑖𝑓𝑖𝑐𝑖𝑎𝑙 𝐼𝑛𝑡𝑒𝑙𝑙𝑖𝑔𝑒𝑛𝑐𝑒 의 한 분야이며, 데이터를 이용하여 학습시키는 방법론입니다.\n",
    "심화학습(혹은 심층학습, Deep Learning)은 다층적인 인공신경망 𝐴𝑁𝑁  알고리즘을 이용한 기계학습의 한 분야입니다.\n",
    "다음과 같이 도식화할 수 있습니다."
   ]
  },
  {
   "cell_type": "markdown",
   "metadata": {},
   "source": [
    "<img src=\"https://github.com/idebtor/KMOOC-ML/blob/master/ipynb/images/AI_ML_DL_diagram.png?raw=true\" width=\"300\">\n",
    "<center>그림 1: 딥러닝, 기계학습, 인공지능 다이어그램</center>"
   ]
  },
  {
   "cell_type": "markdown",
   "metadata": {},
   "source": [
    "## 1. 기계학습은 스스로 규칙을 찾아낸다. \n",
    "\n",
    "기계학습의 핵심은 학습입니다. 기계가 학습한다는 것입니다. 우리가 풀 수 있거나 없거나 아무튼 복잡한 문제와 답을 여러 번 알려주면, 기계가 스스로 문제를 어떻게 푸는지 그 규칙을 알아낸다는 것입니다.\"문제를 어떻게 푸는지 알아낸다\"는 것이 학습입니다. 다른 말로, 예제들과 답을 제공하면 기계가 알아서 공식(__규칙__)을 스스로 찾아내고,다른 문제가 들어오면 자신이 예상한 답을 낼 줄 아는 것이 __학습__입니다. \n",
    "\n",
    "프로그래밍이라는 것은 프로그래머가 주어진 문제를 해결하는 규칙을 알고, 그 규칙을 코딩하여 컴퓨터로 하여금 부지런히 코드를 실행하도록 하는 것입니다. 이것이 바로 전통적인 프로그래밍이며, 컴퓨터는 프로그래머가 정한 규칙대로 동작하는 것입니다. 컴퓨터의 실행 결과를 관찰하면서, 원하는 결과를 얻을 수 있을 때까지, 사람이 코딩 즉 규칙을 수정을 하게 됩니다.  \n",
    "\n",
    "반면에, 기계학습은 사람이 만든 프로그램이긴 하지만, 규칙을 스스로 찾아 수정합니다. 바로 여기서 말하는 규칙을 찾아 수정하는 과정을 __학습(learning)__ 또는 __훈련(training)__이라고 부릅니다. "
   ]
  },
  {
   "cell_type": "markdown",
   "metadata": {},
   "source": [
    "기계학습은 새로운 프로그래밍 패러다임의 장을 열었습니다. 전통적인 프로그래밍 패러다임에서는 규칙(코드)과 이 규칙에 따라 처리될 데이터를 입력하면 답이 출력이 됩니다. 기계학습에서는 데이터와 이 데이터로부터 기대되는 답을 입력하면 규칙이 출력됩니다. 이 규칙에 새로운 데이터를 적용하면 새로운 답을 출력하는 방식이 바로 기계학습니다. \n",
    "\n",
    "<img src=\"https://github.com/idebtor/KMOOC-ML/blob/master/ipynb/images/machine_learning1.png?raw=true\" width=\"300\">\n",
    "<center>그림 2: 전통적인 프로그래밍과 새로운 프로그래밍 패러다임</center>"
   ]
  },
  {
   "cell_type": "markdown",
   "metadata": {},
   "source": [
    "## 2. 기계학습의 학습 방식들\n",
    "\n",
    "기계학습은 학습의 방식에 따라 지도학습(supervised learning), 비지도학습(unsupervised learning), 강화학습(reinforcement learning)으로 분류합니다. 우리는 기계학습의 많은 부분을 차지하고 있는 supervised learning을 중심으로 공부할 예정입니다. "
   ]
  },
  {
   "cell_type": "markdown",
   "metadata": {},
   "source": [
    "### 2.1 지도학습은 입력과 정답(label)으로 모델을 훈련한다. \n",
    "\n",
    "만약 전 날의 습도에 따라 다음 날에 비가 왔는지 안 왔는지 꾸준히 기록했다면, 오늘의 습도만 알아도 그 다음 날 비가 올지 안 올지 예측할 수 있을 것입니다. 이러한 데이터를 가지고 기계는 \"습도가 0.6 이상이면 다음 날에 비가 온다\"는 규칙을 도출해낼 수 있습니다. 또 다른 예로, 사람들의 운전 면허 공부 시간에 따른 면허 시험 합력 여부에 대한  기록 즉 통계가 있다면 이러한 데이터를 바탕으로 모델을 훈련시켜서 \"4.5시간 이상 공부하면 운전면허 시험을 합격한다\"라고 규칙을 얻을 수 있습니다. 이것이 지도학습에 속합니다. 훈련을 시작하기 위하여 필요한 데이터 중에서 정답에 해당하는 데이터는 타깃(target) 혹은 레이블(label)이라고 부릅니다. \n",
    "\n",
    "<img src=\"https://github.com/idebtor/KMOOC-ML/blob/master/ipynb/images/machine_learning2.png?raw=true\" width=\"300\">\n",
    "<center>그림 3: 지도 학습 방법</center>\n"
   ]
  },
  {
   "cell_type": "markdown",
   "metadata": {},
   "source": [
    "위 그림에서 모델을 훈련시키기 위해 사용하는 데이터를 \"훈련 데이터\"라고 부릅니다. 훈련 데이터는 입력(input)과 레이블(label or target, 정답)으로 구성되어 있습니다. 입력은 모델이 풀어야 할 일종의 문제와 같은 것이며, 레이블은 모델이 맞추어야 할 정답과 같은 것입니다. 문제에 대한 답을 주는 방법으로 모델을 훈련시키는 것입니다. 학습을 통해 만들어진 규칙(프로그램)은 모델(model)이라고 하는데, 훈련의 결과로 만들어진 모델은 새로운 입력에 대한 예측을 출력할 수 있습니다.  \n",
    "\n",
    "<img src=\"https://github.com/idebtor/KMOOC-ML/blob/master/ipynb/images/machine_learning3.png?raw=true\" width=\"300\">\n",
    "<center>그림 4: 기계학습 모델의 활용</center>"
   ]
  },
  {
   "cell_type": "markdown",
   "metadata": {},
   "source": [
    "훈련으로 통하여 모델을 완성한 후에는 실전에서 새로운 입력에 대한 예측을 할 수 있습니다. 예를 들면, 습도로 내일 비가에 대한 예보를 할 수 있고, 공부한 시간에 따른 합격 여부를 판단할 수 있습니다. 그런데, 사실상 이러한 종류의 지도학습에서 가장 어려운 일은 모델을 훈련 시키는 일이 아니라 훈련 데이터셋을 만드는 일입니다. "
   ]
  },
  {
   "cell_type": "markdown",
   "metadata": {},
   "source": [
    "### 2.2 비지도학습은 레이블이 없는 데이터를 사용한다.\n",
    "\n",
    "레이블(label or target)이 없는 훈련 데이터셋을 사용하면 비지도학습이라고 말합니다. 신용카드회사에서 카드 고객들의 소비 성형에 따라 그룹을 지정하는 상황을 생각하면 비지도학습의 개념을 쉽게 이해할 수 있을 것입니다. 그룹을 만들기 전까지는 어떤 그룹이 존재하는지 또 몇 개의 그룹으로 만들어야 좋을지 알 수가 없습니다. 비지도학습의 종요한 특징은 레이블(타깃)이 없다는 것입니다. 카드 소유자의 소비 패턴이 얼마나 다양할지 상상하기 어려울 것이며, 레이블이 없으니, 모델의 훈련 결과를 평가하기도 어려울 것입니다. \n",
    "\n",
    "또 다른 예를 들면, 다음과 같이 레이블이 없이 주여진 자료(검은 색)에 대해 스스로 학습하여 자료들을 여러 개의 군집을 유추해내는 학습방법도 비지도학습이라고 합니다. "
   ]
  },
  {
   "cell_type": "markdown",
   "metadata": {},
   "source": [
    "<img src=\"https://github.com/idebtor/KMOOC-ML/blob/master/ipynb/images/Kmeans_animation_withoutWatermark.gif?raw=true\" width=\"300\">\n",
    "<center>그림 5: 비지도학습-군집화 </center>\n",
    "<center> 출처: https://ko.wikipedia.org/wiki/K-평균_알고리즘</center>"
   ]
  },
  {
   "cell_type": "markdown",
   "metadata": {},
   "source": [
    "이러한 군집화(Clustering)은 추천 시스템, 타켓 마케팅, 고객 세분화에 활용되고 있습니다. 비지도 학습 중에 대표적인 \"차원 감소\"는 빅데이터 시각화(feature elicitation), 특성 추출, 구조 탐색(structure discovery), 압축(meaningful compression)에 활용 됩니다. "
   ]
  },
  {
   "cell_type": "markdown",
   "metadata": {},
   "source": [
    "### 2.3 강화학습은 주어진 환경으로부터 피드백을 받아 훈련한다. \n",
    "\n",
    "주어진 환경$^{state}$에서 어떤 행동$^{action}$을 할 때 얻는 보상$^{reward}$을 극대화함으로 학습하는 방법입니다. 강화학습에서는 지도학습과 달리 훈련 데이터셋이 제공되지 않으며, 보상이 주어집니다.  행동을 하는 주체$^{agent}$는 환경을 관찰하고, 이를 기반으로 의사결정을 내려 행동합니다.  이때 환경이 변화하면서 행동의 주체가 어떤 보상을 받습니다. 이를 기반으로 행동의 주체는 더 많은 보상을 얻을 수 있는 방향으로 행동을 학습하게 됩니다. \n"
   ]
  },
  {
   "cell_type": "markdown",
   "metadata": {},
   "source": [
    "<img src=\"https://github.com/idebtor/KMOOC-ML/blob/master/ipynb/images/reinforcementlearning.png?raw=true\"  width=\"400\">\n",
    "<center>그림 6: 강화학습 </center>"
   ]
  },
  {
   "cell_type": "markdown",
   "metadata": {},
   "source": [
    "예를 들면, 행동의 주체를 \"강아지\" 그리고, 환경을 \"먹이 기계\"가 있다고 가정합시다.  강아지는 먹이 기계에서 냄새가 난다는 것을 알게 됩니다. 그러나 어떻게 먹어야 하는지는 모릅니다. 강아지는 기계에 대해 다양한 행동을 시도하다가 어떤 버튼을 눌러 먹이가 조금 나오는 것을 발견하고, 여러 버튼들 중에서 어떤 것을 누르면 물을 마실 수 있게 됩니다.  강아지가 자신의 어떤 행동에 대해 보상을 받게 된 것입니다.  강아지가 자기 행동에 대한 보상을 받으면서 학습하고, 자기가 해야 할 최선을 행동(정책)을 찾아가는 학습 방법이 강화학습입니다. \n",
    "\n",
    "강화학습의 대표적인 예로 2017년에 이세돌 프로 바둑기사와 대국을 펼친 알파고가 있습니다. 체스는 이미 지난 1997년 인간이 컴퓨터에 정복당한 영역 중 하나이지만, 바둑은 복잡성으로 인해 아직까지 정복되지 않고 있는 분야였습니다. 바둑 경기의 경우의 수는 10의 170 제곱에 이릅니다. 이를 숫자로 풀면 우주에 있는 원자의 수보다 더 큰 숫자이지요. 체스와 비교해서도 경우의 수가 10의 100제곱 이상 많은 것이기도 합니다. 알파고는 강화학습을 통해 좋은 수를 두었을 때 그에 대한 보상을 받으면서 학습하여, 자신이 어떤 수를 두어야 하는지 스스로 판단했습니다. </span>\n",
    "\n",
    "강화학습의 또 다른 예로, 영국의 딥마인드$^{Deep \\ Mind}$라는 벤처 회사가 벽돌부수기(아타리 2600 비디오)게임을 강화학습으로 학습하는 과정을 2014년에 발표하였습니다. 컴퓨터에 주어진 입력 정보는 점수와 픽셀 디스플레이뿐이었다고 합니다. 게임의 규칙도 모른 채 게임을 시작했습니다. 컴퓨터가 처음에는 무엇을 하는지 잘 몰랐지만, 벽돌을 깰 때마다 점수$^{reward}$를 주는 방식으로 학습 과정을 거치며, 일정한 시간이 지난 후에는 점점 실력이 좋아지고, 6시간 후에 굉장한 속도로 벽돌을 깨는 것을 [볼 수 있습니다](https://www.youtube.com/watch?v=V1eYniJ0Rnk). 이러한 과정이 논문으로 네이처(2015년 2월, https://www.nature.com/articles/nature14236)에 실렸습니다. \n",
    "\n",
    "그 즈음에 딥마인드는 구글의 한 회사가 됩니다. 그리고 2년 후, 딥마인드는 알파고를 만들어서 이세돌 기사와 대국을 하여 4:1로 이기는 일이 일어난 것입니다. 딥마인드 알파고가 최근에 은퇴를 했다는 소식을 들었습니다\n",
    "\n",
    "강화학습은 능력 습득, 로봇 항법, 실시간 결정, 게임에 많이 사용됩니다. "
   ]
  },
  {
   "cell_type": "markdown",
   "metadata": {},
   "source": [
    "## 3. 규칙이란 가중치와 편향이다. \n",
    "\n",
    "앞에서, 기계학습은 스스로 규칙을 찾아낸다고 했습니다. 그러면, 기계학습이 찾아낸다고 하는 규칙은 과연 무엇일까요? 앞에 지도학습의 예로 소개한 \"공부 시간에 따른 운전면허 시험 합격여부 예측 모델\"의 경우 '공부 시간이 4.5시간 이상이면 합격이다'라는 규칙을 찾아냈습니다. \n",
    "\n",
    "<img src=\"https://github.com/idebtor/KMOOC-ML/blob/master/ipynb/images/machine_learning4.png?raw=true\" width=\"400\">\n",
    "<center>그림 7: 기계학습 모델의 규칙은 가중치와 편향을 말한다</center>\n",
    "\n",
    "실제로 위의 규칙은 어떻게 표현할 수 있을까요? 대부분의 기계학습 알고리즘은 훈련 데이터와 규칙의 관계를 식으로 표현할 수 있습니다. 예를 들면, 위의 경우는 다음과 같은 식을 표현할 수 있습니다. \n",
    "\n",
    "\\begin{align}\n",
    "y &= 0.2 x + 0.1 \\quad \\text{$(pass \\quad if \\ y > 1)$} \\\\\n",
    "y &= a x  + b \\\\\n",
    "output &= weight \\times input + bias\n",
    "\\end{align}\n",
    "\n",
    "\n"
   ]
  },
  {
   "cell_type": "markdown",
   "metadata": {},
   "source": [
    "위의 식에서 $x$는 입력이고, $y$는 출력 즉 예측값(target)입니다. $0.2$와 $0.1$이 바로 __규칙__입니다. 이 규칙을 수학에서는 기울기와 절편이라고 부릅니다. 기계학습에서는 입력과 곱하는 수를 __가중치(weight)__, 더하는 수를 __편향(bias)__이라고 부릅니다. 여기서는 가중치와 편향이 각각 한 개인 간단한 식을 규칙이라고 했지만, 기계학습에서는 이 갯수가 엄청나게 늘어나게 됩니다. "
   ]
  },
  {
   "cell_type": "markdown",
   "metadata": {},
   "source": [
    "## 4. 모델은 기계학습의 수학적 표현이다.\n",
    "\n",
    " 앞에서 만든 수학 식이 일종의 모델입니다. 훈련 데이터로 학습된 기계학습의 규칙을 말합니다. 그리고, 가중치와 편향 등등 출력을 제어하는 매개 변수들을 모델 파라미터 혹은 하이퍼 파라미터(hyperparameter)라 부릅니다. 기계학습의 결과물로 산출되는 것은 곧 매개변수가 주를 이룹니다. 이러한 파이썬 코딩에서는 모델을 하나의 객체로 표현하게 될 것입니다. "
   ]
  },
  {
   "cell_type": "markdown",
   "metadata": {},
   "source": [
    "## 5. 손실 함수로 모델의 규칙을 조정한다. \n",
    "\n",
    " \n",
    "우리가 앞에서 만든 모델을 공부 시간에 따라 시험 합격여부를 잘 예측하는 것 같습니다. 그런데, 만약 훈련 데이터에 다음과 같은 데이터가 있다면 어떻게 되겠습니까?\n",
    "\n",
    "<img src=\"https://github.com/idebtor/KMOOC-ML/blob/master/ipynb/images/machine_learning5.png?raw=true\" width=\"400\">\n",
    "<center>그림 8: 모델의 규칙을 손실 함수로 조정하기</center>\n"
   ]
  },
  {
   "cell_type": "markdown",
   "metadata": {},
   "source": [
    "이전에 만든 모델($y = 0.2 x + 0.1$)에 새로운 입력을 넣어보면, 모델이 예측한 값은 약0.7(불합격)이므로 실제 레이블(합격)과 맞지 않습니다. 모델은 불합격(fail)으로 예측했는데, 실제로는 합격(Pass)인 것입니다. 이러한 경우에 모델의 규칙 즉 가중치와 편향을 수정해야 합니다. 이때 모델의 규칙을 조정하는 기준이 되는 함수를 __손실 함수(loss function)__ 혹은 오차함수(error function)이라고 합니다. 결국은, 훈련을 통해서 이러한 손실(오차)를 최소화 할 수 있도록 가중치와 편향을 수정하는 것이 훈련의 목적입니다. 그래서, 이러한 손실/오차 함수를 __목적 함수__라 부르기도 합니다. \n",
    "\n",
    "여기 예제는 간단히 예측값과 레이블의 차이를 쉽게 계산할 수 있었지만, 복잡한 문제에서는 손실 함수의 최솟값을 효율적으로 찾아가는 것이 상당히 중요합니다. 손실 함수의 최솟값을 효율적으로 찾는 방법을 최적화 알고리즘(optimizer)라고 부릅니다. "
   ]
  },
  {
   "cell_type": "markdown",
   "metadata": {},
   "source": [
    "## 참고문헌\n",
    "\n",
    "- 케라스 창시자에게 배우는 딥러닝, 프랑소와 숄레, 길벗\n",
    "- 핸즈온 머신러닝, 오렐리앙 제롱, 한빛미디어\n",
    "- 딥러닝 입문, 박해선, 이지스 퍼블리싱\n",
    "- 파이썬으로 배우는 기계학습, 김영섭, K-MOOC"
   ]
  },
  {
   "cell_type": "markdown",
   "metadata": {},
   "source": [
    "-------\n",
    "__Be joyful always!__ 1 Thes.5:16"
   ]
  },
  {
   "cell_type": "markdown",
   "metadata": {},
   "source": [
    "The fear of the LORD is the beginning of knowledge, but fools despise wisdom and discipline. Proverbs 1:7\n",
    "\n",
    "-------\n",
    "\n",
    "# Welcome to \"AI for All\"\n",
    "\n",
    "Lecture Notes by idebtor@gmail.com, Handong Global University"
   ]
  },
  {
   "cell_type": "markdown",
   "metadata": {},
   "source": [
    "\n",
    "# Chapter 2. 심화학습(딥러닝) 소개\n",
    "\n",
    "딥러닝(Deep Learning)은 기계학습 (Machine Learning) 알고리즘들 주에 하나인 인공신경망(ANN, Aritificial Neural Network)으로 만든 것입니다. 기계학습 알고리즘에는 앞으로 배우게 될 선형 회귀 혹은 로지스틱 회귀와 같은 알고리즘들이 있습니다. 복잡한 문제를 해결하기 위해 인공신경망을 다양하게 쌓은 것을 딥러닝이라고 합니다(3)"
   ]
  },
  {
   "cell_type": "markdown",
   "metadata": {},
   "source": [
    "<img src=\"https://github.com/idebtor/KMOOC-ML/blob/master/ipynb/images/deep_learning2.png?raw=true\" width=\"400\">\n",
    "<center>그림 1: 딥러닝, 기계학습, 인공지능 다이어그램</center>"
   ]
  },
  {
   "cell_type": "markdown",
   "metadata": {},
   "source": [
    "위 그림에 보면 인공신경망(ANN)이 기계학습의 여러 알고리즘 중 하나라는 것을 알 수 있습니다. 딥러닝은 인공신경망을 사용해 만든 것이므로 인공신경망과 딥러닝을 엄밀하게 구분하지 않습니다. 그래서, 인공신경망(ANN)과 딥러닝(DL)을 함께 표시했습니다. "
   ]
  },
  {
   "cell_type": "markdown",
   "metadata": {},
   "source": [
    "## 1. DL은 인공신경망(ANN)으로 구성됩니다. \n",
    "\n",
    "딥러닝이라는 말은 인공신경망을 여러 겹으로 쌓은 모습에서 유래되었습니다. 하나의 인공뉴론으로 가진 가장 간단한 인공신경망을 그림으로 표현하면 다음과 같습니다. \n",
    "\n",
    "<img src=\"https://github.com/idebtor/KMOOC-ML/blob/master/ipynb/images/simple_node3.png?raw=true\" width=\"300\">\n",
    "<center>그림 2: 두 개의 입력과 편향을 가진 뉴론</center>\n",
    "\n",
    "이처럼 신경망은 입력을 받아 출력으로 전달하는 뉴론(Neuron)으로 구성되어 있습니다.  뇌의 뉴론은 자극을 받아 다음 뉴런을 자극을 적절히 던다하는 역할을 수행한다는 것에 영감을 얻어 붙여진 이름입니다. 예를 들면, 어떤 자극이 왔을 때, 아픈지 아프지 아니한지 뉴론이 결정하여 다음 뉴론에게 전달합니다. 사람의 뇌는 약 850억개의 뉴론$^{neuron}$으로 구성되어 있다고 합니다. 2015년 호주에서 유레카 상을 수상한 이 멋진 사진을 보십시오."
   ]
  },
  {
   "cell_type": "markdown",
   "metadata": {},
   "source": [
    "<img src=\"https://github.com/idebtor/KMOOC-ML/blob/master/ipynb/images/in search of memory_big.jpg?raw=true\" width=\"400\">\n",
    "<center>그림 3: 뉴론과 신경망 </center>\n",
    "<center>출처:[Australian Museum](https://australianmuseum.net.au/image/in-search-of-memory-eureka-prizes), 2015, Victor Anggono </center>"
   ]
  },
  {
   "cell_type": "markdown",
   "metadata": {},
   "source": [
    "이러한 뉴론들을 여러 겹으로 쌓아서 다음과 같은 신경망을 만들어 내는 것이 딥러닝입니다. \n",
    "\n",
    "<table><tr>\n",
    "    <td><img src=\"https://github.com/idebtor/KMOOC-ML/blob/master/ipynb/images/google_cat.jpg?raw=true\" width=\"400\"> </td> \n",
    "    <td><img src=\"https://github.com/idebtor/KMOOC-ML/blob/master/ipynb/images/MNIST-NN1.png?raw=true\" width=\"400\"/></td> \n",
    "</tr></table>\n",
    "<center>그림 7: 딥러닝(좌:이미지 분류, 우:MNIST 데이터셋)</center>\n",
    "<cener> 출처(좌): [Building high-level features using large scale unsupervised learning](https://arxiv.org/abs/1112.6209), 2012, Andrew Ng </center> <br>\n"
   ]
  },
  {
   "cell_type": "markdown",
   "metadata": {},
   "source": [
    "뉴론들이 서로 연결된 망을 신경망$^{neural \\ network}$이라고 합니다. 생물학적 뇌의 기본 단위인 뉴론들이 망$^{network}$으로 연결되어 서로 신호를 전달하면서 필요한 연산을 합니다. 뉴론을 서로 연결하는 시냅스의 수는 100조나 된다고 합니다. 그러니까 요즘 아무리 컴퓨터 기능이 뛰어나도, 병렬로 연결할지라도, 인간 한 사람의 두뇌에서 일어나는 신경망의 연산을 따라갈 수 없는 것입니다.\n",
    "\n",
    "- [In Search of Memory (Eureka Prizes)](https://australianmuseum.net.au/image/in-search-of-memory-eureka-prizes)\n",
    "- [The neurocienteist on call](http://www.suzanaherculanohouzel.com/)"
   ]
  },
  {
   "cell_type": "markdown",
   "metadata": {},
   "source": [
    "## 2. 뉴론의 활성화와 비활성화 \n",
    "\n",
    "앞에서 이미 살펴보았지만, 하나의 뉴론으로 구성된 간단한 인공신경망을 다시 봅니다. \n",
    "\n",
    "<img src=\"https://github.com/idebtor/KMOOC-ML/blob/master/ipynb/images/simple_node3.png?raw=true\" width=\"300\">\n",
    "<center>그림 2: 두 개의 입력과 편향을 가진 뉴론</center>\n",
    "\n",
    "그림에서 볼 수 있는 뉴론의 입력과 출력을 다음과 같이 수학적으로 표현할 수 있습니다.  여기서 $b$를 편향(절편)$^{bias}$이라고 부릅니다.  \n",
    "\n",
    "\\begin{equation}\n",
    "  \\ y =\\begin{cases}\n",
    "   \\ 0 & \\text{if $(b + w_1x_1 + w_2x_2 <= 0) $}\\\\\n",
    "      1 & \\text{if $(b + w_1x_1 + w_2x_2 > 0) $} \\ \\tag{1} \\\\\n",
    "  \\end{cases} \n",
    "\\end{equation}\n",
    "\n",
    "$x$와 $w$에 밑첨자 1이 있다는 것은 앞으로 입력과 가중치가 여러 개가 될 수 있다는 것을 짐작할 수 있습니다.  따라서 2개의 입력 신호를 받는 뉴론의 경우에는 각각의 입력과 가중치가 곱해진 값($w_1x_1 + w_2x_2$)과 편향($b$)이 뉴론에 입력되고 뉴론에서 그 값들의 총합($b + w_1x_1 + w_2x_2$)이 0보다 클 때만 뉴론에서 출력이 이루어집니다. 이 때 그 __'뉴론이 활성화 되었다'__ 라고 말합니다.  "
   ]
  },
  {
   "cell_type": "markdown",
   "metadata": {},
   "source": [
    "여러 개의 입력과 가중치와 더불어 많은 뉴론들이 서로 연결되어 연산이 가능한 인공신경망의 구조를 완성합니다.  기계학습이나 딥러닝은 각 노드를 연결하는 가중치와 편향을 알아내는 것입니다. \n",
    "\n",
    "<span style=\"color:blue\">편향을 사용함으로써, 우리가 만든 인공 뉴론에 유연성을 줄 수 있습니다. 다르게 설명하자면, 편향은 인공 뉴론에서 항상 켜져있는 노드라고 볼 수 있으며, 노드에 들어오는 데이터의 값에 곱해지는 가중치와 다르게 편향은 1의 값이 곱해져서 $wx$ 값에 더해집니다. 인공뉴론 모델에도 $b$로 표기되어 있습니다. \n",
    "    \n",
    "참고로, 계산을 단순하게 하기 위해 일반적으로 [$b, w_1, w_2, ...$] 와 [$1, x_1, x_2, ...$] 를 내적하게 됩니다. 내적은 선형대수학에 나오는 개념이며, 파이썬에서 이러한 연산을 하기 위해 넘파이$^{numpy}$ 라이브러리를 사용합니다.<span> <span style=\"color:green\">넘파이$^{numpy}$는 파이썬에서 제공하는 라이브러리로, 대규모의 데이터를 처리하고 연산하기 위한 배열에 대한 다양한 기능을 제공합니다.</span> <span style=\"color:purple\">넘파이와 관련된 내용은 필요할 때마다 자주 다루도록 하겠습니다.</span>"
   ]
  },
  {
   "cell_type": "markdown",
   "metadata": {},
   "source": [
    "__예제 1__: 학습을 통해 다음의 가중치 $w$가 산출되었고, $bias$와 입력값 $x_0, x_1, x_2$ 가 주어졌다고 가정합시다. 뉴런이 활성화될까요?\n",
    "\n",
    "- $\\mathbf{w} = (w_1, w_2) = (0.6, 0.3)$ \n",
    "- $bias = -0.5$\n",
    "- $(x_1, x_2) = (0, 1)$\n",
    "\n",
    "(1) 활성화 된다<br>\n",
    "(2) 활성화되지 않는다\n",
    "\n",
    "__예제풀이__: (2)\n",
    "\\begin{align}   \n",
    "    w_0 x_0 + w_1 x_1 + w_2 x_2 &= -0.5 + 0.6 \\times 0 + 0.3 \\times 1\\\\\n",
    "    &= -0.2 < 0.0\\\\\n",
    "\\end{align}\n"
   ]
  },
  {
   "cell_type": "markdown",
   "metadata": {},
   "source": [
    "-----------\n",
    "\n",
    "__예제 2__:  학습을 통해 다음의 가중치 $w$가 산출되었고, $bias$ 와 입력값 $x_0, x_1, x_2$ 가 주어졌다고 가정합시다. 뉴런이 활성화될까요?\n",
    "\n",
    "- $\\mathbf{w} = (w_1, w_2) = (0.6, 0.3)$ \n",
    "- $bias = -0.5$\n",
    "- $(x_1, x_2) = (1, 0)$\n",
    "\n",
    "(1) 활성화 된다<br>\n",
    "(2) 활성화되지 않는다\n",
    "\n",
    "__예제풀이__: (1)\n",
    "\n",
    "\\begin{align}   \n",
    "    w_0 x_0 + w_1 x_1 + w_2 x_2 &= -0.5 + 0.6 \\times 1 + 0.3 \\times 0\\\\\n",
    "    &= 0.1 > 0\n",
    "\\end{align}\n"
   ]
  },
  {
   "cell_type": "markdown",
   "metadata": {},
   "source": [
    "## 3. 논리 회로$^{logic \\  gate}$ \n",
    "\n",
    "논리 회로는 하나 이상의 논리적 입력값(참$^{true}$, 거짓$^{false}$)에 대해 논리 연산을 수행하여 하나의 논리적 출력값을 얻는 전자회로입니다.  AND, OR, NOT 회로는 기본적인 불리안 논리 대수를 수행하며, 이런 기본 불리안 대수들의 결합으로 복합적인 논리 기능 즉 NAND, NOR, XOR 같은 다소 복잡한 논리 기능도 수행합니다. \n",
    "\n",
    "다음은 각 논리 회로의 진리표를 보여줍니다. 여기서 $x_1$, $x_2$는 두 개의 입력을 의미하고, 그 외의 다른 열들은 두 입력에 대한 해당 논리 회로(게이트)의 출력을 나타냅니다. 0는 false, 1은 true를 의미합니다. \n",
    "\n",
    "|   $x_1$  |  $x_2$  |  $AND$   |   $NAND$  |  $OR$   | $NOR$   |  $XOR$   |\n",
    "|:--------:|:-------:|:--------:|:---------:|:-------:|:-------:|:--------:|\n",
    "|    0     |    0    |    0     |      1    |    0    |    1    |     0    |\n",
    "|    0     |    1    |    0     |      1    |    1    |    0    |     1    |\n",
    "|    1     |    0    |    0     |      1    |    1    |    0    |     1    |\n",
    "|    1     |    1    |    1     |      0    |    1    |    0    |     0    |\n"
   ]
  },
  {
   "cell_type": "markdown",
   "metadata": {},
   "source": [
    "### 3.1 AND 게이트 구현하기\n",
    "\n",
    "지금까지 배운 것으로 AND(논리곱) 게이트 뉴론을 구현하기로 합시다. 뉴론을 만든다는 것은 곧 AND 함수를 구현하는 것입니다. AND 게이트의 진리표의 입력 $x_1, x_2$ 신호를 보내면 뉴론은 $y$의 값을 출력합니다.  \n",
    "\n",
    "AND 게이트의 진리표는 다음과 같습니다.\n",
    "\n",
    "|   $x_1$  |  $x_2$  |  $y$   |\n",
    "|:--------:|:-------:|:------:|\n",
    "|    0     |    0    |    0   |\n",
    "|    0     |    1    |    0   |\n",
    "|    1     |    0    |    0   |\n",
    "|    1     |    1    |    1   |"
   ]
  },
  {
   "cell_type": "markdown",
   "metadata": {},
   "source": [
    "AND 함수를 구현하기 전에 다음 예제 문제를 풀어보면 우리에게 약간의 단서가 될 만한 정보가 있을 것입니다. \n",
    "\n",
    "\\begin{equation}\n",
    "  \\ y =\\begin{cases}\n",
    "   \\ 0 & \\text{if $(b + w_1x_1 + w_2x_2 <= 0) $}\\\\\n",
    "      1 & \\text{if $(b + w_1x_1 + w_2x_2 > 0) $} \\ \\tag{2} \\\\\n",
    "  \\end{cases} \n",
    "\\end{equation} \n",
    "\n",
    "__예제 3__: AND 게이트를 수행하는 뉴론을 만들고자 합니다. 수식 (2)를 만족시키는 아래의 가중치, 편향의 조합 중에서 AND 게이트를 수행하는 조합을 찾아보세요.\n",
    "\n",
    "(1) $(w_1, w_2) = (0.5, 0.5)$, $b=-0.7$<br>\n",
    "(2) $(w_1, w_2) = (0.5, 0.5)$, $b=-0.3$<br>\n",
    "(3) $(w_1, w_2) = (0.5, 0.5)$, $b=0.2$\n",
    "\n",
    "__예제풀이__: (1)\n",
    "\n",
    "-----------"
   ]
  },
  {
   "cell_type": "markdown",
   "metadata": {},
   "source": [
    "위의 예제에서 사용한 가중치와 편향을 사용해서 아래와 같이 AND 게이트를 수행하는 인공 뉴론을 만들 수 있습니다."
   ]
  },
  {
   "cell_type": "code",
   "execution_count": 8,
   "metadata": {},
   "outputs": [],
   "source": [
    "import numpy as np\n",
    "\n",
    "def AND(x1, x2):\n",
    "    x = np.array([1, x1, x2])         # input\n",
    "    w = np.array([-0.7, 0.5, 0.5])    # bias + weight\n",
    "    return np.dot(x, w) > 0"
   ]
  },
  {
   "cell_type": "code",
   "execution_count": 9,
   "metadata": {},
   "outputs": [
    {
     "name": "stdout",
     "output_type": "stream",
     "text": [
      "AND(False, False) =  False\n",
      "AND(False, True) =  False\n",
      "AND(True, False) =  False\n",
      "AND(True, True) =  True\n"
     ]
    }
   ],
   "source": [
    "print(\"AND(False, False) = \", AND(False, False))\n",
    "print(\"AND(False, True) = \", AND(False, True))\n",
    "print(\"AND(True, False) = \", AND(True, False))\n",
    "print(\"AND(True, True) = \", AND(True, True))"
   ]
  },
  {
   "cell_type": "markdown",
   "metadata": {},
   "source": [
    "여기서 한 가지 유의할 것은 가중치 즉 $w_1, w_2$는 입력이 결과에 주는 영향력을 조절하는 매개변수이며, 편향은 뉴론이 얼마나 쉽게 활성화 되는지를 조정합니다. \n",
    "\n",
    "$b$는 편향으로 구별되기도 하지만 위의 AND 함수에서 입력한 것과 같이 $x_0=1, w_0=b$ 라고 간주하여 $\\mathbf{wx}$로 일괄 처리할 수 있습니다. "
   ]
  },
  {
   "cell_type": "markdown",
   "metadata": {},
   "source": [
    "### 3.2 AND 게이트의 시각화\n",
    "\n",
    "우리가 구현한 AND논리 함수를 식(2)의 조건문을 이용하여 $x_1, x_2$에 대한 2차원 그래프로 그려보면 우리에게 흥미로운 점들을 관찰할 수 있습니다. 우리가 $w_1, w_2$를 각각 `0.5`로 설정했으며, `b` 즉 $-\\theta$를 `-0.7`로 설정했으므로 식(2)의 조건문들은 다음과 같이 됩니다. \n",
    "\n",
    "  \\begin{cases}\n",
    "   -0.7 + 0.5x_1 + 0.5x_2 <= 0 \\\\\n",
    "   -0.7 + 0.5x_1 + 0.5x_2 > 0 \\tag{3} \\\\\n",
    "  \\end{cases} \n",
    "\n",
    "식(3)을 $x_1$을 독립변수, $x_2$를 종속변수로 삼아 다시 표현하면, 일차함수 $y = ax + b$와 같은 형식의 하나의 직선으로 나타낼 수 있습니다.  \n",
    "  \\begin{align}\n",
    "   -0.7 + 0.5x_1 + 0.5x_2 &= 0 \\\\\n",
    "   x_2 &= -\\frac{0.5}{0.5}x_1 + \\frac{0.7}{0.5} \\\\\n",
    "   x_2 &= -x_1 + 1.4 \\tag{4} \\\\ \n",
    "   y &= ax + b \\\\ \n",
    "   \\end{align}\n",
    "\n",
    "식(4)를 그래프로 나타내면 기울기가 `-1.0`이며, $x_2$절편이 `1.4`인 직선입니다.  이 직선을 중심으로 `(1, -1)` 빨간 점을 포함하는 왼쪽 아랫 부분은 $−0.7+0.5x_1+0.5x_2<=0$ 경우이며, `(1, 1)` 파란 점을 포함하는 오른쪽 윗 부분은 $−0.7+0.5x_1+0.5x_2 > 0$ 경우입니다. "
   ]
  },
  {
   "cell_type": "code",
   "execution_count": 10,
   "metadata": {},
   "outputs": [
    {
     "data": {
      "image/png": "[encoded data removed]",
      "text/plain": [
       "<Figure size 432x288 with 1 Axes>"
      ]
     },
     "metadata": {
      "needs_background": "light"
     },
     "output_type": "display_data"
    }
   ],
   "source": [
    "import numpy as np\n",
    "import matplotlib.pyplot as plt  \n",
    "\n",
    "# code to plot the line b + w_1 x_1 + w_2 x_2 = 0\n",
    "w1 = 0.5\n",
    "w2 = 0.5\n",
    "b = -0.7\n",
    "x1 = np.arange(-2.5, 3.5, .5)\n",
    "x2 = -b/w2 - w1/w2*x1\n",
    "    \n",
    "plt.plot(x1, x2)    \n",
    "plt.axhline(0, color='black', linewidth=1)\n",
    "plt.axvline(0, color='black', linewidth=1)\n",
    "plt.axis('equal')\n",
    "plt.grid(True)\n",
    "plt.xlabel('x1')\n",
    "plt.ylabel('x2')\n",
    "#plt.savefig('images\\weights_bias.png')\n",
    "plt.show()"
   ]
  },
  {
   "cell_type": "markdown",
   "metadata": {},
   "source": [
    "### 3.3 가중치의 의미 \n",
    "\n",
    "다음 코드는 난수를 발생하여 만든 몇 개의 점$(x_1, x_2)$들이 직선$(-0.7 + 0.5x_1 + 0.5x_2 = 0)$을 중심으로 어디에 위치하는 볼 수 있습니다.   \n",
    "\n",
    "조건식(3)에 $(x_1, x_2)$을 대입하여 `0`보다 크면 파란 점(bs:blue square)으로, `0`보다 작으면 붉은 점(ro: red o)모양으로 표시한 것입니다. \n",
    "\n",
    "`random.randint(a, b)`는 `a, b`를 포함한 범위에서 정수의 난수를 발생합니다. `random.seed(value)`에서 `value`를 `seed`(씨앗)이라 부르며, 난수를 발생할 때 항상 정해진 난수 즉 예측 가능한 난수를 발생하기 위하여 사용합니다.  물론, `0`이외에 다른 수를 사용하면 또 다른 고유한 난수가 일정하게 발생합니다. "
   ]
  },
  {
   "cell_type": "code",
   "execution_count": 7,
   "metadata": {},
   "outputs": [
    {
     "data": {
      "image/png": "[encoded data removed]",
      "text/plain": [
       "<Figure size 432x288 with 1 Axes>"
      ]
     },
     "metadata": {
      "needs_background": "light"
     },
     "output_type": "display_data"
    }
   ],
   "source": [
    "# code to plot some random dots\n",
    "ndots = 6\n",
    "np.random.seed(0)   \n",
    "px1 = [np.random.randint(-2, 3) for _ in np.arange(ndots)]\n",
    "px2 = [np.random.randint(-1, 3) for _ in np.arange(ndots)]\n",
    "for ipx1, ipx2 in zip(px1, px2):\n",
    "    if (b + w1*ipx1 + w2*ipx2) <= 0:\n",
    "        plt.plot(ipx1, ipx2, 'ro')\n",
    "    else:\n",
    "        plt.plot(ipx1, ipx2, 'bs')\n",
    "\n",
    "# code to plot the line b + w_1 x_1 + w_2 x_2 = 0\n",
    "w1 = 0.5\n",
    "w2 = 0.5\n",
    "b = -0.7\n",
    "x1 = np.arange(-2.5, 3.5, .5)\n",
    "x2 = -b/w2 - w1/w2*x1\n",
    "    \n",
    "plt.plot(x1, x2)    \n",
    "plt.axhline(0, color='black', linewidth=1)\n",
    "plt.axvline(0, color='black', linewidth=1)\n",
    "plt.axis('equal')\n",
    "plt.grid(True)\n",
    "plt.xlabel('x1')\n",
    "plt.ylabel('x2')\n",
    "#plt.savefig('images\\weights_bias.png')\n",
    "plt.show()"
   ]
  },
  {
   "cell_type": "markdown",
   "metadata": {},
   "source": [
    "여기서 우리는 식(4)를 중심으로 몇 개의 점들을 발생하여 어느 지역에 속하는지 판단해 보았습니다.  그러나,  실제적으로는 몇 개의 점들 즉 자료들이 먼저 주어지고 이러한 자료들을 여기처럼 파란점과 붉은 점을 분류할 수 있도록 뉴론이나 신경망의 가중치와 절편을 구하는 과정을 기계 학습 중에 분류$^{classification}$라고 부르며, 이런 과정을 수행하는 뉴론을 분류기$^{classifier}$라고 부릅니다."
   ]
  },
  {
   "cell_type": "markdown",
   "metadata": {},
   "source": [
    "### 3.4 OR Gate Example"
   ]
  },
  {
   "cell_type": "code",
   "execution_count": 11,
   "metadata": {},
   "outputs": [],
   "source": [
    "import numpy as np\n",
    "def OR(x1, x2):\n",
    "    x = np.array([1, x1, x2])         # input\n",
    "    w = np.array([-0.3, 0.5, 0.5])    # bias + weight\n",
    "    return np.dot(x, w) > 0"
   ]
  },
  {
   "cell_type": "code",
   "execution_count": 6,
   "metadata": {},
   "outputs": [
    {
     "name": "stdout",
     "output_type": "stream",
     "text": [
      "OR(False, False) =  False\n",
      "OR(False, True) =  True\n",
      "OR(True, False) =  True\n",
      "OR(True, True) =  True\n"
     ]
    }
   ],
   "source": [
    "print(\"OR(False, False) = \", OR(False, False))\n",
    "print(\"OR(False, True) = \", OR(False, True))\n",
    "print(\"OR(True, False) = \", OR(True, False))\n",
    "print(\"OR(True, True) = \", OR(True, True))"
   ]
  },
  {
   "cell_type": "markdown",
   "metadata": {},
   "source": [
    "## 4. 기계학습과 딥러닝 구별하기\n",
    "\n",
    "딥러닝이 기계학습의 한 분야이긴 하지만, 둘을 굳이 구별하고자 한다면, 둘의 차이를 구별하고자 한다면, '처리하는 데이터'에 따라 구별하면 쉽게 구별이 됩니다. 기계학습에서는 처리하기 힘든 자료를 딥러닝에서는 처리를 잘 하기 때문입니다. 예를 들면, 딥러닝은 음성, 이미지, 텍스트에 관련된 분야의 문제를 잘 해결하며, 기계핫습은 암환자의 검진 데어터 분석이나 회사의 매출 데이터와 같은 정형화딘 데이터에 대한 문제를 잘 해결합니다(3)"
   ]
  },
  {
   "cell_type": "markdown",
   "metadata": {},
   "source": [
    "## Exercise\n",
    "#### (5 문제의 답을 지정된 폴더에 답하십시오)\n",
    "\n",
    "지금까지 우리는 인공지능, 기계학습, 딥러닝을 구분하고 딥러닝이 기계학습의 알고리즘 중 하나인 `인공신경망(ANN)`으로 만든 알고리즘이라는 것을 배웠습니다. \n",
    "\n",
    "다음은 기계학습의 주요 용어들을 정리한 것입니다. 각 설명을 읽고, 빈 칸을 한 단어로 채우며, 주요 개념을 한 번 기억해 보세요. \n",
    "\n",
    "1. `입력(input)`은 훈련(학습) 데이터를 구성하는 대표적인 값 중 하나로, 여기서는 '시간'을 이것으로 사용했습니다. 예를 들어 공부 시간 `6.1`과 `Pass`라는 훈련 데이터가 있다면, `6.1`이 바로 이 값에 해당합니다. \n",
    "\n",
    "1. `타깃(target) or 레이블(label)`은 훈련 데이터를 구성하는 값 중 하나로, 여기서는 `Pass` 혹은 `Fail`을 이 값으로 표시한 것으로 사용했습니다. \n",
    "\n",
    "1. `모델(model)`은 훈련 데이터를 이용하여 만든 일종의 수식으로, 여기서는 이것을 통해 'Pass 혹은 Fail 이이라는 것을 예측'했습니다. 이것을 파이썬 클래스로 구현할 것이며, 이것이 기계학습과 딥러닝의 결과물 중의 하나입니다. \n",
    "\n",
    "1. `규칙`은 훈련 데이터를 이용하여 만든 수식을 구성하는 중요 요소입니다. 여기서는 우리가 다음과 같은 수식을 만든 다음, 0.2, 0.1을 합쳐서 이것이라고 불렀습니다. 기계학습과 딥러닝은 이것을 스스로 찾아내도록 훈련 혹은 학습하는 것입니다. 앞으로 이것을 찾아내고 수정하는 여러 가지 알고리즘을 공부하게 될 것입니다. \n",
    "\n",
    "\\begin{align}\n",
    "y &= 0.2 x + 0.1 \\quad \\text{$(pass \\quad if \\ y > 1)$} \\\\\n",
    "y &= a x  + b \\\\\n",
    "output &= weight \\times input + bias\n",
    "\\end{align}\n"
   ]
  },
  {
   "cell_type": "markdown",
   "metadata": {},
   "source": [
    "## 참고문헌\n",
    "\n",
    "1. 케라스 창시자에게 배우는 딥러닝, 프랑소와 숄레, 길벗\n",
    "1. 핸즈온 머신러닝, 오렐리앙 제롱, 한빛미디어\n",
    "1. 딥러닝 입문, 박해선, 이지스 퍼블리싱\n",
    "1. 파이썬으로 배우는 기계학습, 김영섭, K-MOOC"
   ]
  },
  {
   "cell_type": "markdown",
   "metadata": {},
   "source": [
    "-------\n",
    "__Be joyful always!__ 1 Thes.5:16"
   ]
  },
  {
   "cell_type": "markdown",
   "metadata": {},
   "source": [
    "The fear of the LORD is the beginning of knowledge, but fools despise wisdom and discipline. Proverbs 1:7\n",
    "\n",
    "-------\n",
    "\n",
    "# Welcome to \"AI for All\"\n",
    "\n",
    "Lecture Notes by idebtor@gmail.com, Handong Global University"
   ]
  },
  {
   "cell_type": "markdown",
   "metadata": {},
   "source": [
    "# Chapter 3. 넘파이$^{NumPy}$ 튜토리얼(1/3)\n",
    "\n",
    "## 학습 목표\n",
    "    - 기계학습에서 왜 넘파이를 사용하는지 이해한다\n",
    "    - 넘파이 개념과 기본적인 사용법을 익힌다.\n",
    "\n",
    "## 학습 내용\n",
    "1. 넘파이의 특징\n",
    "2. 왜 넘파이인가? \n",
    "3. 배열의 속성\n",
    "4. 배열의 생성과 출력"
   ]
  },
  {
   "cell_type": "markdown",
   "metadata": {},
   "source": [
    "## 1. 넘파이의 특징\n",
    "NumPy는 '넘파이'라고 읽고, NumPy쓰는 것이 정석입니다. 파이썬 기반 데이터 분석 환경에서 넘파이는 행렬 연산을 위한 핵심 라이브러리입니다. NumPy는 “Numerical Python“의 약자로 대규모 다차원 배열과 행렬 연산에 필요한 다양한 함수를 제공합니다. \n",
    "\n",
    "파이썬 리스트(list) 클래스를 개선하여 만든 넘파이의 `ndarray` 클래스를 사용하면 더 많은 데이터를 더 빠르게 처리할 수 있습니다. 메모리 버퍼에 배열 데이터를 저장하고 처리하는 효율적인 인터페이스를 제공합니다. "
   ]
  },
  {
   "cell_type": "markdown",
   "metadata": {},
   "source": [
    "NumPy는 다음과 같이 기계학습를 구현하는데 상당히 유용한 특징을 갖고 있습니다.\n",
    "\n",
    "- 강력한 N 차원 배열 객체\n",
    "- 정교한 브로드케스팅(Broadcast) 기능\n",
    "- 다양한 선형 대수학 함수와 난수 기능\n",
    "- 범용적 데이터 처리에 사용 가능한 다차원 컨테이너\n",
    "- C/C ++ 및 Fortran 코드 통합 도구"
   ]
  },
  {
   "cell_type": "markdown",
   "metadata": {},
   "source": [
    "파이썬에서 NumPy를 사용할 때, 다음과 같이 numpy 모듈을 “np”로 임포트하여 사용합니다. np로 임포트 하지 않으면, numpy를 사용해야 합니다. Numpy 라이브러리 버전은 다음과 같이 확인 할 수 있습니다."
   ]
  },
  {
   "cell_type": "code",
   "execution_count": null,
   "metadata": {},
   "outputs": [],
   "source": [
    "import numpy\n",
    "numpy.__version__"
   ]
  },
  {
   "cell_type": "code",
   "execution_count": null,
   "metadata": {},
   "outputs": [],
   "source": [
    "import numpy as np\n",
    "np.__version__"
   ]
  },
  {
   "cell_type": "markdown",
   "metadata": {},
   "source": [
    "## 2. 왜 넘파이인가?\n",
    "\n",
    "### 2.1 파이썬 리스트 복습하기\n",
    "\n",
    "넘파이를 실습하기 전에 넘파이 배열과 비슷한 파이썬 리스트를 먼저 복습해봅니다. 다음은 3개의 숫자와 하나의 문자열로 구성된 파이썬 리스트입니다."
   ]
  },
  {
   "cell_type": "code",
   "execution_count": null,
   "metadata": {},
   "outputs": [],
   "source": [
    "alist = [10, 20, 'aim high', 30.5, (1, 2), [1, 2]] \n",
    "print(alist)\n",
    "print(alist[2])"
   ]
  },
  {
   "cell_type": "markdown",
   "metadata": {},
   "source": [
    "리스트는 다른 리스트를 요소로 포함할 수 있습니다. 이렇게 중첩된 배열을 2차원 배열이라고 합니다. 예를 들면, 다음과 같이 만들 수 있습니다. 다만, 배열(array)이라고 할 때는 같은 형식(type)의 자료만으로 요소를 구성해야 합니다.  "
   ]
  },
  {
   "cell_type": "code",
   "execution_count": null,
   "metadata": {},
   "outputs": [],
   "source": [
    "alist = [[10, 20, 30], [50, 60, 70]]"
   ]
  },
  {
   "cell_type": "markdown",
   "metadata": {},
   "source": [
    "이 리스트의 크기는 `2 x 3`(two by three)라고 말합니다. 또는 2개의 행과 3개의 열이 있다고 말합니다. 그리고, 배열의 요소를 선택할 때는 대괄호를 사용합니다. 예를 들어 두 번째 행의 세 번째 열을 선택하면, 70이 출력이 되어야 합니다. 인덱스는 0부터 시작합니다.  "
   ]
  },
  {
   "cell_type": "code",
   "execution_count": null,
   "metadata": {},
   "outputs": [],
   "source": [
    "print(alist[1][2])"
   ]
  },
  {
   "cell_type": "markdown",
   "metadata": {},
   "source": [
    "다차원 배열을 파이썬 리스트로 만들어 사용해도 되지만, 파이썬 리스트로 만든 배열은 배열의 크기가 커질수록 성능이 떨어지는 단점이 있습니다. 넘파이를 사용하면, 이런 성능의 문제가 많이 해결이 됩니다. 예를 들어, 파이썬 리스트의 요소를 모두 더하려면 for 문을 만들어야 합니다. \n",
    "\n",
    "넘파이에서는 배열에 관한 다양한 함수를 제공하기 때문에 반복문을 사용하지 않고도 배열의 합을 계산할 수 있습니다. sum() 함수는 배열의 요소를 모두 더해 주는 함수입니다. "
   ]
  },
  {
   "cell_type": "code",
   "execution_count": null,
   "metadata": {},
   "outputs": [],
   "source": [
    "# compute sum of allist \n",
    "sum = 0\n",
    "for row in alist:\n",
    "    for x in row:\n",
    "        sum += x\n",
    "print(sum)"
   ]
  },
  {
   "cell_type": "code",
   "execution_count": null,
   "metadata": {},
   "outputs": [],
   "source": [
    "# convert a list type to ndarray type  \n",
    "# compute sum of ndarray\n",
    "\n",
    "arr = np.array(alist)\n",
    "print(type(arr))\n",
    "print(np.sum(arr))"
   ]
  },
  {
   "cell_type": "markdown",
   "metadata": {},
   "source": [
    "위의 넘파이 함수의 방법은 반복문을 사용하는 것보다 간편합니다. "
   ]
  },
  {
   "cell_type": "markdown",
   "metadata": {},
   "source": [
    "### 2.2 넘파이의 연산속도\n",
    "\n",
    "넘파이를 사용하면, 다차원 행렬 연산을 손쉽게 할 수 있습니다. 특히, 앞으로 살펴볼 신경망에서 가중치를 계산하게 될 것입니다. 신경망이 복잡해지고 수행해야할 연산이 많아질수록 넘파이를 사용한 연산이 빛을 발하게 됩니다. 하나의 예제를 통해 행렬 연산을 사용해야 하는 이유를 보여드리겠습니다.\n",
    "\n",
    "다음 셀에서는 일백만개의 가중치 w와 입력값 x를 초기화합니다. 그리고, \n",
    "1. 한 경우는 파이썬 리스트 형식의 w, x에 값을 저장하고, 또\n",
    "2. 한 경우는 넘파이 배열 형식의 w_np, x_np에 저장합니다."
   ]
  },
  {
   "cell_type": "code",
   "execution_count": null,
   "metadata": {},
   "outputs": [],
   "source": [
    "import numpy as np\n",
    "\n",
    "n = 1_000_000\n",
    "w = []                # list type\n",
    "x = []\n",
    "for i in range(n):\n",
    "    w.append(1.0)\n",
    "    x.append(1.0000001)\n",
    "\n",
    "w_np = np.array(w)\n",
    "x_np = np.array(x)"
   ]
  },
  {
   "cell_type": "code",
   "execution_count": null,
   "metadata": {},
   "outputs": [],
   "source": [
    "len(w)\n",
    "len(w_np)"
   ]
  },
  {
   "cell_type": "markdown",
   "metadata": {},
   "source": [
    "#### 순입력 구하기: 입력(x)과 가중치(x)의 곱(wx)"
   ]
  },
  {
   "cell_type": "markdown",
   "metadata": {},
   "source": [
    "다음 두 셀은 각각의 데이터 구조에 저장된 __입력과 가중치를 곱한 값__, 즉 $wx$ 의 연산 속도를 보여줍니다. \n",
    "\n",
    "주피터 노트북의 셀 매직 커맨드인 `%%timeit`은 해당 셀을 수행하는데 사용된 시간을 보여줍니다. `time` 커맨드에 대한 자세한 설명은 [링크]( http://ipython.readthedocs.io/en/stable/interactive/magics.html#magic-time)를 통해 확인할 수 있습니다. "
   ]
  },
  {
   "cell_type": "code",
   "execution_count": null,
   "metadata": {},
   "outputs": [],
   "source": [
    "%%timeit\n",
    "total = 0\n",
    "for i in range(n):\n",
    "    total += w[i] * x[i]"
   ]
  },
  {
   "cell_type": "code",
   "execution_count": null,
   "metadata": {},
   "outputs": [],
   "source": [
    "print(total)"
   ]
  },
  {
   "cell_type": "markdown",
   "metadata": {},
   "source": [
    "다음 코드 셀의 None을 적절한 키워드로 대체하십시오. "
   ]
  },
  {
   "cell_type": "code",
   "execution_count": null,
   "metadata": {},
   "outputs": [],
   "source": [
    "%%timeit\n",
    "total_np = np.dot(w_np, x_np)"
   ]
  },
  {
   "cell_type": "code",
   "execution_count": null,
   "metadata": {},
   "outputs": [],
   "source": [
    "0.124/0.000561"
   ]
  },
  {
   "cell_type": "code",
   "execution_count": null,
   "metadata": {},
   "outputs": [],
   "source": [
    "print(total_np)"
   ]
  },
  {
   "cell_type": "markdown",
   "metadata": {},
   "source": [
    "여러분의 컴퓨터 CPU 사양에 따라서 연산속도에는 차이가 있을 것입니다. 제가 사용하는 노트북의 환경에서는 넘파이를 사용한 연산이 비교할 수 없는 정도로 빠르다는것을 확일할 수 있습니다. 그 이유는 기존의 파이썬 리스트를 사용해서 연산을 할 경우 for 반복문이 한줄 한줄 실행되는 반면에, 넘파이 어레이를 사용할 경우 동시에 다양한 연산을 할 수 있기 때문입니다.\n",
    "\n",
    "자, 그러면, 우리가 넘파이를 열공할 이유가 충분한가요?  넘파이 배열의 속성부터 알아보도록 하겠습니다. "
   ]
  },
  {
   "cell_type": "markdown",
   "metadata": {},
   "source": [
    "## 3. 넘파이 배열 속성 \n",
    "\n",
    "### 3.1 shape, rank, axis, ndim, size\n",
    "\n",
    "넘파이 배열은 `ndarray` 클래스입니다. `ndarray` 클래스는 다음과 같은 속성이 있습니다. \n",
    "\n",
    "- ndim -- 차원, 축(axis)의 개수. 축의 갯수를 랭크(rank)라 부릅니다. (그림 1)에서 3D배열은 랭크가 3입니다.\n",
    "- shape -- 크기 혹은 형상, 각 차원에서 배열의 사이즈를 표시하는 튜플입니다. n 행과 m 열을 갖는 매트릭스를 예를들면 shape 은 (n,m) 입니다. shape튜플의 길이는 랭크입니다. (그림 1)에서 3D배열의 형상은 (2, 2, 3)\n",
    "- size -- 배열의 모든 원소(요소)들의 개수입니다. shape의 원소들의 모두 곱한 값과 같습니다. (그림 1)에서 3D배열의 크기는 12입니다.\n",
    "- dtype -- 배열 원소들의 자료 형식, 예를 들면 numpy.int32, numpy.int16, and numpy.float64 입니다. 다음 표에 나열된 것처럼 \"dtype prefix\"로 시작하는 문자열이고, 이 글자 뒤에 오는 숫자는 바이트의 수를 의미합니다. 예를 들면 i8은 8바이트 int를 뜻합니다. U4는 유니코드 4글자 유니코드 문자열을 뜻합니다. 숫자를 생략하면 운영체제에 따라 알맞은 크기를 지저합니다.\n",
    "\n",
    "이러한 속성들을 다음과 같이 출력해볼 수도 있습니다. "
   ]
  },
  {
   "cell_type": "code",
   "execution_count": null,
   "metadata": {},
   "outputs": [],
   "source": [
    "def pprint(arr):\n",
    "    print(\"type:{}, size:{}\".format(type(arr), arr.size))\n",
    "    print(\"shape:{}, ndim/rank:{}, dtype:{}\".format(arr.shape, arr.ndim, arr.dtype))\n",
    "    print(\"Array's Data:\")\n",
    "    print(arr)"
   ]
  },
  {
   "cell_type": "markdown",
   "metadata": {},
   "source": [
    "<img src = \"https://github.com/idebtor/KMOOC-ML/blob/master/ipynb/images/numpy_dtype.png?raw=true\" width = \"600\">"
   ]
  },
  {
   "cell_type": "markdown",
   "metadata": {},
   "source": [
    "이러한 속성들을 알고 있으면, 강의를 들을 때, 코딩할 때, 문서를 참조할 때 상당히 도움이 됩니다.\n",
    "\n",
    "예를 들어 28x28 컬러 사진은 높이가 28, 폭이 28, 각 픽셀은 3개 채널(RGB)로 구성된 데이터 구조를 갖습니다. 즉 컬러 사진 데이터는 형상은 (28, 28, 3)인 3차원 배열이므로 rank 즉 ndim = 3입니다. 그러므로, axis = 0, 1, 2 세 축이 존재합니다. 이와 같은 다차원 배열은 입체적인 데이터 구조를 가지며, 데이터의 차원은 여러 갈래의 데이터 방향을 갖습니다. 다차원 배열의 데이터 방향을 axis로 표현할 수 있습니다.\n",
    "\n",
    "행방향(높이, row), 열방향(폭, column), 채널 방향은 각각 axis=0, axis=1 그리고 axis=2로 지정됩니다. Numpy 집계 𝑎𝑔𝑔𝑟𝑒𝑔𝑎𝑡𝑖𝑜𝑛  함수는 배열 데이터의 집계 방향을 지정하는 axis 옵션을 제공합니다. 집계 함수에는 sum, mean, std, min, max, argmax, median 등등이 있습니다."
   ]
  },
  {
   "cell_type": "markdown",
   "metadata": {},
   "source": [
    "<img src=\"https://github.com/idebtor/KMOOC-ML/blob/master/ipynb/images/ndarray.png?raw=true\" width=\"600\">\n",
    "<center>그림 1: 넘파이 1차원, 2차원 및 3차원 배열과 축(Axis)</center>"
   ]
  },
  {
   "cell_type": "markdown",
   "metadata": {},
   "source": [
    "### 3.2 inf 와 nan\n",
    "\n",
    "넘파이에서는 무한대를 표현하기 위한 `np.inf`(infinity)와 정의할 수 없는 숫자를 나타내는 `np.nan`(not a number)을 사용할 수 있습니다. 다음 예와 같이 1을 0으로 나누려고 하거나 0에 대한 로그 값을 계산하면 무한대인 `np.inf`가 나옵니다. 0을 0으로 나누려고 시도하면 `np.nan`이 나옵니다. "
   ]
  },
  {
   "cell_type": "code",
   "execution_count": null,
   "metadata": {},
   "outputs": [],
   "source": [
    "# You may see some warnings if you don't have the next two lines\n",
    "import warnings;\n",
    "warnings.filterwarnings('ignore');\n",
    "\n",
    "np.array([0, 1, -1, 0]) / np.array([1, 0, 0, 0])"
   ]
  },
  {
   "cell_type": "code",
   "execution_count": null,
   "metadata": {},
   "outputs": [],
   "source": [
    "np.log(0)"
   ]
  },
  {
   "cell_type": "code",
   "execution_count": null,
   "metadata": {},
   "outputs": [],
   "source": [
    "np.exp(-np.inf)"
   ]
  },
  {
   "cell_type": "markdown",
   "metadata": {},
   "source": [
    "## 4. 배열의 생성과 출력\n",
    "\n",
    "\n",
    "\n",
    "### 4.1 1차원 배열 생성\n",
    "\n",
    "먼저 0부터 11까지 나열된 1차원의 배열을 만들고, 속성을 출력해 봅니다. 파이썬 리스트와 보기는 비슷하지만 출력도 좀 다른 것에 유의하길 바랍니다. 파이썬 리스트와 무엇이 다르게 표시되나요?"
   ]
  },
  {
   "cell_type": "code",
   "execution_count": null,
   "metadata": {},
   "outputs": [],
   "source": [
    "import numpy as np\n",
    "a = np.arange(12)\n",
    "print(a)"
   ]
  },
  {
   "cell_type": "markdown",
   "metadata": {},
   "source": [
    "배열을 생성할 때는 하나의 리스트를 인자로 제공해야 합니다. \n",
    "예를 들면, \n",
    "```\n",
    "a = np.array(1,2,3,4)    # wrong\n",
    "a = np.array([1,2,3,4])  # right - list\n",
    "a = np.array((1,2,3,4))  # right - tuple\n",
    "```"
   ]
  },
  {
   "cell_type": "markdown",
   "metadata": {},
   "source": [
    "#### Example 1.  리스트 `[0. 1. 2. ... 11]`를 먼저 생성한 후, ndarray로 변환하고 출력하십시오.  \n",
    "\n",
    "- Python의 리스트 형식과 ndarray 형식의 프린트 출력과 Evaluate 출력의 결과가 서로 다른 것을 관찰하십시오. "
   ]
  },
  {
   "cell_type": "code",
   "execution_count": null,
   "metadata": {},
   "outputs": [],
   "source": [
    "py_list = [ x for x in range(12) ]\n",
    "np_array = np.array(py_list)\n",
    "print('py_list:', py_list)\n",
    "print('np_array:', np_array)"
   ]
  },
  {
   "cell_type": "markdown",
   "metadata": {},
   "source": [
    "### 4.2 배열의 형식과 형상(크기)\n",
    "\n",
    "배열을 생성할 때 배열의 형식$^{type}$과 형상$^{shape}$을 지정할 수 있습니다. shape을 __크기__라고 번역하기도 합니다.  "
   ]
  },
  {
   "cell_type": "markdown",
   "metadata": {},
   "source": [
    "#### Example 1: \n",
    "\n",
    "None을 다른 코드로 대체 하여 아래와 같은 행렬(3 x 4)을 만들어 보십시오. \n",
    "\n",
    "```\n",
    "[[ 0  1  2  3]\n",
    " [ 4  5  6  7]\n",
    " [ 8  9 10 11]]\n",
    "```"
   ]
  },
  {
   "cell_type": "code",
   "execution_count": null,
   "metadata": {},
   "outputs": [],
   "source": [
    "a = np.arange(12).reshape(3, 4)\n",
    "print(a)"
   ]
  },
  {
   "cell_type": "markdown",
   "metadata": {},
   "source": [
    "#### Example 2: 위와 같은 행렬(3 x 4)을 만들되, -1을 활용하여 생성하십시오.   "
   ]
  },
  {
   "cell_type": "code",
   "execution_count": null,
   "metadata": {},
   "outputs": [],
   "source": [
    "#Using -1 \n",
    "a = np.arange(12).reshape(3, -1)\n",
    "print(a)"
   ]
  },
  {
   "cell_type": "code",
   "execution_count": null,
   "metadata": {},
   "outputs": [],
   "source": [
    "#Using -1 \n",
    "\n",
    "a = np.arange(12).reshape(-1, 4)\n",
    "print(a)"
   ]
  },
  {
   "cell_type": "markdown",
   "metadata": {},
   "source": [
    "### 4.3 배열 생성 함수\n",
    "\n",
    "배열에 형상을 튜플로 지정하면, 원소의 값을 초기화해서 배열을 생성하는 다양한 함수들이 있습니다. \n",
    "- zeros -- 지정된 shape의 배열을 생성하고, 원소를 모두 0으로 초기화\n",
    "- zeros_like, ones_like -- 주어진 배열의 shape(형상)을 가져오고, 0 혹은 1로 초기화한 배열을 생성함 \n",
    "- ones -- 지정된 shape의 배열을 생성하고, 원소를 모두 1로 초기화\n",
    "- full -- 지정된 shape의 배열을 생성하고, 원소를 모두 지정한 한 값으로 초기화\n",
    "- empty -- 지정된 shape의 배열을 생성하고, 원소들 모두 임의의 값으로 초기화\n",
    "- eye -- 주 대각선의 모든 원소가 1인 단위 행렬(Unit Matrix)을 생성"
   ]
  },
  {
   "cell_type": "markdown",
   "metadata": {},
   "source": [
    "크기가 정해져 있고 모든 값이 1.0인 배열을 생성하려면 ones()함수를 사용합니다. 인수로는 배열을 크기(shape)를 뜻하는 정수를 넣습니다.\n",
    "\n",
    "\n",
    "#### Example 1: 다음 배열을 생성하십시오.\n",
    "\n",
    "```\n",
    "[[1 1 1 1]\n",
    " [1 1 1 1]\n",
    " [1 1 1 1]]\n",
    " \n",
    "[0 0 0 0 0 0 0]\n",
    "```"
   ]
  },
  {
   "cell_type": "code",
   "execution_count": null,
   "metadata": {},
   "outputs": [],
   "source": [
    "a = np.ones((3, 4), dtype='i')\n",
    "print(a)"
   ]
  },
  {
   "cell_type": "code",
   "execution_count": null,
   "metadata": {},
   "outputs": [],
   "source": [
    "a = np.zeros(7, dtype='i')\n",
    "print(a)"
   ]
  },
  {
   "cell_type": "markdown",
   "metadata": {},
   "source": [
    "#### Example 2: 다음 배열을 생성하십시오. 튜플로 형상을 입력해서 다차원 배열도 만들 수 있습니다\n",
    "```\n",
    "[[[0. 0. 0. 0.]\n",
    "  [0. 0. 0. 0.]\n",
    "  [0. 0. 0. 0.]]\n",
    "\n",
    " [[0. 0. 0. 0.]\n",
    "  [0. 0. 0. 0.]\n",
    "  [0. 0. 0. 0.]]]\n",
    "```"
   ]
  },
  {
   "cell_type": "code",
   "execution_count": null,
   "metadata": {},
   "outputs": [],
   "source": [
    "b = np.zeros((2, 3, 4)) # 3 x 4가 2개 이다.\n",
    "print(b)"
   ]
  },
  {
   "cell_type": "markdown",
   "metadata": {},
   "source": [
    "만약 형상을 튜플로 명시하지 않고 다른 배열과 같은 형상의 배열을 생성하고 싶다면 `ones_like`, `zeros_like` 함수를 사용하면 됩니다. "
   ]
  },
  {
   "cell_type": "code",
   "execution_count": null,
   "metadata": {},
   "outputs": [],
   "source": [
    "d = np.ones_like(b, dtype = \"i\")\n",
    "print(d)"
   ]
  },
  {
   "cell_type": "code",
   "execution_count": null,
   "metadata": {},
   "outputs": [],
   "source": [
    "e = np.ones_like(d, dtype = \"f\")\n",
    "print(e)"
   ]
  },
  {
   "cell_type": "markdown",
   "metadata": {},
   "source": [
    "배열의 형상(크기)가 커지면 배열을 초기화하는데도 시간이 걸립니다. 이 시간을 단축하려면 배열을 생성만 하고 특정한 값으로 초기화를 하지 않는 empty 함수를 사용할 수 있다. 배열의 값은 임의 값으로 채워져 있습니다."
   ]
  },
  {
   "cell_type": "markdown",
   "metadata": {},
   "source": [
    "#### Example 3\n",
    "\n",
    "배열 생성 함수를 사용하여 다음과 코드 셀에서 None을 수정하여 아래와 같은 배열을 생성하십시오. \n",
    "```\n",
    "[[7, 7, 7],\n",
    " [7, 7, 7]]\n",
    "```"
   ]
  },
  {
   "cell_type": "code",
   "execution_count": null,
   "metadata": {},
   "outputs": [],
   "source": [
    "f = np.full((2, 3), 7)\n",
    "f"
   ]
  },
  {
   "cell_type": "markdown",
   "metadata": {},
   "source": [
    "#### Example 4: 배열 생성 함수를 사용하여 다음과 같은 배열을 생성하십시오. \n",
    "\n",
    "```\n",
    "[[[ 0  1]\n",
    "  [ 2  3]\n",
    "  [ 4  5]]\n",
    "\n",
    " [[ 6  7]\n",
    "  [ 8  9]\n",
    "  [10 11]]\n",
    "\n",
    " [[12 13]\n",
    "  [14 15]\n",
    "  [16 17]]\n",
    "\n",
    " [[18 19]\n",
    "  [20 21]\n",
    "  [22 23]]]\n",
    "```"
   ]
  },
  {
   "cell_type": "code",
   "execution_count": null,
   "metadata": {},
   "outputs": [],
   "source": [
    "a = np.arange(24).reshape(4, 3, 2)\n",
    "print(a)"
   ]
  },
  {
   "cell_type": "markdown",
   "metadata": {},
   "source": [
    "### 4.4 데이터 생성 함수와 그래프 그리기\n",
    "\n",
    "사용자가 정하는 조건으로 데이터를 생성한 후, 배열을 만들어 반환하는 함수들입니다. \n",
    "\n",
    "1. `arange([start,] stop[, step,], dtype=None)` <br>\n",
    "  start부터 stop 미만까지 step 간격으로 데이터 생성하여 배열을 반환\n",
    "1. `linspace(start, stop, num=50, endpoint=True, retstep=False, dtype=None)` <br>\n",
    "  start부터 stop의 범위에서 num 개의 데이터를 균일한 간격으로 생성하고 배열을 반환  \n",
    "1. `logspace(start, stop, num=50, endpoint=True, base=10.0, dtype=None)` <br>\n",
    "  start부터 stop의 범위에서 로그 스케일로 num 개의 데이터를 균일한 간격으로 생성하고 배열을 반환"
   ]
  },
  {
   "cell_type": "code",
   "execution_count": null,
   "metadata": {},
   "outputs": [],
   "source": [
    "np.linspace(0, 1)"
   ]
  },
  {
   "cell_type": "code",
   "execution_count": null,
   "metadata": {},
   "outputs": [],
   "source": [
    "np.logspace(0, 1)"
   ]
  },
  {
   "cell_type": "markdown",
   "metadata": {},
   "source": [
    "#### 선 그래프 그리기\n",
    "선 그래프를 그리려면, x축의 값과 y축의 값을 plot()함수에 전달하면 됩니다. 다만, x축의 값을 전달하지 않으면, 0부터 원소의 갯수만큼의 정수로 입력된 것으로 간주합니다. 아래 예제에서는 x축의 값은 `[0 1 2 3 4 5 6 7 8 9]` 입니다.\n",
    "\n",
    "배열 `a`에 저장되어 있는 숫자들을 y축의 값으로 간주하고 그래프를 그립니다. 그래프를 그릴 때 사용하는 line style, marker style, color를 다양하게 설정할 수 있읍니다. 다음은 그 중에 극히 일부입니다. \n",
    "\n",
    "- Line styles: solid line -,  dashed line --, dotted line :, \n",
    "- Marker styles: circle o, square s, . , <, >, ^, v,  \n",
    "- Marker colors: c - cyan, g - green, m - magenta, r - red, k - black, b - bule, y - yellow\n",
    "\n",
    "예를 들면, 함수plot()에 빨간 동그람 점을 표시하는 인자(`or:`)를 전달하면 됩니다"
   ]
  },
  {
   "cell_type": "markdown",
   "metadata": {},
   "source": [
    "#### Example 1. 단순한 직선 그래프"
   ]
  },
  {
   "cell_type": "code",
   "execution_count": null,
   "metadata": {},
   "outputs": [],
   "source": [
    "import numpy as np\n",
    "import matplotlib.pyplot as plt\n",
    "x = np.arange(20)\n",
    "y = np.arange(10)\n",
    "plt.plot(y, 'or--')\n",
    "plt.show()\n"
   ]
  },
  {
   "cell_type": "markdown",
   "metadata": {},
   "source": [
    "#### Example 2. 직선 그래프(red round marker  and dashed line)"
   ]
  },
  {
   "cell_type": "code",
   "execution_count": null,
   "metadata": {},
   "outputs": [],
   "source": [
    "y = np.arange(1, 20, 2)\n",
    "plt.plot(y, 'bs:')\n",
    "plt.show()"
   ]
  },
  {
   "cell_type": "markdown",
   "metadata": {},
   "source": [
    "#### Example 3. Plot with named arguments (options)\n",
    "\n",
    "```\n",
    "plt.plot(y, color='magenta', marker='s', linestyle='dashed', linewidth=2, markersize=12)\n",
    "```"
   ]
  },
  {
   "cell_type": "code",
   "execution_count": null,
   "metadata": {},
   "outputs": [],
   "source": [
    "y = np.arange(10)\n",
    "plt.plot(y, 'mo:', linewidth=2, markersize=12)\n",
    "plt.show()"
   ]
  },
  {
   "cell_type": "markdown",
   "metadata": {},
   "source": [
    "#### Example 4. 산점도(Scatter plot) 그리기\n",
    "\n",
    "자주 사용하는 또 하나의 그래프는 산점도(scatter plot)입니다. 산점도는 데이터의 x축, y축값을 이용하여 점으로 그래프를 그린 것입니다. \n",
    "\n",
    "- Use `marker = '^'` and `color='g'`"
   ]
  },
  {
   "cell_type": "code",
   "execution_count": null,
   "metadata": {},
   "outputs": [],
   "source": [
    "x = np.arange(10)\n",
    "y = np.arange(1, 20, 2)\n",
    "plt.scatter(x, y, marker='o', color='g')"
   ]
  },
  {
   "cell_type": "markdown",
   "metadata": {},
   "source": [
    "#### Example 5. 넘파이 배열 산점도 그리기\n",
    "\n",
    "- Use `np.random.randn(n)`  \n",
    "- Use `marker = v` and `color = red`. "
   ]
  },
  {
   "cell_type": "code",
   "execution_count": null,
   "metadata": {},
   "outputs": [],
   "source": [
    "x = np.random.randn(500)\n",
    "y = np.random.randn(500)\n",
    "plt.scatter(x, y, marker='.', color='g')"
   ]
  },
  {
   "cell_type": "markdown",
   "metadata": {},
   "source": [
    "## Exercise\n",
    "\n",
    "\n",
    "#### 1. Plot `y = sin(x) ` where -pi < x < pi.\n",
    "\n",
    "- `x` 좌표의 배열을 `np.pi` 와 `np.linspace()`를 사용하여 발생하십시오.  \n",
    "- 각 x 좌표에 대한 `np.sin()` 함수의 y 좌표 값을 구하십시오.  \n",
    "- 그러면, 주어진 x, y 값으로 sine curve를 그려냅니다. "
   ]
  },
  {
   "cell_type": "code",
   "execution_count": null,
   "metadata": {},
   "outputs": [],
   "source": [
    "import numpy as np\n",
    "import matplotlib.pyplot as plt\n",
    "\n",
    "x = np.linspace(-np.pi, np.pi)\n",
    "y = np.sin(x)\n",
    "plt.plot(x, y)"
   ]
  },
  {
   "cell_type": "markdown",
   "metadata": {},
   "source": [
    "#### 2. Plot a graph y = log(x) where -1 < x < 3, log is a natural log.\n",
    "\n",
    "- `y = np.log(x)`함수의 그래프($-1 < x < 3 $)를 그려서, `np.log(0)`가 negative infinity에 수렴하고 있는 것을 관찰하십시오."
   ]
  },
  {
   "cell_type": "code",
   "execution_count": null,
   "metadata": {},
   "outputs": [],
   "source": [
    "x = np.linspace(-1, 3)\n",
    "y = np.log(x)\n",
    "plt.grid(True)\n",
    "plt.plot(x, y)"
   ]
  },
  {
   "cell_type": "markdown",
   "metadata": {},
   "source": [
    "#### 3. Plot a graph $ y = e^x $ where -5.0 < x < 2. \n",
    "\n",
    "`y = np.exp(x)`함수의 그래프를 그려서, `np.exp()`의 x가 negative로 커질 때의 수렴하는 값을 관찰하십시오. "
   ]
  },
  {
   "cell_type": "code",
   "execution_count": null,
   "metadata": {},
   "outputs": [],
   "source": [
    "x = np.linspace(-5.0, 2)\n",
    "y = np.exp(x)\n",
    "plt.grid(True)\n",
    "plt.plot(x, y)\n",
    "\n",
    "# 0으로 수렴한다."
   ]
  },
  {
   "cell_type": "markdown",
   "metadata": {},
   "source": [
    "## 학습 정리\n",
    "\n",
    "1. 넘파이의 특징\n",
    "2. 왜 넘파이인가? \n",
    "3. 배열의 속성\n",
    "4. 배열의 생성과 출력"
   ]
  },
  {
   "cell_type": "markdown",
   "metadata": {},
   "source": [
    "### 참고자료\n",
    "- CS231n Convolutional Neural Networks for Visual Recognition, [Python Numpy Tutorial](http://cs231n.github.io/python-numpy-tutorial/), Stanford University\n",
    "- [Python For Data Science Cheat Sheet NumPy Basics](https://s3.amazonaws.com/assets.datacamp.com/blog_assets/Numpy_Python_Cheat_Sheet.pdf), DataCamp\n",
    "- [astroML](http://www.astroml.org/book_figures/appendix/fig_broadcast_visual.html) \n",
    "- Python Numpy Tutorial - http://cs231n.github.io/\n",
    "- 김태완 블로그: [파이썬 데이터 사이언스 Cheat Sheet](http://taewan.kim/post/numpy_cheat_sheet/)"
   ]
  }
 ],
 "metadata": {
  "kernelspec": {
   "display_name": "Python 3",
   "language": "python",
   "name": "python3"
  },
  "language_info": {
   "codemirror_mode": {
    "name": "ipython",
    "version": 3
   },
   "file_extension": ".py",
   "mimetype": "text/x-python",
   "name": "python",
   "nbconvert_exporter": "python",
   "pygments_lexer": "ipython3",
   "version": "3.8.3"
  }
 },
 "nbformat": 4,
 "nbformat_minor": 1
}
