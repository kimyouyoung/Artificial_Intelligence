{
 "cells": [
  {
   "cell_type": "markdown",
   "metadata": {},
   "source": [
    "He has saved us and called us to a holy life — not because of anything we have done but because of his own purpose and grace. This grace was given us in Christ Jesus before the beginning of time. (2 Tim 1:9)  \n",
    "하나님이 우리를 구원하사 거룩하신 소명으로 부르심은 우리의 행위대로 하심이 아니요 오직 자기의 뜻과 영원 전부터 그리스도 예수 안에서 우리에게 주신 은혜대로 하심이라. (딤후1:9)\n",
    "\n",
    "-------\n",
    "\n",
    "# Welcome to \"AI for All\"\n",
    "\n",
    "Lecture Notes by idebtor@gmail.com, Handong Global University"
   ]
  },
  {
   "cell_type": "markdown",
   "metadata": {},
   "source": [
    "\n",
    "# Chapter 3. 텐서(Tensor)\n",
    "\n",
    "전통적으로 텐서를 정의해온 수학적 의미와는 약간의 차이가 있지만, 일반적으로 다차원의 넘파이 배열을 텐서라고 부릅니다. 최근의 모든 기계학습과 딥러닝 시스템은 텐서를 기본 데이터 구조로 사용합니다. 구글의 텐서플로 이름을 여기서 유래했습니다. \n",
    "\n",
    "텐서는 데이터를 저장하는 일종의 Container입니다. 예를 들면, 지금까지 사용해온 행렬은 일종의 2D 텐서입니다. 텐서는 임의의 차원 개수를 가지는 행렬을 일반화한 것이라 생각할 수 있습니다. 텐서에서는 차원(Dimension) 대신에 축(axis)라고 부릅니다. "
   ]
  },
  {
   "cell_type": "markdown",
   "metadata": {},
   "source": [
    "## 1. 스칼라(0 D 텐서)\n",
    "\n",
    "숫자 하나만 담고 있는 텐서를 스칼라(Scalar, 0차원 텐서, 0D 텐서라고 부릅니다. 스칼라 텐서의 축 개수는 0입니다. 텐서의 축 개수를 rank라고도 부릅니다. 넘파이에서 ndim 속성으로 확인할 수 있습니다. "
   ]
  },
  {
   "cell_type": "code",
   "execution_count": null,
   "metadata": {},
   "outputs": [],
   "source": [
    "import numpy as np\n",
    "\n",
    "x = np.array(12)   # x - scalar\n",
    "x.ndim             # x - 축의 개수 0"
   ]
  },
  {
   "cell_type": "markdown",
   "metadata": {},
   "source": [
    "## 2. 벡터(1 D 텐서)\n",
    "\n",
    "숫자의 배열을 벡터(vector) 또는 1D 텐서라고 부릅니다. 벡터는 단 하나의 축을 가집니다. 넘파이에서 벡터를 나타내면 다음과 같습니다.  (단, 행 벡터와 열 벡터는 2D 텐서로 나타내야 합니다.) "
   ]
  },
  {
   "cell_type": "code",
   "execution_count": null,
   "metadata": {},
   "outputs": [],
   "source": [
    "x = np.array([3, 1, 6, 2, 20])\n",
    "x"
   ]
  },
  {
   "cell_type": "code",
   "execution_count": null,
   "metadata": {},
   "outputs": [],
   "source": [
    "x.ndim"
   ]
  },
  {
   "cell_type": "markdown",
   "metadata": {},
   "source": [
    "이 벡터는 5개의 원소를 가지고 있으므로 5차원 벡터라고 부릅니다. 5D 텐서는 아닙니다. 하나의 축을 따라 5개의 차원을 가진 것입니다. 하나의 축을 따라 여러 개의 차원을 가진 벡터가 놓일 수 있습니다. "
   ]
  },
  {
   "cell_type": "markdown",
   "metadata": {},
   "source": [
    "## 3. 행렬(2 D 텐서)\n",
    "\n",
    "행렬은 숫자가 채워진 사각 격자형이며, 두 개의 축 즉 행(row)과 열(column)이 있습니다. 이를 2D 텐서라고 볼 수 있습니다. 넘파이에서 행렬은 다음과 같이 나탸냅니다. "
   ]
  },
  {
   "cell_type": "code",
   "execution_count": null,
   "metadata": {},
   "outputs": [],
   "source": [
    "x = np.array([[1, 2, 3, 4, 5], \n",
    "              [6, 7, 8, 9, 10],\n",
    "              [11, 12, 13, 14, 15]])\n",
    "x.ndim"
   ]
  },
  {
   "cell_type": "markdown",
   "metadata": {},
   "source": [
    "여기서 첫 번째 축에 놓인 원소, 즉 `[1, 5, 9]`를 행이라 부릅니다. 첫 번째 열은 `[1, 2, 3, 4]`입니다. "
   ]
  },
  {
   "cell_type": "markdown",
   "metadata": {},
   "source": [
    "## 4. 3 D 텐서와 고차원 텐서\n",
    "행렬 여러 개로 하나의 새로운 배열로 모으면, 입체 형태로 해석할 수 있는 3D 텐서가 만들어집니다. 넘파이로 3D 텐서를 나타내면 다음과 같습니다. "
   ]
  },
  {
   "cell_type": "code",
   "execution_count": null,
   "metadata": {},
   "outputs": [],
   "source": [
    "x = np.arange(24).reshape(2, 3, 4)\n",
    "y = np.arange(36).reshape(3, 3, 4)\n",
    "print(x)\n",
    "print('x.shape =', x.shape, 'x.ndim =', x.ndim)\n",
    "print()\n",
    "print(y)\n",
    "print('y.shape =', y.shape, 'y.ndim =', y.ndim)"
   ]
  },
  {
   "cell_type": "markdown",
   "metadata": {},
   "source": [
    "3D 텐서들을 하나의 배열로 합치면 4D텐서가 만들어집니다. 기계학습과 딥러닝에서 보통 4D텐서까지 다루고 있으며, 동영상까지 다룰 경우, 5D 텐서까지 확장하기도합니다. "
   ]
  },
  {
   "cell_type": "markdown",
   "metadata": {},
   "source": [
    "## 5. 텐서의 핵심 속성\n",
    "\n",
    "텐서는 3개의 핵심 속성이 있습니다. \n",
    "\n",
    "- 축의 개수(Rank): 행렬은 2개의 축(axis)가 있으며, 3D 텐서에는 3개의 축이 있습니다. `ndim` 속성으로 저장되어 있습니다. \n",
    "- 크기(shape): 형상이라고도 하며, 각 축을 따라 얼마나 많은 차원이 있는지를 나타냅니다. 파이썬의 투플(tuple)로 표기하고, `shape` 속성으로 저장되어 있습니다. 예를 들면, 앞에 나온 행렬의 크기는 `(3, 5)`이고, 3D 텐서는 각각 `(2, 3, 4)`, `(3, 3, 4)`입니다. 벡터의 크기는 `(5,)`처럼 1개의 원소로 이루어진 투플로 표기합니다. 특히, `(5)`가 아니라 `(5, )`인 것은 쉼표(,)가 있어야 원소가 하나인 투플이란 것을 구별할 수 있기 때문입니다. 스칼라는 ()로 표기하고 크기가 없습니다. \n",
    "- 데이터 타입: 넘파이에서는 `dtype`으로 저장됩니다. float32, float64, unit8, int32, char, 등등이 있습니다. "
   ]
  },
  {
   "cell_type": "markdown",
   "metadata": {},
   "source": [
    "### 5.1 Batch Data\n",
    "\n",
    "일반적으로 기계학습에서 사용하는 모든 데이터 텐서의 첫 번째 축(인덱스가 0부터)시작하므로, 0번째 축은 __샘플 축(sample axis)__입니다. 그 다음에 나오는 것이 __특성(feature axis)__입니다. MNIST에서 `x_train.shape = (60000, 28, 28)`이라면 60000만은 샘플 축이며, 특성 축은 28, 28입니다. \n",
    "\n",
    "신경망 모델은 한번에 전체 데이터셋을 처리하지 않습니다. 그 대신 데이터를 작은 배치(batch, 묶음)으로 나눕니다. MNIST 예를 들면, batch 크기를 128로 하면, 첫 번째 배치는 다음과 같습니다. \n",
    "\n",
    "`batch = x_train[:128]`\n",
    "\n",
    "그 다음 배치는 다음과 같습니다. \n",
    "\n",
    "`batch = x_train[128:256]`\n",
    "\n",
    "그리고, n 번째 배치는 다음과 같습니다. \n",
    "\n",
    "`batch = x_train[128 * n: 128 * (n + 1)]`\n",
    "\n",
    "이런 배치 데이터를 다룰 때는 첫 번째 축을 배치 축(batch axis or batch dimension)이라고 부릅니다. "
   ]
  },
  {
   "cell_type": "markdown",
   "metadata": {},
   "source": [
    "### 5.2. Vector Data\n",
    "\n",
    "가장 일반적으로 많이 쓰이는 벡터 데이터셋에서는 하나의 데이터 포인트가 벡터로 인코딩될 수 있으므로, 배치 데이터는 2D 텐서로 인코딩됩니다. 왜냐하면, 첫 번째 축은 샘플 축이 되고, 그 다음에 나오는 벡터가 한 축을 담당하기 때문입니다. 두 번째 나오는 축은 특성 축(feature axis)입니다. \n",
    "\n",
    "#### Example 1:\n",
    "예를 들면, 사람의 나이, 우편 번호, 소득으로 구성된 인구 통계 데이터입니다. 각 사람은 3개의 값을 가진 벡터로 구성이 됩니다. 만 명에 대한 이런 자료가 있다면, 이 데이터셋은 (10000, 3) 크기의 텐서에 저장할 수 있습니다. \n",
    "\n",
    "데이터에서 시간이 중요한 경우, 시간이 또한 포함하여 3D 텐서로 저장됩니다. \n",
    "\n",
    "#### Example 2:\n",
    "예를 들어, 분 단위로 현재 주식 가격, 지난 일분간의 최고 가격, 최저 가격을 저장한다고 하면, 이것은 3D벡터로 인코딩 됩니다. 하루에 390분(오전 9:00 ~ 오후3:30)동안 거래하므로, 하루 데이터는 (390, 3)크기의 2D텐서에 인코딩할 수 있습니다. 250일간 거래 데이터셋이라고 하면, 이는 (250, 390, 3)크기의 3D텐서에 저장할 수 있습니다. 여기서 1일치 데이터가 하나의 샘플이 됩니다. \n",
    "\n",
    "#### Example 3:\n",
    "트윗 데이터셋: 각 트윗은 128개의 알파벳으로 구성된 280개의 문자 시퀀스입니다. 여기에서는 각 문자가 128개의 크기인 이진 벡터로 인코딩될 수 있습니다(해당 문자의 인덱스만 1이고 나머지는 모두 0인 벡터). 그러면 각 트윗은 (280, 128) 크기의 2D 텐서로 인코딩될 수 있습니다. 100만 개의 트윗으로 구성된 데이터셋은 (1000000, 280, 128) 크기의 텐서에 저장됩니다."
   ]
  },
  {
   "cell_type": "markdown",
   "metadata": {},
   "source": [
    "### 5.3 Image Data \n",
    "이미지는 전형적으로 높이, 너비, 컬러 채널의 3차원으로 이루어집니다. 다만, MNIST 데이터셋처럼 흑백 이미지는 하나의 컬러 채널만을 가지고 있어 2D텐서로 저장할 수 있습니다. 흑백이미지의 경우, 컬러 채널의 차원 크기는 1입니다. 일반적으로 이미지 텐서는 3D로 저장합니다. \n",
    "\n",
    "예를 들면, 256x256 흑백이미지에 대한 128개 배치 데이터는 (128, 256, 256, 1)크기의 텐서에 저장할 수 있습니다. 컬러 이미지라면, (28, 256, 256, 3) 크기의 텐서에 저장합니다. 이렇게 (samples, height, width, color_depth) 형식과 다르게 Theano같은 라이브러리에서는 (samples, color_depth, height, width)형식으로 데이터를 다룹니다. Keras는 keras.jason에 설정을 통해서 두 형식을 모두 지원합니다."
   ]
  },
  {
   "cell_type": "markdown",
   "metadata": {},
   "source": [
    "## 6. 텐서의 활용 예제 - MNIST \n",
    "\n",
    "기계학습/딥러닝의 \"Hello World\"에 해당하는 MNIST 예제에서 사용하는 데이터셋을 불러서 텐서에 대해 알아봅니다. \n",
    "\n",
    "학습 과정에 사용할 train 자료의 개수는 60000개 이고, 테스트 자료의 개수는 10000개입니다. 각 자료(sample)의 x는 가로x세로가 각각 28x28 픽셀로 구성된 grayscale 이미지이며, y는 각 이미지의 실제 값(label)을 가지고 있습니다. 다음 그림은 데이터의 상태를 잘 보여주고 있습니다. "
   ]
  },
  {
   "cell_type": "markdown",
   "metadata": {},
   "source": [
    "<img src=\"https://github.com/idebtor/KMOOC-ML/blob/master/ipynb/images/MNISTdataset2.png?raw=true\" width=\"500\">\n",
    "<center>그림 1: MNIST 데이터셋의 x_train 훈련 자료 형상</center>"
   ]
  },
  {
   "cell_type": "code",
   "execution_count": null,
   "metadata": {},
   "outputs": [],
   "source": [
    "from keras.datasets import mnist\n",
    "\n",
    "(x_train, y_train), (x_test, y_test)= mnist.load_data()"
   ]
  },
  {
   "cell_type": "markdown",
   "metadata": {},
   "source": [
    "#### Example 1. Training과 test 데이터셋의 ndim 차원 속성을 알아봅니다. \n"
   ]
  },
  {
   "cell_type": "code",
   "execution_count": null,
   "metadata": {},
   "outputs": [],
   "source": [
    "print(x_train.ndim, y_train.ndim)\n",
    "print(x_test.ndim, y_test.ndim)"
   ]
  },
  {
   "cell_type": "markdown",
   "metadata": {},
   "source": [
    "#### Example 2. Training과 test데이터셋의 크기(shape, 형상)를 알아봅니다. "
   ]
  },
  {
   "cell_type": "code",
   "execution_count": null,
   "metadata": {},
   "outputs": [],
   "source": [
    "print(x_train.shape, y_train.shape)\n",
    "print(x_test.shape, y_test.shape)"
   ]
  },
  {
   "cell_type": "markdown",
   "metadata": {},
   "source": [
    "#### Example 3. Training과 test데이터셋의 데이터 타입은 dtype으로 찾아볼 수 있습니다. "
   ]
  },
  {
   "cell_type": "code",
   "execution_count": null,
   "metadata": {},
   "outputs": [],
   "source": [
    "print(x_train.dtype, y_train.dtype)"
   ]
  },
  {
   "cell_type": "markdown",
   "metadata": {},
   "source": [
    "여기서 사용하는 배열은 정수형 3D 텐서입니다. 좀 더 정확하게는 28x28 크기의 정수 행렬 6만개가 학습을 위한 것이며, 1만개가 테스트를 위한 것입니다. 각 행렬은 하나의 흑백 이미지고, 행렬의 각 원소는 0에서 255사이의 값입니다. "
   ]
  },
  {
   "cell_type": "markdown",
   "metadata": {},
   "source": [
    "#### Example 4. 데이터셋에서 하나의 이미지 추출하기"
   ]
  },
  {
   "cell_type": "markdown",
   "metadata": {},
   "source": [
    "x_train에 저장되어 있는 6만개 샘플의 처음과 마지막 샘플을 조사(슬라이싱, 출력, 시각화 등등)해보려면 어떻게 하면 될까요?\n",
    "\n",
    "x_train으로부터 처음 이미지와 마지막 이미지를 복사해오기 즉 slicing해서 각각 a_image, z_image에 저장하기로 합니다. 그리고, 그대로 출력을 시도합니다. "
   ]
  },
  {
   "cell_type": "code",
   "execution_count": null,
   "metadata": {},
   "outputs": [],
   "source": [
    "a_image, z_image = x_train[0], x_train[-1]\n",
    "print('shape:', a_image.shape,'dim:', a_image.ndim, 'type:', a_image.dtype)"
   ]
  },
  {
   "cell_type": "markdown",
   "metadata": {},
   "source": [
    "Before working on a_image and z_image, check labels of two images using `y_train`,"
   ]
  },
  {
   "cell_type": "code",
   "execution_count": null,
   "metadata": {},
   "outputs": [],
   "source": [
    "a_label, z_label = y_train[0], y_train[-1]\n",
    "print(a_label, z_label)"
   ]
  },
  {
   "cell_type": "markdown",
   "metadata": {},
   "source": [
    "Print a_image as it is."
   ]
  },
  {
   "cell_type": "code",
   "execution_count": null,
   "metadata": {},
   "outputs": [],
   "source": [
    "print(a_image)"
   ]
  },
  {
   "cell_type": "markdown",
   "metadata": {},
   "source": [
    "#### Example 5. 이미지의 픽셀 값들을 28 x 28 행렬로 출력하기 즉 각 row(행)을 한 줄로 출력해보기\n",
    "\n",
    "그러면, 우리가 여기서 출력한 첫 데이타는 28 x 28 배열의 2D 텐서인 것을 알고 있습니다. 2D 텐서를 출력할 때, 디폴트 print를 사용하지 말고, 한 줄에 한 row씩, 28 x 28 형식으로 출력하도록 다음과 같이 코딩을 해봅니다. "
   ]
  },
  {
   "cell_type": "code",
   "execution_count": null,
   "metadata": {},
   "outputs": [],
   "source": [
    "for row in z_image:                    # row \n",
    "    for pix in row:                    # each element in a row\n",
    "        print('%3d' % pix, end = ' ')  # print('{0:3d}'.format(pix), end=' '), print('%3d' % pix, end=' ')\n",
    "    print()"
   ]
  },
  {
   "cell_type": "markdown",
   "metadata": {},
   "source": [
    "각 숫자는 이미지 픽셀이며, 각 픽셀은 0~255사이의 값이며, 각 픽셀의 밝기 정도를 나타냅니다. 가장 작은 수 0이면 가장 어두운 검은색이며, 255는 가장 밝은 색, 흰색을 나타냅니다. "
   ]
  },
  {
   "cell_type": "markdown",
   "metadata": {},
   "source": [
    "#### Example 6. 이미지의 픽셀 값들을 28 x 28 이미지로 시각화 하기\n",
    "\n",
    "그러면, 이것을 실제로 그림으로 나타내면 더 좋지 않을까요? 다행히도, 이러한 단순한 배열을 실제 이미지로 시각화할 수 있는 파이썬 표준 라이브러리인 맷플롯립(matplotlib)이 있습니다. 이 라이브러리을 import하고, imshow() 함수를 이용하여 시각화할 수 있습니다. 모든 이미지가 x_train에 저장되어 있으므로, 그 중에 첫 번째 이미지는 `x_train[0]`에, 마지막 이미지는 `x_train[-1]`로 슬라이싱(추출)하여 하나의 이미지를 다루거나 시각화할 수 있습니다. "
   ]
  },
  {
   "cell_type": "code",
   "execution_count": null,
   "metadata": {},
   "outputs": [],
   "source": [
    "import matplotlib.pyplot as plt\n",
    "\n",
    "plt.imshow(a_image, cmap='gray')    # use 'Greys' or cmap=plot.cm.binary for inverted grayscale image\n",
    "plt.show()"
   ]
  },
  {
   "cell_type": "markdown",
   "metadata": {},
   "source": [
    "#### Example 7. 여러 장의 이미지를 시각화 하기\n",
    "\n",
    "첫 한장이 아니라 첫 10장을 시각화하려면 어떻게 할까요?  다음과 같이 처음 10장의 이미지를 slicing할 수 있습니다. 여기서 콜론은 range를 특정할 때 사용합니다. `start:end`형식입니다. 단, start 부분이 생략되어 있으면, 처음부터이고, end 부분이 생략되어 있으면, 끝까지를 의미합니다. 둘 다 생략이 되어 콜론만 남아 있으면, 처음부터 끝까지 모두를 의미합니다. "
   ]
  },
  {
   "cell_type": "code",
   "execution_count": null,
   "metadata": {},
   "outputs": [],
   "source": [
    "images = x_train[:10]\n",
    "labels = y_train[:10]\n",
    "print(images.shape)"
   ]
  },
  {
   "cell_type": "code",
   "execution_count": null,
   "metadata": {},
   "outputs": [],
   "source": [
    "plt.figure(figsize=(20,20))\n",
    "for i in range(len(images)):\n",
    "    plt.subplot(10, 10, i + 1)     # displays upto 100 images\n",
    "    plt.xticks([])\n",
    "    plt.yticks([])\n",
    "    plt.grid(False)\n",
    "    plt.imshow(images[i], cmap=\"gray\")\n",
    "    plt.xlabel(labels[i])\n",
    "plt.show()"
   ]
  },
  {
   "cell_type": "markdown",
   "metadata": {},
   "source": [
    "## 7. 넘파이로 텐서 다루기 - MNIST 이미지 추출하기\n",
    "\n",
    "기계학습과 딥러닝에서 많이 사용하는 넘파이 배열에 대한 Slicing연산을 다루어 봅니다. \n",
    "\n",
    "#### Example 1. \n",
    "\n",
    "다음 예는 11째부터 90개의 이미지들, 즉 11번째부터 100번째 이미지까지 추출하고자 합니다. 다른 프로그래밍 언어와 마찬가지로, 넘파이에서 인덱싱은 언제든지 0부터 시작합니다. 그러므로, 11번째 이미지는 `x_train[10]`에 저장되어 있고, 100번째 이미지는 `x_train[99]`에 저장되어 있습니다. 그러나, 주의할 것은 그리고, 슬라이싱의 범위를 명시할 때 시작 start(시작) 인덱스는 항상 포함하고, 끝나는 end(마지막) 인덱스는 __포함하지 않습니다__.  그러므로 end index는 100으로 지정해야 99까지 slicing을 하게 됩니다. "
   ]
  },
  {
   "cell_type": "code",
   "execution_count": null,
   "metadata": {},
   "outputs": [],
   "source": [
    "print(x_train.shape)\n",
    "my_slice = x_train[10:100]\n",
    "print('shape:', my_slice.shape)\n",
    "print('len:', len(my_slice))"
   ]
  },
  {
   "cell_type": "markdown",
   "metadata": {},
   "source": [
    "#### Example 2. \n",
    "\n",
    "그러면, 6만장의 이미지 데이터셋 x_train(60000, 28, 28)의 upper-left corner를 모두 추출하여 (60000, 14, 14)의 크기를 얻기 위한 Slicing을 하십시오.  \n",
    "\n",
    "```\n",
    "(60000, 14, 14)\n",
    "```"
   ]
  },
  {
   "cell_type": "code",
   "execution_count": null,
   "metadata": {},
   "outputs": [],
   "source": [
    "my_slice = x_train[:, :14, :14]\n",
    "print(my_slice.shape)"
   ]
  },
  {
   "cell_type": "markdown",
   "metadata": {},
   "source": [
    "위와 같은 경우, 각 이미지의 x 방향으로 `0 ~ 13` 픽셀까지, y 방향으로 `0 ~ 13` 픽셀까지 slicing됩니다. 즉 이미지의 왼쪽 위 코너부분 1/4 크기로 slicing이 이루어질 것입니다. \n",
    "\n",
    "각 이미지의 오른쪽 아래 코너 부분을 slicing하려면, `x_train[:, 14:, 14:]`로 설정하면, x, y방향으로 15번째 픽셀부터 끝까지(28번째) 추출될 것입니다. "
   ]
  },
  {
   "cell_type": "markdown",
   "metadata": {},
   "source": [
    "# Homework\n",
    "\n",
    "다음의 각 항목을 주피터 노트북의 각각의 셀에서 완성하고 실행하십시오. 각각의 코드 셀 바로 다음에 마크다운 셀에서 코드를 설명하십시오. \n",
    "1. MNIST 데이터셋 x_train의 마지막 10개의 이미지와 레이블을 slicing(추출)하여 zap라고 설정하고, 시각화합니다. \n",
    "2. x_train이 아니라 zap으로부터 각 이미지의 가운데 부분(14 x 14)을 추출하여 zip라고 설정하고, 이미지와 레이블을 시각화합니다. .\n",
    "\n",
    "<img src=\"https://github.com/idebtor/KMOOC-ML/blob/master/ipynb/images/zipzap.png?raw=true\" width=\"800\">\n",
    "<center>그림 1: MINST 데이터셋 이미지 추출하기와 시각화</center>\n",
    "\n",
    "#### Solution 1:"
   ]
  },
  {
   "cell_type": "code",
   "execution_count": null,
   "metadata": {},
   "outputs": [],
   "source": [
    "import matplotlib.pyplot as plt\n",
    "\n",
    "zap = x_train[-10:]\n",
    "label = y_train[-10:]\n",
    "\n",
    "plt.figure(figsize=(12,12))\n",
    "for i in range(len(zap)):\n",
    "    plt.subplot(1, 10, i + 1)\n",
    "    plt.xticks([])\n",
    "    plt.yticks([])\n",
    "    plt.grid(False)\n",
    "    plt.imshow(zap[i], cmap=\"gray\")\n",
    "    plt.xlabel(label[i])\n",
    "    \n",
    "plt.show()"
   ]
  },
  {
   "cell_type": "markdown",
   "metadata": {},
   "source": [
    "#### Solution 2:"
   ]
  },
  {
   "cell_type": "code",
   "execution_count": null,
   "metadata": {},
   "outputs": [],
   "source": [
    "zip = zap[:, 7:21, 7:21]\n",
    "\n",
    "print(zip.shape)\n",
    "plt.figure(figsize=(12,12))\n",
    "for i in range(len(zip)):\n",
    "    plt.subplot(1, 10, i + 1)\n",
    "    plt.xticks([])\n",
    "    plt.yticks([])\n",
    "    plt.grid(False)\n",
    "    plt.imshow(zip[i], cmap=\"gray\")\n",
    "    plt.xlabel(label[i])\n",
    "    \n",
    "plt.show()"
   ]
  },
  {
   "cell_type": "markdown",
   "metadata": {},
   "source": [
    "## FYI: For Your Information\n",
    "다음은 MNIST데이터셋의 처음 95개의 이미지를 시각화하는 코드입니다. "
   ]
  },
  {
   "cell_type": "code",
   "execution_count": null,
   "metadata": {},
   "outputs": [],
   "source": [
    "import numpy as np\n",
    "import matplotlib.pyplot as plt\n",
    "\n",
    "images = x_train[:95]\n",
    "labels = y_train[:95]\n",
    "plt.figure(figsize=(15,15))\n",
    "for i in range(len(images)):\n",
    "    plt.subplot(10, 10, i + 1)\n",
    "    plt.xticks([])\n",
    "    plt.yticks([])\n",
    "    plt.grid(False)\n",
    "    plt.imshow(images[i], cmap=\"gray\")\n",
    "    plt.xlabel(labels[i])"
   ]
  },
  {
   "cell_type": "markdown",
   "metadata": {},
   "source": [
    "-------\n",
    "__Be joyful always!__ 1 Thes.5:16"
   ]
  },
  {
   "cell_type": "markdown",
   "metadata": {},
   "source": [
    "He has saved us and called us to a holy life — not because of anything we have done but because of his own purpose and grace. This grace was given us in Christ Jesus before the beginning of time. (2 Tim 1:9)  \n",
    "하나님이 우리를 구원하사 거룩하신 소명으로 부르심은 우리의 행위대로 하심이 아니요 오직 자기의 뜻과 영원 전부터 그리스도 예수 안에서 우리에게 주신 은혜대로 하심이라. (딤후1:9)\n",
    "\n",
    "-------\n",
    "\n",
    "# Welcome to \"AI for All\"\n",
    "\n",
    "Lecture Notes by idebtor@gmail.com, Handong Global University"
   ]
  },
  {
   "cell_type": "markdown",
   "metadata": {},
   "source": [
    "\n",
    "# Chapter 4. 선형 회귀(Linear Regression)\n",
    "\n",
    ":본 단원은 참고문헌 (3) & (4)에서 대부분  발췌한 것입니다. \n",
    "\n",
    "--------------\n",
    "\n",
    "가장 간단한 형태의 선형 회귀를 연습하면서도 기계학습과 딥러닝의 기초가 되며 핵심을 이해할 수 있는 시작입니다.  "
   ]
  },
  {
   "cell_type": "markdown",
   "metadata": {},
   "source": [
    "## 2장 정리하기 정답\n",
    "\n",
    "1. 입력\n",
    "1. 레이블(label) 혹은 타깃(target)\n",
    "1. 모델(model)\n",
    "1. 규칙 혹은 하이퍼파라미터(hyperparameters)"
   ]
  },
  {
   "cell_type": "markdown",
   "metadata": {},
   "source": [
    "## 1. 일차 함수로 이해하는 선형 회귀\n",
    "\n",
    "선형 회귀는 간단한 일차 함수로 표현할 수 있습니다. 선형 회귀의 선형이라는 단어의 의미는 다음 수식을 통해 그려지는 직선 그래프를 보면 쉽게 이해할 수 있습니다.  \n",
    "\n",
    "\\begin{equation}\n",
    "y = ax + b\n",
    "\\end{equation}"
   ]
  },
  {
   "cell_type": "markdown",
   "metadata": {},
   "source": [
    "위의 일차 함수의 기울기(slope)는 $a$이고 절편(intercept)은 $b$입니다. 보통 이런 일차함수는 2차원 평면에 그리기 쉽습니다. \n",
    "\n",
    "\n",
    "\n",
    "<img src=\"https://github.com/idebtor/KMOOC-ML/blob/master/ipynb/images/ai4all-graph1.png?raw=true\" width=\"400\">\n",
    "<center>그림 1: 일차 함수 그래프의 기울기와 절편 </center>"
   ]
  },
  {
   "cell_type": "markdown",
   "metadata": {},
   "source": [
    "## 2. 선형 회귀는 기울기와 절편을 찾아내는 것입니다.\n",
    "\n",
    "여기서, 선형 회귀는 기울기와 절편을 찾아내는 것입니다. 우리가 일차함수를 처음 배울 때를 생각해보면, 일차함수의 기울기와 절편이 주어지면 이를 만족하는 $x$와 $y$를 찾아내곤 했었죠? $x, y$ 좌표 평면에서 $(x, y)$좌표가 주어지면, 그 좌표가 직선 상에 있는지 없는지 알아보기도 했습니다. \n",
    "\n",
    "그런데, 선형 회귀에서는 이와 반대로, $x, y$가 주어졌을 때 기울기와 절편을 찾는데 우리의 관심이 있습니다. 즉, 선형 회귀의 주요 관심사는 '__절편과 기울기__를 찾는 것'입니다. 예를 들면, 선형 회귀로 다음과 같은 문제를 해결할 수 있습니다. "
   ]
  },
  {
   "cell_type": "markdown",
   "metadata": {},
   "source": [
    "__선형 회귀 문제__: $(x, y) = (1, 4)$, $(x, y) = (2, 7)$, $(x, y )= (3, 10)$이라면 기울기와 절편의 값을 적절한 수식은 무엇인가요? \n",
    "\n",
    "(1) $y = 2x + 1 $ \n",
    "\n",
    "(2) $y = 3x + 2 $ \n",
    "\n",
    "(3) $y = 3x + 1 $ \n"
   ]
  },
  {
   "cell_type": "markdown",
   "metadata": {},
   "source": [
    "잠시 생각해보면, 정답은 `(3)`인 것을 어렵지 않게 찾아낼 수 있습니다. 그러면, 위 문제를 어떤 과정을 통해서 답을 계산해낼 수 있을까요? 다음을 보면서 조금 더 자세히 알아봅니다. "
   ]
  },
  {
   "cell_type": "markdown",
   "metadata": {},
   "source": [
    "## 3. 그래프를 통해 선형 회귀의 문제 해결 과정을 이해합니다.\n",
    "\n",
    "앞에서 연습해 본 선형 회귀 문제를 그래프로 표현한 것입니다. 점은 x, y의 값을 나타낸 것이고, 직선은 보기(1)  $y = 2x + 1 $ 의 식을 그래프로 표현한 것입니다. \n",
    "\n",
    "<img src=\"https://github.com/idebtor/KMOOC-ML/blob/master/ipynb/images/ai4all-graph2.png?raw=true\" width=\"300\">\n",
    "<center>그림 3: 일차 함수(y = 2x + 1)의 그래프 </center>"
   ]
  },
  {
   "cell_type": "markdown",
   "metadata": {},
   "source": [
    "빨간색의 점은 $(x, y)$의 값을 나타낸 것이고, 직선은 보기(1)의 직선을 표현한 것입니다. 보기(1)의 조건을 가진 식은 점들을 잘 표현하지 못하고 있습니다. 기울기도 절편의 위치도 상대적으로 좀 낮습니다. 그래서, 이제 __기울기와 절편의 값을 약간씩 높이도록 합니다.__ 기울기는 2에서 3으로, 절편은 1에서 2로 높여서, 다시 그래프를 그려 봅시다. \n",
    "\n",
    "<img src=\"https://github.com/idebtor/KMOOC-ML/blob/master/ipynb/images/ai4all-graph3.png?raw=true\" width=\"300\">\n",
    "<center>그림 2: 일차 함수(y = 3x + 2)의 그래프 </center>"
   ]
  },
  {
   "cell_type": "markdown",
   "metadata": {},
   "source": [
    "이제 기울기는 비슷한 것 같은데, 직선의 위치가 전체적으로 위로 올라갔습니다. 그러므로, __이제는 절편만 좀 낮추면 될 것 같습니다.__ 절편을 2에서 1로 줄이고 다시 그래프를 그려봅니다. \n",
    "\n",
    "<img src=\"https://github.com/idebtor/KMOOC-ML/blob/master/ipynb/images/ai4all-graph4.png?raw=true\" width=\"300\">\n",
    "<center>그림 4: 일차 함수(y = 3x + 1)의 그래프 </center>"
   ]
  },
  {
   "cell_type": "markdown",
   "metadata": {},
   "source": [
    "자~ 이번에는 직선이 각 점을 지나가고 있으므로, 일차 함수 직선이 점들을 잘 표현하고 있다고 말할 수 있습니다. 이러한 일차 함수들을 우리가 비록 손으로 혹은 암산으로 계산했지만, 이런 과정을 거치면서 만들어낸 __'선형 회귀로 만든 모델'__이라고 할 수 있습니다. \n",
    "\n",
    "이러한 모델이 정해지면, 이 __모델__을 통해서 새로운 점에 대한 __예측__을 할 수 있게 됩니다. 즉, 새로운 점의 'x 좌표가 5이면, y좌표는 아마도 16 정도일 것'이라는 예측을 할 수 있게 된 것입니다. \n",
    "\n",
    "> 미리 준비된 입력$(x: 1, 2, 3)$에 대한 레이블(타깃)$(y: 4, 7, 10)$을 가지고 모델$(y = 3x + 1)$을 만든 다음, 새 입력(5)에 대해 어떤 값(16)을 예측한 것입니다. 이것이 선형 회귀 모델을 만들어 문제를 해결하는 과정입니다.  \n",
    "\n",
    "참고로, 여기서 사용한 그래프를 그리는 파이썬 코드는 이 피일의 마지막 부분에 있으니, 참조하길 바랍니다. "
   ]
  },
  {
   "cell_type": "markdown",
   "metadata": {},
   "source": [
    "#### 학습정리\n",
    "1. 선형 회귀는 기계학습 알고리즘 중 하나입니다. \n",
    "1. 선형 회귀는 2차원 평면에 놓은 점을 표현하는 일차함수의 기울기와 절편을 찾아냅니다.\n",
    "1. 선형 회귀로 찾은 이런 일차함수를 `선형 회귀로 만든 모델`이라고 합니다. \n",
    "1. 선형 회귀 모델로 새 값 x에 대하여 y를 `예측`할 수 있습니다. \n"
   ]
  },
  {
   "cell_type": "markdown",
   "metadata": {},
   "source": [
    "## 4. 당뇨병 환자의 데이터 다루기\n",
    "\n",
    "이제는 산업 현장에서 부딪히는 실제적이고 현실적인 문제에 도전해보겠습니다. 목표는 '당뇨병 환자의 1년 후 병의 진전된 정도를 예측하는 모델을 만드는 것'입니다. \n",
    "\n",
    "문제 해결을 위해 가장 먼저 해야 할 일은 충분한 양의 입력 데이터와 레이블(타깃) 데이터를 준비하는 것입니다. 지금부터 예제에서 사용할 입력 데이터와 레이블 데이터를 준비하겠습니다. "
   ]
  },
  {
   "cell_type": "markdown",
   "metadata": {},
   "source": [
    "### 사이킷런에서 당뇨병 환자 데이터 가져오기\n",
    "\n",
    "딥러닝, 기계학습 패키지에는 인공지능 학습을 위한 데이터셋(dataset)이 준비되어 있는 경우가 많습니다. 이번에는 사이킷런의 데이터셋 중 당뇨병 황자의 데이터셋을 사용합니다. \n",
    "\n",
    "#### 1. load_diabetes()함수로 당뇨병 데이터 가져오기\n",
    "\n",
    "사이킷런의 datasets 모듈에 있는 load_diabetes()함수를 import한 후, 매개변수 값을 넣지 않은 채로 함수를 호출합니다. "
   ]
  },
  {
   "cell_type": "code",
   "execution_count": null,
   "metadata": {},
   "outputs": [],
   "source": [
    "from sklearn.datasets import load_diabetes\n",
    "diabetes = load_diabetes()"
   ]
  },
  {
   "cell_type": "markdown",
   "metadata": {},
   "source": [
    "diabetes 변수에 저장된 값의 자료형은 파이썬 딕셔너리(dictionary)와 유사한 Bunch 클래스입니다. 이 클래스는 예제 데이터셋을 위해 준비된 것일 뿐 특별한 기능이 있는 건 아닙니다. 파이썬 딕셔너리라고 생각해도 됩니다. "
   ]
  },
  {
   "cell_type": "markdown",
   "metadata": {},
   "source": [
    "__Note__: Bunch 클래스와 사이킷런의 datasets 관련 정보는 [여기](https://www.kite.com/python/docs/sklearn.utils.Bunch) 를 참조하십시오. \n",
    "\n",
    "__Note__: scikit-learn의 대부분의 샘플 데이터는 Bunch 라는 클래스 객체로 생성됩니다. 이 클래스 객체는 다음과 같은 속성을 가집니다.\n",
    "\n",
    "- data: (필수) 독립 변수 ndarray 배열\n",
    "- target: (필수) 종속 변수 ndarray 배열\n",
    "- feature_names: (옵션) 독립 변수 이름 리스트\n",
    "- target_filename: (옵션) 종속 변수 이름 리스트\n",
    "- DESCR: (옵션) 자료에 대한 설명"
   ]
  },
  {
   "cell_type": "code",
   "execution_count": null,
   "metadata": {},
   "outputs": [],
   "source": [
    "diabetes.keys()"
   ]
  },
  {
   "cell_type": "markdown",
   "metadata": {},
   "source": [
    "#### 2. 입력과 레이블(타깃) 데이터의 크기 확인하기\n",
    "\n",
    "diabetes의 속성 중 data 속성과 target 속성에는 우리에게 필요한 입력과 타깃(레이블) 데이터가 넘파이 배열로 저장되어 있습니다. 넘파이 배열의 크기는 shape 속성에 저장되어 있으며, 이를 출력해보는 것은 거의 필수적입니다.  "
   ]
  },
  {
   "cell_type": "markdown",
   "metadata": {},
   "source": [
    "#### Example 1:\n",
    "입력 데이터와 타깃 데이터의 크기(shape, 형상)를 다음과 같은 것을 확인하십시오.  \n",
    "```\n",
    "(442, 10)\n",
    "(442,)\n",
    "```"
   ]
  },
  {
   "cell_type": "code",
   "execution_count": null,
   "metadata": {},
   "outputs": [],
   "source": [
    "print(diabetes.data.shape)\n",
    "print(diabetes.target.shape)"
   ]
  },
  {
   "cell_type": "markdown",
   "metadata": {},
   "source": [
    "diabetes.data는 442x10 크기의 2차원 배열이고, target은 442개의 요소를 가진 1차원 배열입니다. 다음 그림은 data와 target을 그림으로 나타낸 것입니다. \n",
    "\n",
    "<img src=\"https://github.com/idebtor/KMOOC-ML/blob/master/ipynb/images/ai4all-diabetes1.png?raw=true\" width=\"600\">\n",
    "<center>그림 5: 당뇨병 환자의 데이터셋 구조 </center>"
   ]
  },
  {
   "cell_type": "markdown",
   "metadata": {},
   "source": [
    "데이터셋의 shape을 살펴보았듯이, diabetes.data를 보면, 442개의 행과 10개의 열로 구성되어 있습니다. 여기서 행은 샘플(sample, or example)이고, 열은 샘플의 __특성(feature)__입니다. 샘플이란 당뇨병 환자에 대한 특성으로 이루어진 데이터 한 셋을 의미하고, 특성은 당뇨병 데이터의 여러 특징들을 의미합니다. 쉽게 말해, 당뇨병 데이터에는 환자의 협압, 형당, 몸무게, 키 등의 특징(특성)이 있는데, 그 특징들의 수치를 모아 한 개의 샘플이 나오는 것입니다. 다음은 샘플과 특성의 이해를 돕기 위해 가상의 환자와 당노병 데이터를 그림으로 나타낸 것입니다. "
   ]
  },
  {
   "cell_type": "markdown",
   "metadata": {},
   "source": [
    "<img src=\"https://github.com/idebtor/KMOOC-ML/blob/master/ipynb/images/ai4all-diabetes2.png?raw=true\" width=\"600\">\n",
    "<center>그림 6: 당뇨병 환자 샘플과 특성 </center>"
   ]
  },
  {
   "cell_type": "markdown",
   "metadata": {},
   "source": [
    "이때 입력 데이터의 특성은 다른 말로 속성, 독립 변수(independent variable), 설명 변수(explanatory variable)등으로 부릅니다. 이런 용어는 통계학에서 나온 것이 많은데, 여기서 기계학습에서 널리 통용되는 용어인 __특성(feature)__을 사용합니다 "
   ]
  },
  {
   "cell_type": "markdown",
   "metadata": {},
   "source": [
    "#### Example 2: \n",
    "\n",
    "당뇨병 환자 자료의 특성 이름들이 중요하거나 학습에 영향을 주는 것은 아니지만, 우리의 이해를 돕기위해 자료의 특성 이름들을 한 번 체크하는 것은 바람직한 일입니다. 자료의 특성들을 출력해 보십시오. "
   ]
  },
  {
   "cell_type": "code",
   "execution_count": null,
   "metadata": {},
   "outputs": [],
   "source": [
    "print(diabetes.feature_names)"
   ]
  },
  {
   "cell_type": "markdown",
   "metadata": {},
   "source": [
    "#### 3. 입력 데이터 자세히 보기\n",
    "\n",
    "먼저 diabetes.data에 저장된 입력 데이터를 일부만 출력해 보겠습니다. \n",
    "\n",
    "\n",
    "#### Example:\n",
    "슬라이싱을 사용해 입력 데이터의 앞부분의 샘플 3개만 출력합니다. 이때 데이터셋의 첫 번째 샘플부터 추출한다면 첫 번째 인덱스는 생략해도 괜찮습니다.  출력된 자료의 형상(크기)는 무엇입니까? "
   ]
  },
  {
   "cell_type": "code",
   "execution_count": null,
   "metadata": {},
   "outputs": [],
   "source": [
    "diabetes.data[:3]"
   ]
  },
  {
   "cell_type": "markdown",
   "metadata": {},
   "source": [
    "안쪽 대괄호에는 특성의 값 10개가 나열되어 있는데, 3개의 샘플을 추출했으므로, 3x10크기의 배열이 나타납니다. 당연하겠죠? \n",
    "\n",
    "#### 4. 타깃 데이터 자세히 보기 \n",
    "#### Example: \n",
    "이번에는 타깃 데이터도 첫 3개의 데이터를 출력하여 다음과 같은지 확인하십시오. \n",
    "```\n",
    "[151.,  75., 141.]\n",
    "```"
   ]
  },
  {
   "cell_type": "code",
   "execution_count": null,
   "metadata": {},
   "outputs": [],
   "source": [
    "diabetes.target[:10]"
   ]
  },
  {
   "cell_type": "markdown",
   "metadata": {},
   "source": [
    "타깃 데이터는 10개의 요소로 구성된 샘플 1개에 대응됩니다. 예를 들면, 첫 번째 샘플 `[ 0.03807591,  0.05068012,  0.06169621,  0.02187235, -0.0442235, -0.03482076, -0.04340085, -0.00259226,  0.01990842, -0.01764613]`이라는 값은 151이라는 타깃 데이터에 대응됩니다. "
   ]
  },
  {
   "cell_type": "markdown",
   "metadata": {},
   "source": [
    "여기서 데이터를 놓고 잠시 생각해 봅시다. \n",
    "\n",
    "이 예제를 풀기 위해 입력 데이터와 타깃 데이터의 수치가 무엇을 의미하는지 반드시 알아야 할까요? \n",
    "\n",
    "그렇지 않습니다. 수치 자체에 대한 해석은 전문가(의사)의 영역입니다. 우리는 입력 데이터와 타깃 데이터의 수치만 보고 둘 사이의 규칙(모델)을 찾으면 됩니다. 하지만 실정에는 데이터의 의미를 아는 것이 매우 중요할 수 있으므로 이런 경우에는 해당 전문 분야 전문가의 도움을 받는 것이 좋습니다.(3)"
   ]
  },
  {
   "cell_type": "markdown",
   "metadata": {},
   "source": [
    "### 당뇨병 데이터 시각화하기\n",
    "\n",
    "데이터를 시각화가 가능하다면, 시각화 해보는 것은 기계학습의 필수적인 단계들 중에 하나입니다. 시각화 단계는 데이터의 유효성을 직감적으로 알 수 있는 좋은 수단입니다. 과연 당뇨병 데이터셋은 어떻게 생겼을까요? \n",
    "\n",
    "#### 1. 맷플롯립의 scatter()함수로 산점도 그리기\n",
    "당뇨병 데이터셋에는 10개의 특성이 있으므로 이 특성을 모두 그래프로 표형하려면 3차원 이상의 그래프를 그려야 합니다. 3차원 이상의 그래프는 그릴 수 없으므로 1개의 특성만 사용합니다. 여기서는 __세 번째 특성__과 __타깃 데이터__로 산점도를 그립니다. "
   ]
  },
  {
   "cell_type": "code",
   "execution_count": null,
   "metadata": {},
   "outputs": [],
   "source": [
    "import matplotlib.pyplot as plt\n",
    "plt.scatter(diabetes.data[:, 2], diabetes.target, marker='^', color='green')\n",
    "plt.xlabel('x')\n",
    "plt.ylabel('y')\n",
    "plt.show()"
   ]
  },
  {
   "cell_type": "markdown",
   "metadata": {},
   "source": [
    "그래프의 x축은 diabetes.data의 세번째 특성이고, y축은 diabetes.target입니다.  이 그래프를 보면 세 번째 특성과 타깃 데이터 사이에 정비례 관계가 있음을 알 수 있습니다. 둘이 서로 관계가 있으며, 따라서 중요한 특성이라는 것을 알 수 있습니다. "
   ]
  },
  {
   "cell_type": "markdown",
   "metadata": {},
   "source": [
    "#### 2. 훈련 데이터 준비하기\n",
    "\n",
    "매번 diabetes.data를 입력하여 입력 데이터의 속성을 참고하는 방법은 번거로우니, 입력 데이터의 __세 번째 특성__을 미리 분리하여 변수 x에 저장하고 타깃 데이터는 변수 y에 저장합니다. 이후 실습에서는 x에 있는 데이터와 y에 있는 데이터를 이용해 모델을 훈련할 것입니다. \n"
   ]
  },
  {
   "cell_type": "code",
   "execution_count": null,
   "metadata": {},
   "outputs": [],
   "source": [
    "x = diabetes.data[:, 2]\n",
    "y = diabetes.target"
   ]
  },
  {
   "cell_type": "markdown",
   "metadata": {},
   "source": [
    "지금까지 회귀 알고리즘 중 선형 회귀 알고리즘의 개념을 알아보고 실제 알고리즘을 만들어 보기 위한 당뇨병 데이터셋을 준비했습니다. 다음에는 이 데이터를 가지고 모델을 훈련하기 위한 핵심 최적화 알고리즘인 경사 하강법(gradient descent)에 대해 배웁니다. 그 다음에는 1개의 뉴론으로 구성된 첫 번째 모델을 만들 것입니다. "
   ]
  },
  {
   "cell_type": "markdown",
   "metadata": {},
   "source": [
    "## Exercise \n",
    "\n",
    "#### 타깃 데이터와 상관관계가 높은 특성을 찾아내기 \n",
    "\n",
    "우리는 앞에서 diabetes.data의 세번째 특성(bmi)과 diabetes.target를 산점도 그래프로 나타냈으며, 산점도 그래프를 통해서 두 데이터 사이에 정비례 관계가 있음을 알 수 있었습니다. diabetes.data에는 세번째 특성 외에 다른 특성들도 있는데, 이러한 특성들의 산점도를 그려보고, diabetes.target과 상관 관계가 가장 높은 하나의 특성을 찾아보십시오. \n",
    "\n",
    "Pyplot의 scatter() 함수를 사용하거나 혹은 Seaborn의 pairplot() 함수를 이용하는 방법도 있습니다. \n",
    "\n",
    "\n",
    "#### Answer(Feature Name): `s5`"
   ]
  },
  {
   "cell_type": "code",
   "execution_count": null,
   "metadata": {},
   "outputs": [],
   "source": [
    "# pylot.scatter() 함수를 사용하기\n",
    "print(diabetes.feature_names)\n",
    "import matplotlib.pyplot as plt\n",
    "x = diabetes.data[:, 2]\n",
    "plt.scatter(x, y, marker='.', color='green')\n",
    "plt.xlabel('feature x')\n",
    "plt.ylabel('target y')\n",
    "plt.show()\n",
    "\n",
    "x1 = diabetes.data[:, 8]\n",
    "plt.scatter(x1, y, marker='.', color='red')\n",
    "plt.xlabel('feature x')\n",
    "plt.ylabel('target y')\n",
    "plt.show()"
   ]
  },
  {
   "cell_type": "markdown",
   "metadata": {},
   "source": [
    "## FYI: For your information\n",
    "\n",
    "### 1. Pandas DataFrame 자료 변환과 Seaborn을 이용한 산점도 그리기 \n",
    "\n",
    "Seaborn 라이브러리의 Pairplot()함수를 사용하여 여러 특성들의 상호 산점도를 그려서 전체적인 특성들의 상호 관계 정도를 좀 더 쉽게 파악할 수 있습니다. 다만, pairplot()은 pandas 자료 형식으로 입력 자료를 받기 때문에 sklearn 자료를 pandas자료 형식으로 먼저 변환하여야 합니다. 다음은 seaborn.pairplot() 함수의 매개변수들입니다. \n",
    "\n",
    "- `data`: tidy (long-form) dataframe where each column is a variable and each row is an observation.\n",
    "- `kind`: kind of plot to make {'scatter', 'kde', 'hist', 'reg'}\n",
    "- `hue`: variable in data to map plot aspects to different colors.\n",
    "- `markers`: single matplotlib marker code or list\n",
    "- `plot_kws`: for example, s for size, alpha for transparency: dict(scatter_kws=dict(s=3, alpha=0.5)) "
   ]
  },
  {
   "cell_type": "markdown",
   "metadata": {},
   "source": [
    "아래 산점도는 diabetes.data의 처음 4 가지 특성들 중에서, 성별(sex)은 산점도의 색(orange and blue)으로 표시하고, 나머지 3개의 특성들이 산점도를 나타냅니다.  특히 가장 아래 행은 각 특성과 diabetes.target과의 상관 관계를 나타내고 있습니다. \n",
    "\n",
    "<img src=\"https://github.com/idebtor/KMOOC-ML/blob/master/ipynb/images/ai4all-diabetes10.png?raw=true\" width=\"500\">\n",
    "<center>그림 1: 당뇨병 환자 특성들의 상호 상관관계 </center>"
   ]
  },
  {
   "cell_type": "code",
   "execution_count": null,
   "metadata": {},
   "outputs": [],
   "source": [
    "import matplotlib.pyplot as plt\n",
    "import seaborn as sns\n",
    "import pandas as pd\n",
    "\n",
    "# 자료 변환 \n",
    "df = pd.DataFrame(diabetes.data[:, :4], columns=diabetes.feature_names[:4])\n",
    "df['target'] = pd.Series(diabetes.target)\n",
    "\n",
    "# Seaborn 사용하여 상호 상관관계 그리기 \n",
    "sns.pairplot(df)\n",
    "plt.show()"
   ]
  },
  {
   "cell_type": "code",
   "execution_count": null,
   "metadata": {},
   "outputs": [],
   "source": [
    "sns.pairplot(None)"
   ]
  },
  {
   "cell_type": "code",
   "execution_count": null,
   "metadata": {},
   "outputs": [],
   "source": [
    "sns.pairplot(None)"
   ]
  },
  {
   "cell_type": "code",
   "execution_count": null,
   "metadata": {},
   "outputs": [],
   "source": [
    "sns.pairplot(None)"
   ]
  },
  {
   "cell_type": "code",
   "execution_count": null,
   "metadata": {},
   "outputs": [],
   "source": [
    "sns.pairplot(None)"
   ]
  },
  {
   "cell_type": "markdown",
   "metadata": {},
   "source": [
    "\n",
    "### 2. 선형 회귀 모델에 사용한 그래프를 그리는 코드"
   ]
  },
  {
   "cell_type": "code",
   "execution_count": null,
   "metadata": {},
   "outputs": [],
   "source": [
    "import numpy as np\n",
    "import matplotlib.pyplot as plt\n",
    "\n",
    "linex = np.array([x for x in range(-1, 5)])\n",
    "liney = 2 * linex + 1\n",
    "\n",
    "fig, ax = plt.subplots()\n",
    "ax.axis('off')\n",
    "ax.axvline(0, linestyle='-', color='k') # vertical lines\n",
    "ax.axhline(0, linestyle='-', color='k') # horizontal line\n",
    "plt.title('y = 2x + 1')\n",
    "plt.axis([-1, 4, -1, 11])\n",
    "plt.plot(linex, liney, '-')\n",
    "plt.plot([1, 2, 3], [4, 7, 10], 'or' )\n",
    "plt.text(1, 4, '  (1, 4)')\n",
    "plt.text(2, 7, '  (2, 7)')\n",
    "plt.text(3, 10, '  (3, 10)')\n",
    "plt.show()"
   ]
  },
  {
   "cell_type": "code",
   "execution_count": null,
   "metadata": {},
   "outputs": [],
   "source": [
    "linex = np.array([x for x in range(-1, 5)])\n",
    "liney = 3 * linex + 2\n",
    "\n",
    "fig, ax = plt.subplots()\n",
    "ax.axis('off')\n",
    "ax.axvline(0, linestyle='-', color='k') # vertical lines\n",
    "ax.axhline(0, linestyle='-', color='k') # horizontal line\n",
    "plt.title('y = 3x + 2')\n",
    "plt.axis([-1, 4, -1, 11])\n",
    "plt.plot(linex, liney, '-')\n",
    "plt.plot([1, 2, 3], [4, 7, 10], 'or' )\n",
    "plt.text(1, 4, '  (1, 4)')\n",
    "plt.text(2, 7, '  (2, 7)')\n",
    "plt.text(3, 10, '  (3, 10)')\n",
    "plt.show()"
   ]
  },
  {
   "cell_type": "code",
   "execution_count": null,
   "metadata": {},
   "outputs": [],
   "source": [
    "linex = np.array([x for x in range(-1, 5)])\n",
    "liney = 3 * linex + 1\n",
    "\n",
    "fig, ax = plt.subplots()\n",
    "ax.axis('off')\n",
    "ax.axvline(0, linestyle='-', color='k') # vertical lines\n",
    "ax.axhline(0, linestyle='-', color='k') # horizontal line\n",
    "plt.title('y = 3x + 1')\n",
    "plt.axis([-1, 4, -1, 11])\n",
    "plt.plot(linex, liney, '-')\n",
    "plt.plot([1, 2, 3], [4, 7, 10], 'or' )\n",
    "plt.text(1, 4, '  (1, 4)')\n",
    "plt.text(2, 7, '  (2, 7)')\n",
    "plt.text(3, 10, '  (3, 10)')\n",
    "plt.show()"
   ]
  },
  {
   "cell_type": "markdown",
   "metadata": {},
   "source": [
    "## 참고문헌\n",
    "\n",
    "1. 케라스 창시자에게 배우는 딥러닝, 프랑소와 숄레, 길벗\n",
    "1. 핸즈온 머신러닝, 오렐리앙 제롱, 한빛미디어\n",
    "1. 딥러닝 입문, 박해선, 이지스 퍼블리싱\n",
    "1. 파이썬으로 배우는 기계학습, 김영섭, K-MOOC"
   ]
  },
  {
   "cell_type": "markdown",
   "metadata": {},
   "source": [
    "-------\n",
    "__Be joyful always!__ 1 Thes.5:16"
   ]
  }
 ],
 "metadata": {
  "kernelspec": {
   "display_name": "Python 3",
   "language": "python",
   "name": "python3"
  },
  "language_info": {
   "codemirror_mode": {
    "name": "ipython",
    "version": 3
   },
   "file_extension": ".py",
   "mimetype": "text/x-python",
   "name": "python",
   "nbconvert_exporter": "python",
   "pygments_lexer": "ipython3",
   "version": "3.8.3"
  }
 },
 "nbformat": 4,
 "nbformat_minor": 1
}
