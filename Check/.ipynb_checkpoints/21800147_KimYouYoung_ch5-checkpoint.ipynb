{
 "cells": [
  {
   "cell_type": "markdown",
   "metadata": {},
   "source": [
    "# Welcome to \"CrushPython\"\n",
    "\n",
    "__In the beginning God created the heavens and earth.__ \n",
    "Gensis 1:1\n",
    "\n",
    "\n",
    "------"
   ]
  },
  {
   "cell_type": "markdown",
   "metadata": {},
   "source": [
    "__NOTE:__ The following materials have been compiled and adapted from the numerous sources including including my own. You may help me keep this tutorial up-to-date by reporting any issues or questions. Send any comments or criticisms to `idebtor@gmail.com` Your assistances and comments will be appreciated."
   ]
  },
  {
   "cell_type": "markdown",
   "metadata": {},
   "source": [
    "---------\n",
    "\n",
    "# Lesson - Strings\n",
    "\n",
    "\n",
    "A string can be read from the standard input using the function `input()` or defined in single or double quotes. Two strings can be concatenated, and we can also repeat a string n times multiplying it by integer. \n",
    "\n",
    "Let's look at how you can create simple strings with a pair of single, double or triple quote. "
   ]
  },
  {
   "cell_type": "code",
   "execution_count": null,
   "metadata": {},
   "outputs": [],
   "source": [
    "x = \"Sola \\nSola\"\n",
    "print(x)\n",
    "type(x)"
   ]
  },
  {
   "cell_type": "markdown",
   "metadata": {},
   "source": [
    "You can also use __single quotes__ or __triple quotes__: 'Fide'"
   ]
  },
  {
   "cell_type": "code",
   "execution_count": null,
   "metadata": {},
   "outputs": [],
   "source": [
    "y = 'Fide' + \" \" + \"Fide\"\n",
    "print(y)"
   ]
  },
  {
   "cell_type": "markdown",
   "metadata": {},
   "source": [
    "There's no difference between using single and double quotes, but you need to be consistent in which one you choose for a given string.\n",
    "\n",
    "You can add two strings __using `+`__, concatenating them together: x + y"
   ]
  },
  {
   "cell_type": "code",
   "execution_count": null,
   "metadata": {},
   "outputs": [],
   "source": [
    "z = x * 2 + y\n",
    "print(z)"
   ]
  },
  {
   "cell_type": "markdown",
   "metadata": {},
   "source": [
    "You can also __multiply strings by an integer__, which duplicates the string that number of times:\n",
    "\n",
    "Complete the code such that it prints __`Halleluja Halleluja Halleluja`__"
   ]
  },
  {
   "cell_type": "code",
   "execution_count": null,
   "metadata": {},
   "outputs": [],
   "source": [
    "s = \"\"\"Halleluja\n",
    "Amen\"\"\"\n",
    "print(s)"
   ]
  },
  {
   "cell_type": "markdown",
   "metadata": {},
   "source": [
    "You can get the length of a string with the generic function `len()` which operates on any Python sequence, but works with strings in particular:"
   ]
  },
  {
   "cell_type": "code",
   "execution_count": null,
   "metadata": {},
   "outputs": [],
   "source": [
    "s = \"In the beginning God created the heavens and the earth\"\n",
    "len(s)\n",
    "s.upper() # method"
   ]
  },
  {
   "cell_type": "markdown",
   "metadata": {},
   "source": [
    "#### Example 1: \n",
    "\n",
    "Complete the code such that it counts the number of digits in `x = 2**1000`. "
   ]
  },
  {
   "cell_type": "code",
   "execution_count": null,
   "metadata": {},
   "outputs": [],
   "source": [
    "%%timeit\n",
    "\n",
    "x = 2 ** 1000\n",
    "len(str(x))"
   ]
  },
  {
   "cell_type": "markdown",
   "metadata": {},
   "source": [
    "#### Example 2: \n",
    "Count the number of digits in `x = 2**1000` without using the type conversion function `str()`, but using a `while` loop and `//`."
   ]
  },
  {
   "cell_type": "code",
   "execution_count": null,
   "metadata": {},
   "outputs": [],
   "source": [
    "%%timeit\n",
    "x = 2 ** 1000\n",
    "count = 0\n",
    "while x:   # until x = 0\n",
    "    x //= 10\n",
    "    count += 1"
   ]
  },
  {
   "cell_type": "markdown",
   "metadata": {},
   "source": [
    "#### Which one is faster between Example 1 and 2 shown above?"
   ]
  },
  {
   "cell_type": "markdown",
   "metadata": {},
   "source": [
    "## Slice a single character\n",
    "\n",
    "A __slice__ gives from the given string one character or some fragment: substring or subsequence.\n",
    "\n",
    "There are three forms of slices. The simplest form of the slice: a single character slice `S[i]` gives ith character of the string. We count characters starting from 0. That is, if `S = 'Hello'`, `S[0] == 'H'`, `S[1] == 'e'`, `S[2] == 'l'`, `S[3] == 'l'`, `S[4] == 'o'`. Note that in Python there is no separate type for characters of the string. `S[i]` also has the type `str`, just as the source string.\n",
    "\n",
    "Number `i` in `S[i]` is called an index.\n",
    "\n",
    "If you specify a negative index, then it is counted from the end, starting with the number `-1`. That is, `S[-1] == 'o'`, `S[-2] == 'l'`, `S[-3] == 'l'`, `S[-4] == 'e'`, `S[-5] == 'H'`.\n"
   ]
  },
  {
   "cell_type": "markdown",
   "metadata": {},
   "source": [
    "#### 3. Example: double_char()\n",
    "\n",
    "Given a string, this function returns a string where for every char in the original, there are two chars.\n",
    "\n",
    "For example:\n",
    "```\n",
    "double_char('The') ---> 'TThhee'\n",
    "double_char('AAbb') ---> 'AAAAbbbb'\n",
    "double_char('Hi-There') ---> 'HHii--TThheerree'\n",
    "```\n",
    "\n",
    "#### Solution: Using slicing of each character in `str` object "
   ]
  },
  {
   "cell_type": "code",
   "execution_count": null,
   "metadata": {},
   "outputs": [],
   "source": [
    "def double_char(st):\n",
    "    result = ''\n",
    "    for i in range(len(st)):\n",
    "        result += st[i] + st[i]\n",
    "    return result"
   ]
  },
  {
   "cell_type": "markdown",
   "metadata": {},
   "source": [
    "#### Testing: exptected results\n",
    "```\n",
    "ok ---> ookk\n",
    "abba ---> aabbbbaa\n",
    "Word! ---> WWoorrdd!!\n",
    "Hi ---> HHii\n",
    "```"
   ]
  },
  {
   "cell_type": "code",
   "execution_count": null,
   "metadata": {},
   "outputs": [],
   "source": [
    "list = ['ok', 'abba', 'Word!', 'Hi']\n",
    "for s in list:\n",
    "    print(s, '--->', double_char(s))"
   ]
  },
  {
   "cell_type": "markdown",
   "metadata": {},
   "source": [
    "#### Another solution: Using the fact that a `str` object is iterable."
   ]
  },
  {
   "cell_type": "code",
   "execution_count": null,
   "metadata": {},
   "outputs": [],
   "source": [
    "def double_char(st):\n",
    "    result = ''\n",
    "    for ch in st:\n",
    "        result += ch + ch\n",
    "    return result"
   ]
  },
  {
   "cell_type": "code",
   "execution_count": null,
   "metadata": {},
   "outputs": [],
   "source": [
    "list = ['ok', 'abba', 'Word!', 'Hi']\n",
    "for s in list:\n",
    "    print(s, '--->', double_char(s))"
   ]
  },
  {
   "cell_type": "markdown",
   "metadata": {},
   "source": [
    "## Slice substring\n",
    "\n",
    "Slice with two parameters `S[a:b]` returns the substring of length `b - a`, starting with the character at index `a` and lasting until the character at index `b`, __not including__ the last one. \n",
    "\n",
    "For example, `S[1:4] == 'ell'`, and you can get the same substring using `S[-4:-1]`. You can mix positive and negative indexes in the same slice, for example, `S[1:-1]` is a substring without the first and the last character of the string (the slice begins with the character with index `1` and ends with an index of `-1`, not including it).\n",
    "\n",
    "Slices with two parameters never cause `IndexError`. For example, for `S == 'Hello'` the slice `S[1:5]` returns the string `'ello'`, and the result is the same even if the second index is very large, like `S[1:100]`.\n",
    "\n",
    "If you omit the second parameter (but preserve the colon), then the slice goes to the end of string. \n",
    "\n",
    "For example, to remove the first character from the string (its index is `0`) take the slice `S[1:]`. Similarly if you omit the first parameter, then Python takes the slice from the beginning of the string. That is, to remove the last character from the string, you can use slice `S[:-1]`. The slice `S[:]` matches the string `S` itself.\n"
   ]
  },
  {
   "cell_type": "markdown",
   "metadata": {},
   "source": [
    "Slice - subsequence\n",
    "-------------\n",
    "If you specify a slice with three parameters `S[a:b:d]`, the third parameter specifies the step, same as for function `range()`. In this case only the characters with the following index are taken: `a`, `a + d`, `a + 2 * d` and so on, until and not including the character with index `b`. If the third parameter equals to `2`, the slice takes every second character, and if the step of the slice equals to `-1`, the characters go in reverse order. \n",
    "\n",
    "For example, you can reverse a string like this: `S[::-1]`. \n",
    "\n",
    "Let's see the examples:\n",
    "Why don't you write your answers first and then run the code to compare?"
   ]
  },
  {
   "cell_type": "code",
   "execution_count": null,
   "metadata": {},
   "outputs": [],
   "source": [
    "s = 'gratia'\n",
    "print(s[1])\n",
    "print(s[-1])\n",
    "print(s[1:3])\n",
    "print(s[1:-1])\n",
    "print(s[:3])\n",
    "print(s[2:])\n",
    "print(s[:-1])\n",
    "print(s[::2])\n",
    "print(s[1::2])\n",
    "print(s[::-1])\n",
    "print(s[:])"
   ]
  },
  {
   "cell_type": "markdown",
   "metadata": {},
   "source": [
    "Slice - immutability of strings\n",
    "------------"
   ]
  },
  {
   "cell_type": "markdown",
   "metadata": {},
   "source": [
    "Any slice of a string creates a new string and never modifies the original one. In Python strings are __immutable__, i.e they can not be changed as the objects. You can only assign the variable to the new string, but the old one stays in memory.\n",
    "\n",
    "In fact in Python there is no variables. There are only the names that are associated with any objects. You can first associate a name with one object, and then — with another. Can several names be associated with one and the same object.\n",
    "\n",
    "#### Example 1: change `hello1` to `jello` by slicing"
   ]
  },
  {
   "cell_type": "code",
   "execution_count": null,
   "metadata": {},
   "outputs": [],
   "source": [
    "s = 'hello'\n",
    "print(id(s))\n",
    "s = 'jello'\n",
    "print(id(s))"
   ]
  },
  {
   "cell_type": "code",
   "execution_count": null,
   "metadata": {},
   "outputs": [],
   "source": [
    "s = 'hello'\n",
    "s[0] = 'j'     # TypeError "
   ]
  },
  {
   "cell_type": "markdown",
   "metadata": {},
   "source": [
    "Then how do you make a new string `'jello'` out of `'hello'` string? \n",
    "\n",
    "#### Example 2:  change `hello` to `jello`\n",
    "\n",
    "- Using string method called `replace()`."
   ]
  },
  {
   "cell_type": "code",
   "execution_count": null,
   "metadata": {},
   "outputs": [],
   "source": [
    "# method 1\n",
    "s = 'hello'\n",
    "print(s, id(s))             # print s, and its id\n",
    "t = s.replace('h', 'j')    # replace h with j\n",
    "print(t, id(t))             # print s and its id\n",
    "print(s, id(s))"
   ]
  },
  {
   "cell_type": "markdown",
   "metadata": {},
   "source": [
    "#### Example 3: change `hello` to `jello`\n",
    "\n",
    "- Using `+` concatenation and slicing "
   ]
  },
  {
   "cell_type": "code",
   "execution_count": null,
   "metadata": {},
   "outputs": [],
   "source": [
    "# method 2\n",
    "s = 'hello'\n",
    "print(s, id(s))           # print s, and its id\n",
    "s = 'j' + s[1:]                 # j + slicing\n",
    "print(s, id(s))           # print s, and its id"
   ]
  },
  {
   "cell_type": "markdown",
   "metadata": {},
   "source": [
    "# String methods\n",
    "\n",
    "Strings in Python are objects of `str` class, so they have methods.\n",
    "\n",
    "\n",
    "### `count()` method\n",
    "This method counts the number of occurrences of one string within another string. The simplest form is this one: `s.count(substring)`. Only non-overlapping occurrences are taken into account:"
   ]
  },
  {
   "cell_type": "markdown",
   "metadata": {},
   "source": [
    "#### Example 1: \n",
    "\n",
    "1. Count `a` in a string `abraham`.\n",
    "2. Count `by` in a string `Walk by faith, not by sight`"
   ]
  },
  {
   "cell_type": "code",
   "execution_count": null,
   "metadata": {},
   "outputs": [],
   "source": [
    "# count 'a' in a string\n",
    "s = 'abraham'\n",
    "print(s.count('a'))"
   ]
  },
  {
   "cell_type": "code",
   "execution_count": null,
   "metadata": {},
   "outputs": [],
   "source": [
    "# count 'by' in a string\n",
    "s = 'Walk by faith, not by sight'\n",
    "print(s.count('by'))"
   ]
  },
  {
   "cell_type": "markdown",
   "metadata": {},
   "source": [
    "### `find() and rfind()` methods\n",
    "\n",
    "A method is a function that is bound to the object. When the method is called, the method is applied to the object and does some computations related to it. Methods are invoked as `object_name.method_name(arguments)`. For example, in `s.find(\"e\")`  the string method `find()` is applied to the string `s` with one argument `\"e\"`.\n",
    "\n",
    "The `find()` method searches a substring, passed as an argument, inside the string on which it's called. The function returns the index of the first occurrence of the substring. If the substring is not found, the method returns `-1`.\n",
    "\n",
    "The `rfind()` method returns the highest index of the substring (if found). If not found, it returns -1."
   ]
  },
  {
   "cell_type": "markdown",
   "metadata": {},
   "source": [
    "#### Example 2:\n",
    "\n",
    "Find indices of `'i'`, `'Deo'` and `'F'` in `s = 'Soli Deo Gloria'` which are 3, 5 and -1, respectively."
   ]
  },
  {
   "cell_type": "code",
   "execution_count": null,
   "metadata": {},
   "outputs": [],
   "source": [
    "s = 'Soli Deo Gloria'\n",
    "# find indice of 'i', 'Deo' and 'F'\n",
    "print(s.find('i'))\n",
    "print(s.rfind('i'))"
   ]
  },
  {
   "cell_type": "markdown",
   "metadata": {},
   "source": [
    "If you call `find()` with three arguments `s.find(substring, left, right)`, the search is performed inside the slice `s[left:right]`. If you specify only two arguments, like `s.find(substring, left)`, the search is performed in the slice `s[left:]`, that is, starting with the character at index `left` to the end of the string. Method `s.find(substring, left, right)` returns the absolute index, relatively to the whole string `s`, and not to the slice."
   ]
  },
  {
   "cell_type": "markdown",
   "metadata": {},
   "source": [
    "#### Example 3:\n",
    "\n",
    "- Find two indices of the first and last occurrences of `'by'` using `find()` in `s = 'Walk by faith, not by sight. bye now!'`.\n",
    "- Use two indices and find the phrase \"by faith, not by sight\" between them."
   ]
  },
  {
   "cell_type": "code",
   "execution_count": null,
   "metadata": {},
   "outputs": [],
   "source": [
    "# find the indices of the first and second occurrences of 'by' \n",
    "s = 'Walk by faith, not by sight. bye now!'\n",
    "first = s.find('by')\n",
    "last = s.rfind('by')      # specifiy index where it begins \n",
    "print(s[first:last])"
   ]
  },
  {
   "cell_type": "markdown",
   "metadata": {},
   "source": [
    "### `replace()` method\n",
    "\n",
    "Strings have a nice convenience method for replacing text in the string. The method `replace()` replaces all occurrences of a given substring with another one. \n",
    "\n",
    "Syntax: `s.replace(old, new)`  takes the string `S` and replaces all occurrences of substring old with the substring new. "
   ]
  },
  {
   "cell_type": "markdown",
   "metadata": {},
   "source": [
    "#### Example 4:\n",
    "\n",
    "Replace the `\"Fide\"` in `s = 'Sola Fide'` with `\"Gratia\"`:"
   ]
  },
  {
   "cell_type": "code",
   "execution_count": null,
   "metadata": {},
   "outputs": [],
   "source": [
    "s = \"Sola Fide Fide Fide\"\n",
    "t = s.replace(\"Fide\", \"Gratia\")\n",
    "print(t)"
   ]
  },
  {
   "cell_type": "markdown",
   "metadata": {},
   "source": [
    "One can pass the third argument count, like this: `s.replace(old, new, count)`. It makes `replace()` to replace only first `count` occurrences and then stop. Without `count`, by default, it replaces all occurrences. "
   ]
  },
  {
   "cell_type": "code",
   "execution_count": null,
   "metadata": {},
   "outputs": [],
   "source": [
    "s = 'Sola Fide Fide Fide'\n",
    "#t = s.replace(\"Fide\", \"Gratia\", 2)\n",
    "s.replace(\"Fide\", \"Gratia\", 1)\n",
    "print(s)"
   ]
  },
  {
   "cell_type": "code",
   "execution_count": null,
   "metadata": {},
   "outputs": [],
   "source": [
    "help(str)"
   ]
  },
  {
   "cell_type": "markdown",
   "metadata": {},
   "source": [
    "## What is `self` argument in method definition? \n",
    "\n",
    "```\n",
    "replace(self, old, new, count=-1, /)\n",
    "    Return a copy with all occurrences of substring old replaced by new.\n",
    "    \n",
    "      count\n",
    "        Maximum number of occurrences to replace.\n",
    "        -1 (the default value) means replace all occurrences.\n",
    "    \n",
    "    If the optional argument count is given, only the first count occurrences are replaced.\n",
    "    \n",
    "```"
   ]
  },
  {
   "cell_type": "markdown",
   "metadata": {},
   "source": [
    "----------\n",
    "\n",
    "# Exercise [모인활 숙제: 4 문제 중에서 3 문제만 코딩하면 됩니다]\n",
    "\n",
    "## 1. `swap_two()`: To swap the two words\n",
    "Given a string consisting of __exactly two words separated by a space__. Print a new string with the first and second word positions swapped (the second word is printed first). This task should __not use loops__, but use other built-in functions.  \n",
    "\n",
    "Hint: Python funtion can have multiple assignments and returns as shown below. It produces `4, 2`:\n",
    "\n",
    "```\n",
    "def swap(x, y):\n",
    "    return y, x\n",
    " \n",
    "a, b = 2, 4\n",
    "a, b = swap(a, b)\n",
    "print(a, b)\n",
    "```\n",
    "\n",
    "#### Solution:"
   ]
  },
  {
   "cell_type": "code",
   "execution_count": null,
   "metadata": {},
   "outputs": [],
   "source": [
    "def swap_two(str):\n",
    "    return None"
   ]
  },
  {
   "cell_type": "markdown",
   "metadata": {},
   "source": [
    "#### Testing: Expected results\n",
    "\n",
    "```\n",
    "Hello, World! ---> World! Hello,\n",
    "car race ---> race car\n",
    "Sola Gratia ---> Gratia Sola\n",
    "Han Dong ---> Dong Han\n",
    "H D ---> D H\n",
    "```"
   ]
  },
  {
   "cell_type": "code",
   "execution_count": null,
   "metadata": {},
   "outputs": [],
   "source": [
    "list = ['Hello, World!', 'car race', 'Sola Gratia', 'Han Dong', 'H D']\n",
    "\n",
    "for s in list:\n",
    "    one, two = swap_two(s)\n",
    "    print(s, '--->', one, two)"
   ]
  },
  {
   "cell_type": "markdown",
   "metadata": {},
   "source": [
    "## 2. `swap_cases` \n",
    "\n",
    "Write the function to swap cases of a given string. \n",
    "\n",
    "__Hint:__ You may use some of the following functions: `isupper(), islower(), lower(), upper()`\n",
    "\n",
    "__Sample run:__\n",
    "\n",
    "```\n",
    "print(swap_cases(\"Blessing of HANDONG\"))\n",
    "print(swap_cases(\"Hello World!\"))\n",
    "print(swap_cases(\"NumPy\"))\n",
    "\n",
    "bLESSING OF handong\n",
    "hELLO wORLD!\n",
    "nUMpY\n",
    "```\n",
    "#### Solution:"
   ]
  },
  {
   "cell_type": "code",
   "execution_count": null,
   "metadata": {},
   "outputs": [],
   "source": [
    "def swap_cases(st)\n",
    "    return None"
   ]
  },
  {
   "cell_type": "markdown",
   "metadata": {},
   "source": [
    "## 3. `count_hi()`: Count the number of occurences\n",
    "\n",
    "The function, `count_hi()` returns the number of times that the string \"hi\" appears anywhere in the given string. __Do not use__ the str's methods such as `count()`.\n",
    "\n",
    "__Hint:__  Use a for-loop and slicing properly.\n",
    "\n",
    "__Example:__\n",
    "```\n",
    "count_hi('abc hi ho') ---> 1\n",
    "count_hi('ABChi hi') ---> 2\n",
    "count_hi('hihi') ---> 2\n",
    "```\n",
    "\n",
    "#### Solution:"
   ]
  },
  {
   "cell_type": "code",
   "execution_count": null,
   "metadata": {},
   "outputs": [],
   "source": [
    "def count_hi(str):\n",
    "    return None"
   ]
  },
  {
   "cell_type": "markdown",
   "metadata": {},
   "source": [
    "#### Testing: exptected result\n",
    "\n",
    "```\n",
    "hihi ---> 2\n",
    "hike ---> 1\n",
    " ---> 0\n",
    "h ---> 0\n",
    "hi ---> 1\n",
    "Aim high ---> 1\n",
    "hi, hike ---> 2\n",
    "highlight hi ---> 2\n",
    "```"
   ]
  },
  {
   "cell_type": "code",
   "execution_count": null,
   "metadata": {},
   "outputs": [],
   "source": [
    "# 테스트를 위한 아래 코드를 수정하지 말고 사용하십시오. Don't modifty the following code\n",
    "\n",
    "list = ['hihi', 'hike', '', 'h', 'hi', 'Aim high', 'hi, hike', 'highlight hi']\n",
    "for s in list:\n",
    "    count = count_hi(s)\n",
    "    print(s, '--->', count)"
   ]
  },
  {
   "cell_type": "markdown",
   "metadata": {},
   "source": [
    "## 4. `remove_between()`: Remove chars between - A Challenge Problem\n",
    "\n",
    "Given a string in which a letter __x__ occurs at least twice. Remove from that string the first and the last occurrence of the letter __x__, as well as all the characters between them. The __x__ can be any letters that you may type from a keyboard.\n",
    "\n",
    "__Hint:__ \n",
    "If you use `find(), rfind()` and slicing properly, you may code this function in even two or three lines. \n",
    "\n",
    "#### Solution:"
   ]
  },
  {
   "cell_type": "code",
   "execution_count": null,
   "metadata": {},
   "outputs": [],
   "source": [
    "def remove_between(str, ch):\n",
    "    return None"
   ]
  },
  {
   "cell_type": "markdown",
   "metadata": {},
   "source": [
    "#### Testing: exptected results\n",
    "\n",
    "Case 1. with `l`\n",
    "```\n",
    "hello ---> heo\n",
    "long life ---> ife\n",
    "living, life, love ---> ove\n",
    "Be joyful, joyful ---> Be joyfu\n",
    "```\n",
    "Case 2: with `g`\n",
    "```\n",
    "gg ---> \n",
    "gag ---> \n",
    "garage ---> e\n",
    "garbage in garbage out, ---> e out,\n",
    "```\n",
    "\n",
    "Case 3: with `y`\n",
    "```\n",
    "yoyo ---> o\n",
    "bye bye ---> be\n",
    "Walk by faith, not by sight ---> Walk b sight\n",
    "```"
   ]
  },
  {
   "cell_type": "code",
   "execution_count": null,
   "metadata": {},
   "outputs": [],
   "source": [
    "# 테스트를 위한 아래 코드를 수정하지 말고 사용하십시오. Don't modifty the following code\n",
    "\n",
    "list = ['hello', 'long life', 'living, life, love',  'Be joyful, joyful']\n",
    "for s in list:\n",
    "    answer = remove_between(s, 'l')\n",
    "    print(s, '--->', answer)"
   ]
  },
  {
   "cell_type": "code",
   "execution_count": null,
   "metadata": {},
   "outputs": [],
   "source": [
    "# 테스트를 위한 아래 코드를 수정하지 말고 사용하십시오. Don't modifty the following code\n",
    "\n",
    "list = ['gg', 'gag', 'garage', 'garbage in garbage out,']\n",
    "for s in list:\n",
    "    answer = remove_between(s, 'g')\n",
    "    print(s, '--->', answer)"
   ]
  },
  {
   "cell_type": "code",
   "execution_count": null,
   "metadata": {},
   "outputs": [],
   "source": [
    "# 테스트를 위한 아래 코드를 수정하지 말고 사용하십시오. Don't modifty the following code\n",
    "\n",
    "list = ['yoyo', 'bye bye', 'Walk by faith, not by sight']\n",
    "for s in list:\n",
    "    answer = remove_between(s, 'y')\n",
    "    print(s, '--->', answer)"
   ]
  },
  {
   "cell_type": "markdown",
   "metadata": {},
   "source": [
    "---------\n",
    "__\"Everything is permissible\" - but not everything is beneficial. \"Everything is permissible\" - but not everything is constructive.__\n",
    "1 Corinthians 10:23\n",
    "    "
   ]
  }
 ],
 "metadata": {
  "kernelspec": {
   "display_name": "Python 3",
   "language": "python",
   "name": "python3"
  },
  "language_info": {
   "codemirror_mode": {
    "name": "ipython",
    "version": 3
   },
   "file_extension": ".py",
   "mimetype": "text/x-python",
   "name": "python",
   "nbconvert_exporter": "python",
   "pygments_lexer": "ipython3",
   "version": "3.8.3"
  }
 },
 "nbformat": 4,
 "nbformat_minor": 1
}
