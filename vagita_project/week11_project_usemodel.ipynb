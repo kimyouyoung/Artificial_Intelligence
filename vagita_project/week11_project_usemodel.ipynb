{
 "cells": [
  {
   "cell_type": "code",
   "execution_count": 1,
   "metadata": {},
   "outputs": [
    {
     "name": "stdout",
     "output_type": "stream",
     "text": [
      "WARNING:tensorflow:From /Users/youyoungkim/opt/anaconda3/lib/python3.7/site-packages/tensorflow/python/compat/v2_compat.py:96: disable_resource_variables (from tensorflow.python.ops.variable_scope) is deprecated and will be removed in a future version.\n",
      "Instructions for updating:\n",
      "non-resource variables are not supported in the long term\n"
     ]
    }
   ],
   "source": [
    "import tensorflow.compat.v1 as tf\n",
    "import numpy as np\n",
    "tf.disable_v2_behavior()"
   ]
  },
  {
   "cell_type": "code",
   "execution_count": 2,
   "metadata": {},
   "outputs": [],
   "source": [
    "# 기본적이 placeholder와 가중치와 bias 값 가져오기\n",
    "X = tf.placeholder(tf.float32, shape=[None, 4]) # 변인 4개\n",
    "Y = tf.placeholder(tf.float32, shape=[None, 1]) # 변인 1개\n",
    "W = tf.Variable(tf.random_normal([4, 1]), name=\"weight\")\n",
    "b = tf.Variable(tf.random_normal([1]), name=\"bias\")"
   ]
  },
  {
   "cell_type": "code",
   "execution_count": 4,
   "metadata": {},
   "outputs": [],
   "source": [
    "# 가설 가져오기\n",
    "hypothesis = tf.matmul(X, W) + b"
   ]
  },
  {
   "cell_type": "code",
   "execution_count": 6,
   "metadata": {},
   "outputs": [],
   "source": [
    "# 저장된 모델 불러오는 모델 초기화\n",
    "saver = tf.train.Saver()\n",
    "model = tf.global_variables_initializer()"
   ]
  },
  {
   "cell_type": "code",
   "execution_count": 8,
   "metadata": {},
   "outputs": [
    {
     "name": "stdout",
     "output_type": "stream",
     "text": [
      "평균 온도: 20\n",
      "최저 온도: 10\n",
      "최고 온도: 30\n",
      "강수량: 50\n"
     ]
    }
   ],
   "source": [
    "# 사용자로부터 \n",
    "avg_temp = float(input('평균 온도: '))\n",
    "min_temp = float(input('최저 온도: '))\n",
    "max_temp = float(input('최고 온도: '))\n",
    "rain_fall = float(input('강수량: '))"
   ]
  },
  {
   "cell_type": "code",
   "execution_count": 11,
   "metadata": {},
   "outputs": [
    {
     "name": "stdout",
     "output_type": "stream",
     "text": [
      "INFO:tensorflow:Restoring parameters from ./saved.cpkt\n",
      "예측한 배추가격은  [7401.3037] 원 입니다. \n"
     ]
    }
   ],
   "source": [
    "# tensorflow Session 이용하여 결과 가격값 출력\n",
    "with tf.Session() as sess:\n",
    "    sess.run(model)\n",
    "    \n",
    "    save_path = \"./saved.cpkt\"\n",
    "    saver.restore(sess, save_path)\n",
    "    \n",
    "    data = ((avg_temp, min_temp, max_temp, rain_fall),)\n",
    "    arr = np.array(data, dtype=np.float32)\n",
    "    \n",
    "    # 예측 수행\n",
    "    x_data = arr[0:4] # avg_temp, min_temp, max_temp, rain_fall\n",
    "    price = sess.run(hypothesis, feed_dict={X:x_data})\n",
    "    \n",
    "    print(\"예측한 배추가격은 \", price[0], \"원 입니다. \")"
   ]
  },
  {
   "cell_type": "code",
   "execution_count": null,
   "metadata": {},
   "outputs": [],
   "source": []
  }
 ],
 "metadata": {
  "kernelspec": {
   "display_name": "Python 3",
   "language": "python",
   "name": "python3"
  },
  "language_info": {
   "codemirror_mode": {
    "name": "ipython",
    "version": 3
   },
   "file_extension": ".py",
   "mimetype": "text/x-python",
   "name": "python",
   "nbconvert_exporter": "python",
   "pygments_lexer": "ipython3",
   "version": "3.7.6"
  }
 },
 "nbformat": 4,
 "nbformat_minor": 4
}
