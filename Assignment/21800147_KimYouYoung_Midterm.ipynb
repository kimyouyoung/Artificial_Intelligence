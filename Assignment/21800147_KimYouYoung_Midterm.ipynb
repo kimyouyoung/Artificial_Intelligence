{
 "cells": [
  {
   "cell_type": "markdown",
   "metadata": {},
   "source": [
    "# Welcome to \"Crush Python\"\n",
    "\n",
    "God has saved us and called us to a holy life - not because of anythin we have done but because of his own purpose and grace. This grace was given us in Christ Jesus before the beginning of time. (1Tim1:9)\n",
    "\n",
    "하나님이 우리를 구원하사 거룩하신 소명으로 부르심은 우리의 행위대로 하심이 아니요 오직 자기 뜻과 영원 전부터 그리스도 예수 안에서 우리에게 주신 은혜대로 하심이라. (딤후1:9)\n",
    "\n",
    "----------"
   ]
  },
  {
   "cell_type": "markdown",
   "metadata": {},
   "source": [
    "### Some Excellent Machine Learning Technical Video Lectures Recommended\n",
    "\n",
    "1. [Neural Networks](https://www.youtube.com/watch?v=aircAruvnKk&list=PLZHQObOWTQDNU6R1_67000Dx_ZCJB-3pi)\n",
    "    - link: [YouTube](https://www.youtube.com/watch?v=aircAruvnKk&list=PLZHQObOWTQDNU6R1_67000Dx_ZCJB-3pi)\n",
    "    - length: 19:13\n",
    "    - lecturer: 3Blue1Brown\n",
    "    - contents: One of the best lecture series about neural networks.\n",
    "    \n",
    "1. [Gradient descent](https://www.youtube.com/watch?v=IHZwWFHWa-w&list=PLZHQObOWTQDNU6R1_67000Dx_ZCJB-3pi&index=3&t=0s)\n",
    "    - link: [YouTube](https://www.youtube.com/watch?v=IHZwWFHWa-w&list=PLZHQObOWTQDNU6R1_67000Dx_ZCJB-3pi&index=3&t=0s)\n",
    "    - length: 21:00\n",
    "    - lecturer: 3Blue1Brown\n",
    "    - contents: One of the best lecture series about neural networks.\n",
    "    \n",
    "1. [What is backpropagation really doing?](https://www.youtube.com/watch?v=Ilg3gGewQ5U&list=PLZHQObOWTQDNU6R1_67000Dx_ZCJB-3pi&index=3)\n",
    "    - link: [YouTube](https://www.youtube.com/watch?v=Ilg3gGewQ5U&list=PLZHQObOWTQDNU6R1_67000Dx_ZCJB-3pi&index=3)\n",
    "    - length: 13:53\n",
    "    - lecturer: 3Blue1Brown\n",
    "    - contents: One of the best lecture series about neural networks.\n",
    "    \n",
    "1. [Backpropagation calculus](https://www.youtube.com/watch?v=Ilg3gGewQ5U&list=PLZHQObOWTQDNU6R1_67000Dx_ZCJB-3pi&index=3)\n",
    "    - link: [YouTube](https://www.youtube.com/watch?v=Ilg3gGewQ5U&list=PLZHQObOWTQDNU6R1_67000Dx_ZCJB-3pi&index=3)\n",
    "    - length: 10:18\n",
    "    - lecturer: 3Blue1Brown\n",
    "    - contents: One of the best lecture series about neural networks.\n"
   ]
  },
  {
   "cell_type": "markdown",
   "metadata": {},
   "source": [
    "# [The Monty Hall Problem](http://en.wikipedia.org/wiki/Monty_Hall_problem)\n",
    "\n",
    "Here's a fun and perhaps surprising statistical riddle, and a good way to get some practice writing python functions.\n",
    "\n",
    "In a gameshow, contestants try to guess which of 3 closed doors contain a cash prize (goats are behind the other two doors). Of course, the odds of choosing the correct door are 1 in 3. As a twist, the host of the show occasionally opens a door after a contestant makes his or her choice. This door is always one of the two the contestant did not pick, and is also always one of the goat doors (note that it is always possible to do this, since there are two goat doors). At this point, the contestant has the option of keeping his or her original choice, or swtiching to the other unopened door. The question is: is there any benefit to switching doors? The answer surprises many people who haven't heard the question before.\n",
    "\n",
    "We can answer the problem by running simulations in Python. We'll do it in several parts.\n"
   ]
  },
  {
   "cell_type": "code",
   "execution_count": null,
   "metadata": {
    "scrolled": true
   },
   "outputs": [],
   "source": [
    "from IPython.display import YouTubeVideo\n",
    "YouTubeVideo('mhlc7peGlGg') "
   ]
  },
  {
   "cell_type": "markdown",
   "metadata": {},
   "source": [
    "### Refer to another good explanations of Monty Hall Problem in Korean\n",
    "- [서울대 경영대학원 - 직관과 다른 확률](https://cba.snu.ac.kr/ko/sblcolumn?mode=view&bbsidx=77838)\n",
    "- [위키피디아](https://ko.wikipedia.org/wiki/%EB%AA%AC%ED%8B%B0_%ED%99%80_%EB%AC%B8%EC%A0%9C)\n",
    "- [나무위키](https://namu.wiki/w/%EB%AA%AC%ED%8B%B0%20%ED%99%80%20%EB%AC%B8%EC%A0%9C)"
   ]
  },
  {
   "cell_type": "markdown",
   "metadata": {},
   "source": [
    "## Step 1: (Using list)\n",
    "First, write a function called `simulate_prizedoor`. This function will simulate the location of the prize in many games -- see the detailed specification below:"
   ]
  },
  {
   "cell_type": "code",
   "execution_count": null,
   "metadata": {},
   "outputs": [],
   "source": [
    "#%%file simulate_prizedoor.py\n",
    "# simulate_prizedoor.py\n",
    "# CrushPython - MontyHall\n",
    "import random                    # to use random.randint(......)\n",
    "\n",
    "def simulate_prizedoor(nsim):\n",
    "    \"\"\"    \n",
    "    Return a random array or list of 0s, 1s, and 2s. \n",
    "    The length of the array or list is the parameter nsim - a positive integer. \n",
    "    nsim represents the number of simulation. \n",
    "    \n",
    "    This function generates a random array of 0s, 1s, and 2s, representing \n",
    "    hiding a prize between door 0, door 1, and door. \n",
    "    \n",
    "    Use random.randint(0,2) to generate the numbers of 0, 1, and 2 randomly.\n",
    "\n",
    "    >>> print(simulate_prizedoor(3))\n",
    "    array([0, 0, 2])\n",
    "    >>> print(simulate_prizedoor(7))\n",
    "    [2, 1, 0, 1, 1, 0, 2]\n",
    "    \"\"\"\n",
    "    assert nsim >= 1\n",
    "    \n",
    "    prizedoors = []\n",
    "    for i in range(nsim):\n",
    "        answer = random.randint(0, 2)\n",
    "        prizedoors.append(answer)\n",
    "    \n",
    "    return prizedoors"
   ]
  },
  {
   "cell_type": "code",
   "execution_count": null,
   "metadata": {},
   "outputs": [],
   "source": [
    "print(simulate_prizedoor(3))\n",
    "simulate_prizedoor(7)"
   ]
  },
  {
   "cell_type": "markdown",
   "metadata": {},
   "source": [
    "### Step 1: NumPy Impelmentation \n",
    "\n",
    "The code shown below does the same thing, but is implemented using numpy array, not list. "
   ]
  },
  {
   "cell_type": "code",
   "execution_count": null,
   "metadata": {},
   "outputs": [],
   "source": [
    "import numpy as np\n",
    "import random                    # to use random.randint(......)\n",
    "\n",
    "def simulate_prizedoor(nsim):\n",
    "    assert nsim >= 1\n",
    "\n",
    "    prizedoors = np.empty(0, dtype=int)\n",
    "    for num in range(0, nsim):\n",
    "        answer = random.randint(0, 2)\n",
    "        prizedoors = np.append(prizedoors, answer)\n",
    "    \n",
    "    return prizedoors"
   ]
  },
  {
   "cell_type": "code",
   "execution_count": null,
   "metadata": {},
   "outputs": [],
   "source": [
    "print(simulate_prizedoor(3))\n",
    "simulate_prizedoor(7)"
   ]
  },
  {
   "cell_type": "markdown",
   "metadata": {},
   "source": [
    "#### 질문 1: \n",
    "함수 `simulate_prizedoor(5)`을 실행했을 때, 함수가 `[0, 1, 1, 2, 0]`를 반환한다면, 5의 의미는 무엇이며, 반환값 각각의 의미는 무엇입니까? 또한 `simulate_prizedoor()` 함수가 `[1, 1, 1, 1, 1]`같은 값도 반환할 수도 있나요? yes/no로 답하십시오. "
   ]
  },
  {
   "cell_type": "markdown",
   "metadata": {},
   "source": [
    "#### 답:\n",
    "- 5(parameter): number of simulation, 즉 array or list의 length\n",
    "- 반환값(prizedoors): array or list (the location of the prize), 즉 parameter의 갯수만큼 random하게 prize가 있는 위치를 정한다음, array or list로 돌려준다.\n",
    "- yes"
   ]
  },
  {
   "cell_type": "markdown",
   "metadata": {},
   "source": [
    "#### 질문 2: \n",
    "위의 코드에서 `assert nsim >= 1` 은 무엇을 하는 것이며, 왜 이런 구문이 필요한 것일까요?  "
   ]
  },
  {
   "cell_type": "markdown",
   "metadata": {},
   "source": [
    "#### 답:\n",
    "- nsim이 1이상인지를 체크(보장)해주는 것이다. \n",
    "- nsim이 1보다 작다면 array or list를 생성할 수 없으므로 array or list의 length를 1이상으로 보장해주어야 하기 때문에 필요하다.\n",
    "- 만약 nsim >= 1조건을 만족하지 않는다면 AssertError가 발생할 것이다."
   ]
  },
  {
   "cell_type": "markdown",
   "metadata": {},
   "source": [
    "## Step 2: (using list)\n",
    "Next, write a function `simulate_guess()` that simulates the contestant's guesses for `nsim` simulations. Call this function `simulate_guess`. The specs:"
   ]
  },
  {
   "cell_type": "code",
   "execution_count": null,
   "metadata": {},
   "outputs": [],
   "source": [
    "#%%file simulate_guess.py\n",
    "# simulate_guess.py\n",
    "# CrushPython - MontyHall\n",
    "\n",
    "import random\n",
    "def simulate_guess(nsim):\n",
    "    \"\"\"\n",
    "    Return an arry of list that is  a strategy for guessing which door \n",
    "    a prize is behind. This could be a random strategy, one that always \n",
    "    guesses 2, whatever. \n",
    "    \n",
    "    You may use randint() as well here\n",
    "\n",
    "    nsim is the number of simulations to generate guesses for.\n",
    "\n",
    "    >>> print(simulate_guess(5))\n",
    "    array([0, 0, 0, 0, 0])\n",
    "    >>> print(simulate_guess(5))\n",
    "    [0, 0, 0, 0, 0]\n",
    "    \"\"\"\n",
    "\n",
    "    assert nsim >= 1\n",
    "    \n",
    "    guesses = []\n",
    "    for num in range(nsim):\n",
    "        answer = random.randint(0, 2)\n",
    "        guesses.append(answer)\n",
    "        \n",
    "    return guesses"
   ]
  },
  {
   "cell_type": "code",
   "execution_count": null,
   "metadata": {},
   "outputs": [],
   "source": [
    "simulate_guess(7)"
   ]
  },
  {
   "cell_type": "markdown",
   "metadata": {},
   "source": [
    "### Step 2: NumPy Impelmentation "
   ]
  },
  {
   "cell_type": "code",
   "execution_count": null,
   "metadata": {},
   "outputs": [],
   "source": [
    "def simulate_guess(nsim):\n",
    "    assert nsim >= 1\n",
    "    guesses = np.empty(0, dtype=int)\n",
    "    for num in range(0, nsim):\n",
    "        answer = random.randint(1, 1)\n",
    "        guesses = np.append(guesses, answer)\n",
    "    return guesses"
   ]
  },
  {
   "cell_type": "code",
   "execution_count": null,
   "metadata": {},
   "outputs": [],
   "source": [
    "simulate_guess(7)"
   ]
  },
  {
   "cell_type": "markdown",
   "metadata": {},
   "source": [
    "#### 질문 3: \n",
    "`simulate_guess()`함수는 누구(Show Host or Contestant)의 역할을 감당하는 것을 시뮬레이션 하는 것인가요? \n"
   ]
  },
  {
   "cell_type": "markdown",
   "metadata": {},
   "source": [
    "#### 답:\n",
    "- simulate_guess()함수는 참가자의 역할을 감당하는 것이다.\n",
    "- 몇번째 door에 prize가 있을 지를 guess하는 역할을 감당한다.(시뮬레이션) \n",
    "- random하게 nsim의 갯수만큼 array or list를 만들거나 하나의 숫자로만 (ex. [2, 2, 2] if nsim = 3) 만들 수 있다."
   ]
  },
  {
   "cell_type": "markdown",
   "metadata": {},
   "source": [
    "#### 질문 4: \n",
    "`simulate_guess()` 함수를 정의할 때, 왜 \"This could be a random strategy, one that always guesses 2, whatever.\"라고 설명하나요? random strategy로 할 때의 함수 반환값과 다른 경우의 반환값을 각각 `nsim = 7` 일 경우, 나열하십시오. \n"
   ]
  },
  {
   "cell_type": "markdown",
   "metadata": {},
   "source": [
    "#### 답:\n",
    "- random strategy를 통해 번호를 예상하는 것과 항상 같은 번호를 예상하는 것 모두 전략으로 사용할 수 있기때문이다.\n",
    "- random strategy: array([2, 2, 0, 2, 1, 1, 0])\n",
    "- always guesses same number: array([1, 1, 1, 1, 1, 1, 1])"
   ]
  },
  {
   "cell_type": "markdown",
   "metadata": {},
   "source": [
    "## Step 3: \n",
    "Next, write a function, `goat_door`, to simulate randomly revealing one of the goat doors that a contestant didn't pick."
   ]
  },
  {
   "cell_type": "code",
   "execution_count": null,
   "metadata": {},
   "outputs": [],
   "source": [
    "#%%file goat_door.py\n",
    "# goat_door.py\n",
    "# CrushPython - MontyHall\n",
    "\n",
    "import numpy as np\n",
    "import random\n",
    "\n",
    "def goat_door(prizedoors, guesses):\n",
    "    \"\"\" Return the goat door that is opened for each simulation. \n",
    "    Each item is 0, 1, or 2, and is different from both prizedoors and guesses.\n",
    "    \n",
    "    It simulates the opening of a \"goat door\" that doesn't contain the prize,\n",
    "        and is different from the contestants guess\n",
    "    The prizedoors array or list is the door that the prize is behind \n",
    "        in each simulation\n",
    "    The guesses array or list is the door that the contestant guessed \n",
    "        in each simulation\n",
    "        \n",
    "    remove(element) removes the first matching element from the list.\n",
    "    pop() removes the last element from the list.\n",
    "\n",
    "    >>> print(goat_door(np.array([0, 1, 2]), np.array([1, 1, 1])))\n",
    "    array([2, 2, 0])              # array([2, 0, 0]) is valid too.\n",
    "    >>> print(goat_door([0, 1, 2], [1, 1, 1]))\n",
    "    array([2, 2, 0])              # array([2, 0, 0]) is valid too.\n",
    "    \"\"\"\n",
    "    \n",
    "    goat_door = []\n",
    "    \n",
    "    for prize, guess in zip(prizedoors, guesses):\n",
    "        arr = [0, 1, 2]\n",
    "        if prize != guess:\n",
    "            arr.remove(prize)\n",
    "            arr.remove(guess)\n",
    "        else:\n",
    "            arr.remove(prize)\n",
    "            \n",
    "        random.shuffle(arr)\n",
    "        goat_door.append(random.choice(arr))\n",
    "\n",
    "    return goat_door"
   ]
  },
  {
   "cell_type": "code",
   "execution_count": null,
   "metadata": {},
   "outputs": [],
   "source": [
    "goat_door([0, 1, 2], [1, 1, 1])"
   ]
  },
  {
   "cell_type": "code",
   "execution_count": null,
   "metadata": {},
   "outputs": [],
   "source": [
    "print(goat_door(np.array([0, 1, 2, 0, 2]), np.array([1, 1, 1, 1, 1])))"
   ]
  },
  {
   "cell_type": "markdown",
   "metadata": {},
   "source": [
    "### Step 3: NumPy Impelmentation "
   ]
  },
  {
   "cell_type": "code",
   "execution_count": null,
   "metadata": {},
   "outputs": [],
   "source": [
    "def goat_door(prizedoors, guesses):\n",
    "    \n",
    "    goat_door = np.empty(0, dtype=int)\n",
    "    \n",
    "    for prize, guess in zip(prizedoors, guesses):\n",
    "        arr = np.arange(start=0, stop=3, step=1)\n",
    "        \n",
    "        if prize != guess:\n",
    "            if prize > guess:\n",
    "                arr = np.delete(arr, prize)\n",
    "                arr = np.delete(arr, guess)\n",
    "            else:\n",
    "                arr = np.delete(arr, guess)\n",
    "                arr = np.delete(arr, prize)\n",
    "            \n",
    "        else:\n",
    "            arr = np.delete(arr, prize)\n",
    "        \n",
    "        np.random.shuffle(arr)\n",
    "        goat_door = np.append(goat_door, random.choice(arr))\n",
    "    \n",
    "    return goat_door"
   ]
  },
  {
   "cell_type": "code",
   "execution_count": null,
   "metadata": {},
   "outputs": [],
   "source": [
    "print(goat_door(np.array([0, 1, 2, 1, 2]), np.array([1, 2, 0, 1, 0])))"
   ]
  },
  {
   "cell_type": "markdown",
   "metadata": {},
   "source": [
    "#### 질문 5:\n",
    "\n",
    "만약 `prizedoors = [0, 1, 2, 1, 2], )`이며, random strtegy로 인하여, `guesses = [1, 2, 0, 1, 0]`이라면, `goat_door()`가 반환하는 값은 무엇입니까? 답이 여러 개라면, 모든 경우를 나열하십시오. \n",
    "\n"
   ]
  },
  {
   "cell_type": "markdown",
   "metadata": {},
   "source": [
    "#### 답:\n",
    "```\n",
    "- [2, 0, 1, 0, 1]\n",
    "- [2, 0, 1, 2, 1]\n",
    "```"
   ]
  },
  {
   "cell_type": "markdown",
   "metadata": {},
   "source": [
    "## Step 4: \n",
    "Write a function, `switch_guess`, that represents the strategy of always switching a guess after the goat door is opened."
   ]
  },
  {
   "cell_type": "code",
   "execution_count": null,
   "metadata": {},
   "outputs": [],
   "source": [
    "# %load switch_guess.py\n",
    "#%%file switch_guess.py\n",
    "# CrushPython - MontyHall\n",
    "\n",
    "def switch_guess(guesses, goatdoors):\n",
    "    \"\"\" Return the new door after switching. Should be different from \n",
    "    both guesses and goatdoors.\n",
    "    The parameter guesses is an array or list of original guesses for \n",
    "        each simulation \n",
    "    The parameter goatdoors is an array or list of revealed goat doors for \n",
    "        each simulation\n",
    "    The strategy that always switches a guess after the goat door is opened\n",
    "    \n",
    "    remove(element) removes the first matching element from the list.\n",
    "    pop() removes the last element from the list.\n",
    "    \n",
    "    >>> print(switch_guess(np.array([0, 1, 2]), np.array([1, 2, 1])))\n",
    "    [2, 0, 0]                      # [2, 0, 0] is valid\n",
    "    >>> print(switch_guess([0, 1, 2], [1, 2, 1]))\n",
    "    [2, 0, 0]                      # [2, 0, 0] is valid\n",
    "    \"\"\"\n",
    "    switchguess = []\n",
    "    \n",
    "    for guess, goat in zip(guesses, goatdoors):\n",
    "        arr = [0, 1, 2]\n",
    "        \n",
    "        if guess != goat:\n",
    "            arr.remove(guess)\n",
    "            arr.remove(goat)\n",
    "            random.shuffle(arr)\n",
    "            switchguess.append(random.choice(arr))\n",
    "        else:\n",
    "            print(\"ERROR: guess and goatdoor can't same number:(\")\n",
    "            return -1\n",
    "            \n",
    "    return switchguess"
   ]
  },
  {
   "cell_type": "code",
   "execution_count": null,
   "metadata": {},
   "outputs": [],
   "source": [
    "switch_guess([0, 1, 2], [1, 2, 1])"
   ]
  },
  {
   "cell_type": "code",
   "execution_count": null,
   "metadata": {},
   "outputs": [],
   "source": [
    "switch_guess(np.array([1, 1, 1]), np.array([2, 0, 0]))"
   ]
  },
  {
   "cell_type": "markdown",
   "metadata": {},
   "source": [
    "### Step 4: NumPy Impelmentation "
   ]
  },
  {
   "cell_type": "code",
   "execution_count": null,
   "metadata": {},
   "outputs": [],
   "source": [
    "def switch_guess(guesses, goatdoors):\n",
    "    \n",
    "    switchguess = np.empty(0, dtype=int)\n",
    "    \n",
    "    for guess, goat in zip(guesses, goatdoors):\n",
    "        arr = np.arange(start=0, stop=3, step=1)\n",
    "        if guess != goat:\n",
    "            if guess > goat:\n",
    "                arr = np.delete(arr, guess)\n",
    "                arr = np.delete(arr, goat)\n",
    "            else:\n",
    "                arr = np.delete(arr, goat)\n",
    "                arr = np.delete(arr, guess)\n",
    "                \n",
    "            np.random.shuffle(arr)\n",
    "            switchguess = np.append(switchguess, random.choice(arr))\n",
    "            \n",
    "        else:\n",
    "            print(\"ERROR: guess and goatdoor can't same number:(\")\n",
    "            return -1\n",
    "    \n",
    "    return switchguess"
   ]
  },
  {
   "cell_type": "code",
   "execution_count": null,
   "metadata": {},
   "outputs": [],
   "source": [
    "switch_guess([0, 1, 2, 1, 0], [2, 1, 0, 2, 1])"
   ]
  },
  {
   "cell_type": "markdown",
   "metadata": {},
   "source": [
    "#### 질문 6:\n",
    "\n",
    "만약, `switch_guess(guesses = [0, 1, 2, 1, 0], ________ )` 함수에 `goatdoors = [2, 1, 0, 2, 1]`를 인자로 호출한다면, 함수는 작동하지 않을 것입니다. `goatdoors` 인자 값에서 잘못된 부분의 의미(이유)를 설명하고, 작동할 수 있는 인자값(들)을 제시하십시오. "
   ]
  },
  {
   "cell_type": "markdown",
   "metadata": {},
   "source": [
    "#### 답:\n",
    "```\n",
    "- goatdoors [2, 2, 0, 2, 1] or [2, 0, 0, 2, 1]\n",
    "- switch_guess([0, 1, 2, 1, 0], [2, 1, 0, 2, 1]) -> 결과: ERROR\n",
    "- 잘못된 부분은 index = 1인 부분에서 guesses와 goatdoors가 같다는 것이다. guesses의 값과 goatdoors의 값이 같다는 것은 말이 되지 않는다. 앞서 작성한 goat_door함수에서 guesses와 다른 값을 goatdoors에 넣어주었기 때문에 guesses와 goatdoor에 같은 값이 존재한다는 것은 잘못되었다.\n",
    "```"
   ]
  },
  {
   "cell_type": "markdown",
   "metadata": {},
   "source": [
    "## Step 5 - Almost finished...: \n",
    "Last function: write a `win_percentage` function that takes an array or list of `guesses` and `prizedoors`, and returns the percent of correct guesses"
   ]
  },
  {
   "cell_type": "code",
   "execution_count": null,
   "metadata": {},
   "outputs": [],
   "source": [
    "#%%file win_percentage.py\n",
    "# win_percentage.py\n",
    "# CrushPython - MontyHall\n",
    "\n",
    "def win_percentage(guesses, prizedoors):\n",
    "    \"\"\" Return the win percentage between 0 and 100. \n",
    "    win_percentage is calculated by the percent of times that a simulation of \n",
    "        guesses is correct\n",
    "    The parameters: \n",
    "    guesses is an array or list of guesses for each simulation\n",
    "    prizedoors is an array or list of the location of prize for each simulation\n",
    "\n",
    "    >>> print(win_percentage(np.array([0, 1, 2]), np.array([0, 0, 0])))\n",
    "    33.333\n",
    "    >>> print(win_percentage([0, 1, 2], [0, 0, 0]))\n",
    "    33.333\n",
    "    \"\"\"\n",
    "    \n",
    "    wins = []\n",
    "    \n",
    "    for guess, prize in zip(guesses, prizedoors):\n",
    "        if guess == prize:\n",
    "            wins.append(1)\n",
    "        else:\n",
    "            wins.append(-1)\n",
    "    \n",
    "    count = wins.count(1)\n",
    "    winpercentage = round(count / len(guesses) * 100, 3)\n",
    "    \n",
    "    return winpercentage"
   ]
  },
  {
   "cell_type": "code",
   "execution_count": null,
   "metadata": {},
   "outputs": [],
   "source": [
    "print(win_percentage([0, 1, 2], [0, 0, 0]))\n",
    "print(win_percentage(np.array([0, 1, 2]), np.array([0, 0, 0])))"
   ]
  },
  {
   "cell_type": "markdown",
   "metadata": {},
   "source": [
    "# Congratulations!\n",
    "\n",
    "## Step 5 - The final step: \n",
    "Now, put it together. Simulate (nsim=1000) games where contestant keeps his original guess versus where the contestant switches his door after a  goat door is revealed. \n",
    "\n",
    "Compute the percentage of time the contestant wins under either strategy. Is one strategy better than the other?\n",
    "\n",
    "__A sample run:__\n",
    "```\n",
    "Winning Rate with the original guess: 0.324\n",
    "Winning Rate with the switched guess: 0.647\n",
    "```"
   ]
  },
  {
   "cell_type": "code",
   "execution_count": null,
   "metadata": {},
   "outputs": [],
   "source": [
    "#%%file MontyHall.py\n",
    "# MontyFall.py\n",
    "# CrushPython - MontyHall\n",
    "\n",
    "nsim = 1000\n",
    "\n",
    "prizedoor = simulate_prizedoor(nsim)\n",
    "guess = simulate_guess(nsim)\n",
    "goat = goat_door(prizedoor, guess)\n",
    "print(\"Winning Rate with the original guess:\", round(win_percentage(guess, prizedoor) / 100, 3))\n",
    "\n",
    "#switch everytime for nsim\n",
    "prizedoor = simulate_prizedoor(nsim)\n",
    "guess = simulate_guess(nsim)\n",
    "goat = goat_door(prizedoor, guess)\n",
    "switchguess = switch_guess(guess, goat)\n",
    "print(\"Winning Rate with the switched guess:\", round(win_percentage(switchguess, prizedoor) / 100, 3))"
   ]
  },
  {
   "cell_type": "markdown",
   "metadata": {},
   "source": [
    "# Challenge: Plot the simulation process. \n",
    "As the number of simulation increases, the winning rate converges as we computed above. In the plot, the x-axis is the number of simulation, and the y-axis the winning rate.\n",
    "\n",
    "__A sample run:__\n",
    "<img src=\"https://github.com/idebtor/KMOOC-ML/blob/master/ipynb/images/montyhall_plot.png?raw=true\" width=\"400\">\n",
    "<center>Monty Hall problem winning rate simulation</center>"
   ]
  },
  {
   "cell_type": "code",
   "execution_count": null,
   "metadata": {},
   "outputs": [],
   "source": [
    "#%%file MontyHallPlot.py\n",
    "# MontyFallPlot.py\n",
    "# CrushPython - MontyHall\n",
    "\n",
    "%matplotlib inline\n",
    "import matplotlib.pyplot as plot\n",
    "\n",
    "nsim = 1000    \n",
    "win_rate_keep = []\n",
    "\n",
    "for n in range(1, nsim):\n",
    "    prizedoor = simulate_prizedoor(n)\n",
    "    guess = simulate_guess(n)\n",
    "    goat = goat_door(prizedoor, guess)\n",
    "    win_rate_keep.append(win_percentage(guess, prizedoor) / 100)\n",
    "\n",
    "plot.plot([x for x in range(1, nsim)], win_rate_keep, label='Original Guess')   \n",
    "\n",
    "win_rate_swap = []\n",
    "for n in range(1, nsim):\n",
    "    prizedoor = simulate_prizedoor(n)\n",
    "    guess = simulate_guess(n)\n",
    "    goat = goat_door(prizedoor, guess)\n",
    "    switchguess = switch_guess(guess, goat)\n",
    "    win_rate_swap.append(win_percentage(switchguess, prizedoor) / 100)\n",
    "\n",
    "plot.plot([x for x in range(1, nsim)], win_rate_swap, label='Switched Guess')   \n",
    "plot.title(\"Winning Rate Plot\")\n",
    "plot.xlabel(\"Number of Simulation\")\n",
    "plot.ylabel(\"Winning Percentage\")\n",
    "plot.legend() "
   ]
  },
  {
   "cell_type": "markdown",
   "metadata": {},
   "source": [
    "### Fianl Note:\n",
    "Many people find this answer counter-intuitive (famously, PhD mathematicians have incorrectly claimed the result must be wrong. Clearly, none of them knew Python). \n",
    "\n",
    "One of the best ways to build intuition about why opening a Goat door affects the odds is to re-run the experiment with 100 doors and one prize. If the game show host opens 98 goat doors after you make your initial selection, would you want to keep your first pick or switch? Can you generalize your simulation code to handle the case of `n` doors?   'YES I can do:)'"
   ]
  },
  {
   "cell_type": "markdown",
   "metadata": {},
   "source": [
    "-----\n",
    "God has saved us and called us to a holy life - not because of anythin we have done but because of his own purpose and grace. This grace was given us in Christ Jesus before the beginning of time. (1Tim1:9)\n",
    "\n",
    "하나님이 우리를 구원하사 거룩하신 소명으로 부르심은 우리의 행위대로 하심이 아니요 오직 자기 뜻과 영원 전부터 그리스도 예수 안에서 우리에게 주신 은혜대로 하심이라. (딤후1:9)"
   ]
  }
 ],
 "metadata": {
  "kernelspec": {
   "display_name": "Python 3",
   "language": "python",
   "name": "python3"
  },
  "language_info": {
   "codemirror_mode": {
    "name": "ipython",
    "version": 3
   },
   "file_extension": ".py",
   "mimetype": "text/x-python",
   "name": "python",
   "nbconvert_exporter": "python",
   "pygments_lexer": "ipython3",
   "version": "3.8.3"
  }
 },
 "nbformat": 4,
 "nbformat_minor": 1
}
