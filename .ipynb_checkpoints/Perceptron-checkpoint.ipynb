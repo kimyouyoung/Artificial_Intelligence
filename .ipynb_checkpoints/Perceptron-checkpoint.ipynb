{
 "cells": [
  {
   "cell_type": "code",
   "execution_count": 35,
   "metadata": {},
   "outputs": [],
   "source": []
  },
  {
   "cell_type": "code",
   "execution_count": 60,
   "metadata": {},
   "outputs": [],
   "source": [
    "def perceptronV2(X, y, w=None, eta=0.1, epochs=10, random_seed=1):\n",
    "    # There is a bug.\n",
    "    if w is None:\n",
    "        randnum = np.random.RandomState(random_seed)\n",
    "        w = randnum.normal(loc=0.0, scale=0.01, size=X.shape[1])\n",
    "    maxy, miny = y.max(), y.min()\n",
    "    for _ in np.arange(epochs):\n",
    "        for xi, yi in zip(X, y):\n",
    "            z = np.dot(w.T, xi)\n",
    "            yhat = np.where(z > 0.0, maxy, miny)\n",
    "            if yhat != yi:\n",
    "                print(z)\n",
    "                delta = eta * (yi - yhat) * xi\n",
    "                print(delta)\n",
    "                w += delta\n",
    "                print(w)\n",
    "    return w"
   ]
  },
  {
   "cell_type": "code",
   "execution_count": 61,
   "metadata": {},
   "outputs": [
    {
     "name": "stdout",
     "output_type": "stream",
     "text": [
      "[0.  1.  0.5]\n",
      "[0.  1.  0.5]\n",
      "1.0\n",
      "[-0.4 -0.8  0.8]\n",
      "[-0.4  0.2  1.3]\n",
      "[-0.4  0.2  1.3]\n",
      "[-0.4  0.2  1.3]\n",
      "[-0.4  0.2  1.3]\n",
      "[-0.4  0.2  1.3]\n",
      "-0.7500000000000001\n",
      "[ 0.4  0.6 -0.2]\n",
      "[0.  0.8 1.1]\n",
      "[0.  0.8 1.1]\n",
      "[0.  0.8 1.1]\n",
      "[0.  0.8 1.1]\n",
      "[0.  0.8 1.1]\n",
      "[0.  0.8 1.1]\n",
      "-0.5\n",
      "[ 0.4 -0.8  0.4]\n",
      "[0.4 0.  1.5]\n",
      "[0.4 0.  1.5]\n",
      "-0.35\n",
      "[ 0.4  0.6 -0.2]\n",
      "[0.8 0.6 1.3]\n",
      "[0.8 0.6 1.3]\n",
      "[0.8 0.6 1.3]\n",
      "[0.8 0.6 1.3]\n",
      "[0.8 0.6 1.3]\n",
      "[0.8 0.6 1.3]\n",
      "[0.8 0.6 1.3]\n",
      "[0.8 0.6 1.3]\n",
      "[0.8 0.6 1.3]\n",
      "[0.8 0.6 1.3]\n",
      "[0.8 0.6 1.3]\n",
      "[0.8 0.6 1.3]\n",
      "[0.8 0.6 1.3]\n",
      "[0.8 0.6 1.3]\n",
      "[0.8 0.6 1.3]\n",
      "[0.8 0.6 1.3]\n",
      "[0.8 0.6 1.3]\n",
      "[0.8 0.6 1.3]\n",
      "[0.8 0.6 1.3]\n",
      "[0.8 0.6 1.3]\n",
      "[0.8 0.6 1.3]\n",
      "[0.8 0.6 1.3]\n",
      "[0.8 0.6 1.3]\n",
      "[0.8 0.6 1.3]\n",
      "[0.8 0.6 1.3]\n"
     ]
    },
    {
     "data": {
      "text/plain": [
       "array([0.8, 0.6, 1.3])"
      ]
     },
     "execution_count": 61,
     "metadata": {},
     "output_type": "execute_result"
    }
   ],
   "source": [
    "import numpy as np\n",
    "x = np.array([[1.0, 1.0], [2.0, -2.0], \n",
    "             [-1.0, -1.5], [-2.0, -1.0],\n",
    "             [-2.0, 1.0], [1.5, -0.5]])\n",
    "X = np.c_[np.ones(len(x)), x]\n",
    "y = np.array([1, -1, -1, -1, 1, 1])\n",
    "#w = np.random.random((X.shape[1], 1))\n",
    "w = np.array([0.0, 1.0, 0.5])\n",
    "W = perceptronV2(X, y, w, eta=0.2, epochs=6)\n",
    "W"
   ]
  },
  {
   "cell_type": "code",
   "execution_count": null,
   "metadata": {},
   "outputs": [],
   "source": []
  }
 ],
 "metadata": {
  "kernelspec": {
   "display_name": "Python 3",
   "language": "python",
   "name": "python3"
  },
  "language_info": {
   "codemirror_mode": {
    "name": "ipython",
    "version": 3
   },
   "file_extension": ".py",
   "mimetype": "text/x-python",
   "name": "python",
   "nbconvert_exporter": "python",
   "pygments_lexer": "ipython3",
   "version": "3.8.3"
  }
 },
 "nbformat": 4,
 "nbformat_minor": 4
}
